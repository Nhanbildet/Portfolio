{
 "cells": [
  {
   "cell_type": "code",
   "execution_count": null,
   "metadata": {},
   "outputs": [],
   "source": [
    "import requests\n",
    "from bs4 import BeautifulSoup\n",
    "import pandas as pd"
   ]
  },
  {
   "cell_type": "markdown",
   "metadata": {},
   "source": [
    "WEBSCRAPING RESTEAUX 3 ETOILS(url et nom de restautant)"
   ]
  },
  {
   "cell_type": "code",
   "execution_count": null,
   "metadata": {},
   "outputs": [],
   "source": [
    "#Webcraping page 1 de restaurant 3 etoils\n",
    "\n",
    "headers = {'User-Agent': 'Mozilla/5.0 (Windows NT 10.0; x64) AppleWebKit/537.36 (KHTML, like Gecko) Chrome/90.0.4430.212 Safari/537.36',\n",
    "'Accept-Language': 'en-US, en;q=0.5'}\n",
    "url ='https://guide.michelin.com/fr/fr/selection/france/restaurants/3-etoiles-michelin'\n",
    "reponse = requests.get(url, headers= headers)\n",
    "soup = BeautifulSoup(reponse.text,'html.parser' )\n",
    "links = soup.find_all('a', {'aria-label': True, \"data-country\" : \"fr\"})\n",
    "df_link = pd.DataFrame({\n",
    "        \"href\": [link.get('href') for link in links],\n",
    "        \"name\": [link.get('aria-label') for link in links]\n",
    "    })\n",
    "df_restaux31 = df_link.loc[df_link['href'].str.contains(\"restaurant\")]\n",
    "df_restaux31\n",
    "\n",
    " "
   ]
  },
  {
   "cell_type": "code",
   "execution_count": 4,
   "metadata": {},
   "outputs": [],
   "source": [
    "#Creer une fonction pour scraper le lien et le nom de restautant\n",
    "def scraper(url): \n",
    "    headers = {'User-Agent': 'Mozilla/5.0 (Windows NT 10.0; x64) AppleWebKit/537.36 (KHTML, like Gecko) Chrome/90.0.4430.212 Safari/537.36',\n",
    "'Accept-Language': 'en-US, en;q=0.5'}\n",
    "    reponse = requests.get(url, headers= headers)\n",
    "    soup = BeautifulSoup(reponse.text,'html.parser' )\n",
    "    links = soup.find_all('a', {'aria-label': True, \"data-country\" : \"fr\"})\n",
    "    df_link = pd.DataFrame({\n",
    "        \"href\": [link.get('href') for link in links],\n",
    "        \"name\": [link.get('aria-label') for link in links]\n",
    "    })\n",
    "    df_restaux = df_link.loc[df_link['href'].str.contains(\"restaurant\")] \n",
    "    return df_restaux\n"
   ]
  },
  {
   "cell_type": "code",
   "execution_count": null,
   "metadata": {},
   "outputs": [],
   "source": [
    "# scraper page 2 des restaurant 3 etoils\n",
    "url ='https://guide.michelin.com/fr/fr/selection/france/restaurants/3-etoiles-michelin/page/2'\n",
    "df_restaux32 = scraper(url)\n",
    "df_restaux32"
   ]
  },
  {
   "cell_type": "code",
   "execution_count": null,
   "metadata": {},
   "outputs": [],
   "source": [
    "#créer un dataframe pour restaurant 3 etoils\n",
    "df_restaux3 = pd.concat([df_restaux31,df_restaux2]).reset_index()\n",
    "df_restaux3['etoile'] = 3\n",
    "df_restaux3"
   ]
  },
  {
   "cell_type": "markdown",
   "metadata": {},
   "source": [
    "WEBSCRAPING RESTEAUX 2 ETOILS / 74"
   ]
  },
  {
   "cell_type": "code",
   "execution_count": null,
   "metadata": {},
   "outputs": [],
   "source": [
    "#Scraper page1 de restaux 2 etoils\n",
    "url ='https://guide.michelin.com/fr/fr/selection/france/restaurants/2-etoiles-michelin'\n",
    "df_restaux20 = scraper(url)\n",
    "\n",
    "# Créer un fonction pour créer le url de page\n",
    "def url(x):\n",
    "    list_url = []\n",
    "    for i in range(2,x+1):\n",
    "        url= f'https://guide.michelin.com/fr/fr/selection/france/restaurants/2-etoiles-michelin/page/{i}'\n",
    "        list_url.append(url)\n",
    "    return list_url\n",
    "\n",
    "print('fonction url ok')\n",
    "\n",
    "#Scraper 4 page de restaux 2 etoils\n",
    "\n",
    "df_restaux2etoils = df_restaux20\n",
    "for url in url(4): \n",
    "    df_scrape = scraper(url)\n",
    "    df_restaux2etoils = pd.concat([df_restaux2etoils,df_scrape])\n",
    "df_restaux2etoils['etoile'] = 2 \n",
    "df_restaux2etoils.info()\n",
    "\n",
    "print('Finir scraper touts des restaux 2 etoils')"
   ]
  },
  {
   "cell_type": "markdown",
   "metadata": {},
   "source": [
    "WEBSCRAPING RESTEAUX 1 ETOILS 26 PAGE"
   ]
  },
  {
   "cell_type": "code",
   "execution_count": null,
   "metadata": {},
   "outputs": [],
   "source": [
    "#page1:\n",
    "url ='https://guide.michelin.com/fr/fr/selection/france/restaurants/1-etoile-michelin'\n",
    "df_restaux10 =  scraper(url)\n",
    "df_restaux10\n",
    "\n",
    "#fonction de url:\n",
    "def url(x):\n",
    "    list_url = []\n",
    "    for i in range(2,x+1):\n",
    "        url= f'https://guide.michelin.com/fr/fr/selection/france/restaurants/1-etoile-michelin/page/{i}'\n",
    "        list_url.append(url)\n",
    "    return list_url\n",
    "\n",
    "#scraper 26 page des restaux 1 etoils:\n",
    "\n",
    "df_restaux1etoils = df_restaux10\n",
    "for url in url(26): \n",
    "    df_scrape = scraper(url)\n",
    "    df_restaux1etoils = pd.concat([df_restaux1etoils,df_scrape])\n",
    "df_restaux1etoils['etoile'] = 1\n"
   ]
  },
  {
   "cell_type": "markdown",
   "metadata": {},
   "source": [
    "WEBSCRAPING RESTEAUX SANS ETOIL MAIS QUALIFIER PAR MICHELIN"
   ]
  },
  {
   "cell_type": "code",
   "execution_count": null,
   "metadata": {},
   "outputs": [],
   "source": [
    "#page1:\n",
    "url ='https://guide.michelin.com/fr/fr/selection/france/restaurants/assiette-michelin'\n",
    "df_assiet=scraper(url)\n",
    "df_assiet\n",
    "\n",
    "def url(x):\n",
    "    list_url = []\n",
    "    for i in range(2,x+1):\n",
    "        url= f'https://guide.michelin.com/fr/fr/selection/france/restaurants/assiette-michelin/page/{i}'\n",
    "        list_url.append(url)\n",
    "    return list_url\n",
    "df_restaux = df_assiet\n",
    "for url in url(100): \n",
    "    df_scrape = scraper(url)\n",
    "    df_restaux = pd.concat([df_restaux,df_scrape])\n",
    "df_restaux['etoile'] = \"A\"\n",
    "df_restaux.head(3)"
   ]
  },
  {
   "cell_type": "markdown",
   "metadata": {},
   "source": [
    "créer un base de données avec url, nom de restaux et etoils. Nome de base de données: datalink.csv (2608 restaux)"
   ]
  },
  {
   "cell_type": "code",
   "execution_count": null,
   "metadata": {},
   "outputs": [],
   "source": [
    "df = pd.concat([pd.concat([pd.concat([df_restaux1etoils, df_restaux]), df_restaux2etoils]), df_restaux3])\n",
    "df\n"
   ]
  },
  {
   "cell_type": "code",
   "execution_count": 180,
   "metadata": {},
   "outputs": [],
   "source": [
    "df['Nom'] = df['name'].apply(lambda x: x.replace(\"Open\",\"\"))\n",
    "df.drop(columns=['index','name']).to_csv('datalink.csv',sep=\",\")"
   ]
  },
  {
   "cell_type": "code",
   "execution_count": 3,
   "metadata": {},
   "outputs": [
    {
     "name": "stdout",
     "output_type": "stream",
     "text": [
      "<class 'pandas.core.frame.DataFrame'>\n",
      "RangeIndex: 2608 entries, 0 to 2607\n",
      "Data columns (total 4 columns):\n",
      " #   Column      Non-Null Count  Dtype \n",
      "---  ------      --------------  ----- \n",
      " 0   Unnamed: 0  2608 non-null   int64 \n",
      " 1   href        2608 non-null   object\n",
      " 2   etoile      2608 non-null   object\n",
      " 3   Nom         2608 non-null   object\n",
      "dtypes: int64(1), object(3)\n",
      "memory usage: 81.6+ KB\n"
     ]
    }
   ],
   "source": [
    "import pandas as pd\n",
    "dftest = pd.read_csv('datalink.csv',sep=\",\")\n",
    "dftest.info()"
   ]
  },
  {
   "cell_type": "markdown",
   "metadata": {},
   "source": [
    "autre base de données de restaurant sur website Michelin ( pouvoir avoir une reservation online)"
   ]
  },
  {
   "cell_type": "code",
   "execution_count": null,
   "metadata": {},
   "outputs": [],
   "source": [
    "url = 'https://guide.michelin.com/fr/fr/selection/france/restaurants'\n",
    "\n",
    "page10 = scraper(url)\n",
    "page10 "
   ]
  },
  {
   "cell_type": "code",
   "execution_count": 184,
   "metadata": {},
   "outputs": [
    {
     "name": "stdout",
     "output_type": "stream",
     "text": [
      "<class 'pandas.core.frame.DataFrame'>\n",
      "Index: 2982 entries, 0 to 1\n",
      "Data columns (total 2 columns):\n",
      " #   Column  Non-Null Count  Dtype \n",
      "---  ------  --------------  ----- \n",
      " 0   href    2982 non-null   object\n",
      " 1   name    2982 non-null   object\n",
      "dtypes: object(2)\n",
      "memory usage: 69.9+ KB\n"
     ]
    }
   ],
   "source": [
    "def url(x):\n",
    "    list_url = []\n",
    "    for i in range(2,x+1):\n",
    "        url= f'https://guide.michelin.com/fr/fr/selection/france/restaurants/page/{i}'\n",
    "        list_url.append(url)\n",
    "    return list_url\n",
    "\n",
    "df_restaux = page10\n",
    "for url in url(150): \n",
    "    df_scrape = scraper(url)\n",
    "    df_restaux = pd.concat([df_restaux,df_scrape])\n",
    "df_restaux.info()\n"
   ]
  },
  {
   "cell_type": "code",
   "execution_count": 185,
   "metadata": {},
   "outputs": [],
   "source": [
    "df_restaux.to_csv('dataset3.csv',sep=',')"
   ]
  },
  {
   "cell_type": "code",
   "execution_count": null,
   "metadata": {},
   "outputs": [],
   "source": [
    "url = 'https://guide.michelin.com/fr/fr/restaurants/online-reservation'\n",
    "\n",
    "Reservation1 = scraper(url)\n",
    "Reservation1\n"
   ]
  },
  {
   "cell_type": "code",
   "execution_count": null,
   "metadata": {},
   "outputs": [],
   "source": [
    "def url(x):\n",
    "    list_url = []\n",
    "    for i in range(2,x+1):\n",
    "        url= f'https://guide.michelin.com/fr/fr/restaurants/online-reservation/page/{i}'\n",
    "        list_url.append(url)\n",
    "    return list_url\n",
    "\n",
    "df_reservation = Reservation1\n",
    "for url in url(233): \n",
    "    df_scrape = scraper(url)\n",
    "    df_reservation = pd.concat([df_restaux,df_scrape])\n",
    "df_reservation"
   ]
  },
  {
   "cell_type": "code",
   "execution_count": 191,
   "metadata": {},
   "outputs": [],
   "source": [
    "df_reservation.to_csv('dataset4.csv',sep=',')\n",
    "\n"
   ]
  },
  {
   "cell_type": "markdown",
   "metadata": {},
   "source": [
    "WEB SCRAPER LES INFORMATION DETAIL DES RESTAUX\n"
   ]
  },
  {
   "cell_type": "markdown",
   "metadata": {},
   "source": [
    "fonction pour scraper: Nom de restaurant, numbre de étoiles, style de cusine, address"
   ]
  },
  {
   "cell_type": "code",
   "execution_count": 201,
   "metadata": {},
   "outputs": [
    {
     "data": {
      "text/html": [
       "<div>\n",
       "<style scoped>\n",
       "    .dataframe tbody tr th:only-of-type {\n",
       "        vertical-align: middle;\n",
       "    }\n",
       "\n",
       "    .dataframe tbody tr th {\n",
       "        vertical-align: top;\n",
       "    }\n",
       "\n",
       "    .dataframe thead th {\n",
       "        text-align: right;\n",
       "    }\n",
       "</style>\n",
       "<table border=\"1\" class=\"dataframe\">\n",
       "  <thead>\n",
       "    <tr style=\"text-align: right;\">\n",
       "      <th></th>\n",
       "      <th>Adress</th>\n",
       "      <th>Cusine</th>\n",
       "      <th>Derssert</th>\n",
       "      <th>étoils cusine</th>\n",
       "      <th>Url</th>\n",
       "    </tr>\n",
       "  </thead>\n",
       "  <tbody>\n",
       "    <tr>\n",
       "      <th>0</th>\n",
       "      <td>728 route de Villerest, Ouches, 42155, France</td>\n",
       "      <td>Cuisine créative</td>\n",
       "      <td>Une expérience sucrée unique, un pâtissier tal...</td>\n",
       "      <td>Trois étoiles : une cuisine unique</td>\n",
       "      <td>https://guide.michelin.com/fr/fr/auvergne-rhon...</td>\n",
       "    </tr>\n",
       "  </tbody>\n",
       "</table>\n",
       "</div>"
      ],
      "text/plain": [
       "                                          Adress            Cusine  \\\n",
       "0  728 route de Villerest, Ouches, 42155, France  Cuisine créative   \n",
       "\n",
       "                                            Derssert  \\\n",
       "0  Une expérience sucrée unique, un pâtissier tal...   \n",
       "\n",
       "                        étoils cusine  \\\n",
       "0  Trois étoiles : une cuisine unique   \n",
       "\n",
       "                                                 Url  \n",
       "0  https://guide.michelin.com/fr/fr/auvergne-rhon...  "
      ]
     },
     "execution_count": 201,
     "metadata": {},
     "output_type": "execute_result"
    }
   ],
   "source": [
    "#fonction pour address, telephone, style de  cusine, \n",
    "def title(url):\n",
    "    headers = {'User-Agent': 'Mozilla/5.0 (Windows NT 10.0; x64) AppleWebKit/537.36 (KHTML, like Gecko) Chrome/90.0.4430.212 Safari/537.36',\n",
    "'Accept-Language': 'en-US, en;q=0.5'}\n",
    "    response = requests.get(url, headers= headers)\n",
    "    soup = BeautifulSoup(response.text,'html.parser')\n",
    "    soup_restaurant = soup.find_all(\"div\",{ \"class\":\"data-sheet__classification-item--content\" })\n",
    "    soup_location = soup.find_all(\"div\",{ \"class\":\"data-sheet__block--text\" })\n",
    "    if soup_restaurant:\n",
    "        etoile_cusine =soup_restaurant[1].get_text().replace(\"\\n\",\"\").lstrip().rstrip()\n",
    "        dessert = soup_restaurant[-1].get_text().replace(\"\\n\",\"\").lstrip().rstrip()\n",
    "    else:\n",
    "        etoile_cusine = \"0\"\n",
    "        dessert = \"0\"\n",
    "    \n",
    "    if soup_location:    \n",
    "        add = soup_location[0].get_text().replace(\"\\n\",\"\").lstrip().rstrip()\n",
    "        style_cusine = soup_location[1].get_text().replace(\"\\n\",\"\").replace(\" €€€€\",\"\").replace(\"·\",\"\").lstrip().rstrip() \n",
    "    else:\n",
    "        add = \"0\"\n",
    "        style_cusine = \"0\"\n",
    "    df_title = pd.DataFrame({\"Adress\": add,\n",
    "                         \"Cusine\" : style_cusine,\n",
    "                         \"Derssert\" : dessert,\n",
    "                         \"étoils cusine\" : etoile_cusine,\n",
    "                         \"Url\" : url\n",
    "                         },index=[0])\n",
    "    return df_title\n",
    "\n",
    "url = 'https://guide.michelin.com/fr/fr/auvergne-rhone-alpes/ouches/restaurant/troisgros-le-bois-sans-feuilles'\n",
    "df_title =  title(url)\n",
    "df_title"
   ]
  },
  {
   "cell_type": "code",
   "execution_count": 205,
   "metadata": {},
   "outputs": [
    {
     "name": "stdout",
     "output_type": "stream",
     "text": [
      "fonction description est bonne\n"
     ]
    }
   ],
   "source": [
    "#fonction description des resteaux:\n",
    "def description(url): \n",
    "    headers = {'User-Agent': 'Mozilla/5.0 (Windows NT 10.0; x64) AppleWebKit/537.36 (KHTML, like Gecko) Chrome/90.0.4430.212 Safari/537.36',\n",
    "'Accept-Language': 'en-US, en;q=0.5'}\n",
    "    response = requests.get(url, headers= headers)\n",
    "    soup = BeautifulSoup(response.text,'html.parser')\n",
    "    soup_discription = soup.find_all(\"div\",{ \"class\":\"data-sheet__description\" })\n",
    "    if soup_discription:\n",
    "        description = soup_discription[0].get_text().replace(\"\\n\",\"\")\n",
    "        return description\n",
    "    else:\n",
    "        return \"0\"\n",
    "\n",
    "url = 'https://guide.michelin.com/fr/fr/auvergne-rhone-alpes/ouches/restaurant/troisgros-le-bois-sans-feuilles'\n",
    "description(url)\n",
    "print(f'fonction description est bonne')"
   ]
  },
  {
   "cell_type": "code",
   "execution_count": 206,
   "metadata": {},
   "outputs": [
    {
     "name": "stdout",
     "output_type": "stream",
     "text": [
      "fonction Telephone est bonne\n"
     ]
    }
   ],
   "source": [
    "#fonction telephone\n",
    "def telephone(url):\n",
    "    headers = {'User-Agent': 'Mozilla/5.0 (Windows NT 10.0; x64) AppleWebKit/537.36 (KHTML, like Gecko) Chrome/90.0.4430.212 Safari/537.36',\n",
    "'Accept-Language': 'en-US, en;q=0.5'}\n",
    "    response = requests.get(url, headers= headers)\n",
    "    soup = BeautifulSoup(response.text,'html.parser')\n",
    "    soup_telephone = soup.find_all(\"a\", class_= \"btn btn-sm btn-black-border btn-round filter-icon phone d-flex js-dtm-link\")\n",
    "    if soup_telephone: \n",
    "        telephone = soup_telephone[0].get_text().replace(\"\\n\",\"\").lstrip().rstrip()\n",
    "        return telephone\n",
    "    else:\n",
    "        return \"0\"\n",
    "    \n",
    "url = 'https://guide.michelin.com/fr/fr/auvergne-rhone-alpes/ouches/restaurant/troisgros-le-bois-sans-feuilles'\n",
    "telephone(url)\n",
    "print(f'fonction Telephone est bonne')"
   ]
  },
  {
   "cell_type": "code",
   "execution_count": 4,
   "metadata": {},
   "outputs": [
    {
     "name": "stdout",
     "output_type": "stream",
     "text": [
      "Fonction website est bon\n"
     ]
    }
   ],
   "source": [
    "#fonction website de restautant\n",
    "\n",
    "def website(url):\n",
    "    headers = {\n",
    "    'User-Agent': 'Mozilla/5.0 (Windows NT 10.0; x64) AppleWebKit/537.36 (KHTML, like Gecko) Chrome/90.0.4430.212 Safari/537.36',\n",
    "    'Accept-Language': 'en-US, en;q=0.5'\n",
    "    }\n",
    "    response = requests.get(url, headers=headers)\n",
    "    soup = BeautifulSoup(response.text, 'html.parser')\n",
    "    soup_restaurant = soup.find_all(\"a\", class_=\"btn btn-sm btn-black-border btn-round filter-icon arrow-up d-flex js-dtm-link\")\n",
    "    if soup_restaurant: \n",
    "        href = soup_restaurant[0].get(\"href\")   \n",
    "        return href\n",
    "    else:\n",
    "        return \"0\"\n",
    "url = 'https://guide.michelin.com/fr/fr/auvergne-rhone-alpes/ouches/restaurant/troisgros-le-bois-sans-feuilles'\n",
    "website(url)\n",
    "print(f'Fonction website est bon')"
   ]
  },
  {
   "cell_type": "code",
   "execution_count": null,
   "metadata": {},
   "outputs": [],
   "source": [
    "df_title = df_title\n",
    "for href in sorted(dftest['href']):\n",
    "    url = \"https://guide.michelin.com/\"+ href\n",
    "    df_new = title(url)\n",
    "    df_title = pd.concat([df_title,df_new])\n",
    "\n",
    "df_title"
   ]
  },
  {
   "cell_type": "markdown",
   "metadata": {},
   "source": [
    "FONCTION POUR SCRAPER: website, telephone, description, "
   ]
  },
  {
   "cell_type": "code",
   "execution_count": 217,
   "metadata": {},
   "outputs": [
    {
     "name": "stdout",
     "output_type": "stream",
     "text": [
      "              Telephone                                            Website  \\\n",
      "0     +33 4 58 39 01 30                   https://www.aillon-ailleurs.com/   \n",
      "1     +33 4 70 64 18 48                       https://www.dorangeville.fr/   \n",
      "2     +33 4 56 57 11 96                    https://www.restaurant-le59.fr/   \n",
      "3     +33 4 79 61 21 09                          http://www.galliahotel.fr   \n",
      "4     +33 4 79 32 25 15                       https://www.hotelmillion.fr/   \n",
      "...                 ...                                                ...   \n",
      "2603  +33 4 93 01 71 39                      https://www.meregermaine.com/   \n",
      "2604  +33 4 93 20 59 02    https://www.restaurantlaflibuste.fr/laflibuste/   \n",
      "2605  +33 4 93 41 12 24                        https://www.chateaueza.com/   \n",
      "2606  +33 4 92 10 66 61                         https://www.chevredor.com/   \n",
      "2607  +33 4 92 10 66 61  http://www.chevredor.fr/restaurants-bars/resta...   \n",
      "\n",
      "                                                    URL  \\\n",
      "0     /fr/fr/auvergne-rhone-alpes/aillon-le-jeune/re...   \n",
      "1     /fr/fr/auvergne-rhone-alpes/ainay-le-chateau/r...   \n",
      "2     /fr/fr/auvergne-rhone-alpes/aix-les-bains/rest...   \n",
      "3     /fr/fr/auvergne-rhone-alpes/aix-les-bains/rest...   \n",
      "4     /fr/fr/auvergne-rhone-alpes/albertville/restau...   \n",
      "...                                                 ...   \n",
      "2603  /fr/fr/provence-alpes-cote-dazur/villefranche-...   \n",
      "2604  /fr/fr/provence-alpes-cote-dazur/villeneuve-lo...   \n",
      "2605  /fr/fr/provence-alpes-cote-dazur/ze/restaurant...   \n",
      "2606  /fr/fr/provence-alpes-cote-dazur/ze/restaurant...   \n",
      "2607  /fr/fr/provence-alpes-cote-dazur/ze/restaurant...   \n",
      "\n",
      "                                            Description  \n",
      "0     Dans le massif des Bauges, havre de nature pré...  \n",
      "1     Au cœur d’un charmant village médiéval, dans u...  \n",
      "2     Dans la famille Campanella, je demande... le f...  \n",
      "3     Sur les hauteurs du centre-ville, ce petit hôt...  \n",
      "4     Une hostellerie familiale qui cultive la tradi...  \n",
      "...                                                 ...  \n",
      "2603  Poisson frais et fruits de mer depuis 1938 : l...  \n",
      "2604  Dans ce restaurant entièrement vitré qui trône...  \n",
      "2605  Attention, lieu magique. Il y a le panorama éb...  \n",
      "2606  Le Château de la Chèvre d'Or jouit d'un site d...  \n",
      "2607  Cette table nichée au sein de la Chèvre d'Or s...  \n",
      "\n",
      "[2608 rows x 4 columns]\n"
     ]
    }
   ],
   "source": [
    "dftest = pd.read_csv('datalink.csv',sep=\",\")\n",
    "# Définition des fonctions\n",
    "def get_website(url):\n",
    "    headers = {\n",
    "        'User-Agent': 'Mozilla/5.0 (Windows NT 10.0; x64) AppleWebKit/537.36 (KHTML, like Gecko) Chrome/90.0.4430.212 Safari/537.36',\n",
    "        'Accept-Language': 'en-US, en;q=0.5'\n",
    "    }\n",
    "    response = requests.get(url, headers=headers)\n",
    "    soup = BeautifulSoup(response.text, 'html.parser')\n",
    "    soup_restaurant = soup.find_all(\"a\", class_=\"btn btn-sm btn-black-border btn-round filter-icon arrow-up d-flex js-dtm-link\")\n",
    "    if soup_restaurant: \n",
    "        return soup_restaurant[0].get(\"href\")   \n",
    "    else: \n",
    "        return \"0\"\n",
    "\n",
    "def get_telephone(url):\n",
    "    headers = {\n",
    "        'User-Agent': 'Mozilla/5.0 (Windows NT 10.0; x64) AppleWebKit/537.36 (KHTML, like Gecko) Chrome/90.0.4430.212 Safari/537.36',\n",
    "        'Accept-Language': 'en-US, en;q=0.5'\n",
    "    }\n",
    "    response = requests.get(url, headers=headers)\n",
    "    soup = BeautifulSoup(response.text, 'html.parser')\n",
    "    soup_telephone = soup.find_all(\"a\", class_=\"btn btn-sm btn-black-border btn-round filter-icon phone d-flex js-dtm-link\")\n",
    "    if soup_telephone: \n",
    "        return soup_telephone[0].get_text(strip=True)\n",
    "    else:\n",
    "        return \"0\"\n",
    "\n",
    "def get_description(url): \n",
    "    headers = {\n",
    "        'User-Agent': 'Mozilla/5.0 (Windows NT 10.0; x64) AppleWebKit/537.36 (KHTML, like Gecko) Chrome/90.0.4430.212 Safari/537.36',\n",
    "        'Accept-Language': 'en-US, en;q=0.5'\n",
    "    }\n",
    "    response = requests.get(url, headers=headers)\n",
    "    soup = BeautifulSoup(response.text, 'html.parser')\n",
    "    soup_description = soup.find_all(\"div\", {\"class\": \"data-sheet__description\"})\n",
    "    if soup_description:\n",
    "        return soup_description[0].get_text(strip=True)\n",
    "    else:\n",
    "        return \"0\"\n",
    "\n",
    "# Initialisation des listes pour les résultats\n",
    "telephones = []\n",
    "websites = []\n",
    "descriptions = []\n",
    "listhref = sorted(dftest['href'])\n",
    "\n",
    "# Boucle sur les URLs pour extraire les informations\n",
    "\n",
    "for href in listhref:\n",
    "    url = \"https://guide.michelin.com/\" + href\n",
    "    telephones.append(get_telephone(url))\n",
    "    websites.append(get_website(url))\n",
    "    descriptions.append(get_description(url))\n",
    "\n",
    "# Création du DataFrame\n",
    "df_detail = pd.DataFrame({\n",
    "    \"Telephone\": telephones,\n",
    "    \"Website\": websites,\n",
    "    \"URL\": listhref,\n",
    "    \"Description\": descriptions\n",
    "})\n",
    "\n",
    "# Affichage du DataFrame\n",
    "print(df_detail)\n"
   ]
  },
  {
   "cell_type": "markdown",
   "metadata": {},
   "source": [
    "CHERCHER LES PHOTOS POUR CHAQUE RESTAUX"
   ]
  },
  {
   "cell_type": "code",
   "execution_count": 15,
   "metadata": {},
   "outputs": [
    {
     "data": {
      "text/html": [
       "<div>\n",
       "<style scoped>\n",
       "    .dataframe tbody tr th:only-of-type {\n",
       "        vertical-align: middle;\n",
       "    }\n",
       "\n",
       "    .dataframe tbody tr th {\n",
       "        vertical-align: top;\n",
       "    }\n",
       "\n",
       "    .dataframe thead th {\n",
       "        text-align: right;\n",
       "    }\n",
       "</style>\n",
       "<table border=\"1\" class=\"dataframe\">\n",
       "  <thead>\n",
       "    <tr style=\"text-align: right;\">\n",
       "      <th></th>\n",
       "      <th>image 1</th>\n",
       "      <th>url</th>\n",
       "    </tr>\n",
       "  </thead>\n",
       "  <tbody>\n",
       "    <tr>\n",
       "      <th>0</th>\n",
       "      <td>https://axwwgrkdco.cloudimg.io/v7/__gmpics3__/...</td>\n",
       "      <td>fr/fr/auvergne-rhone-alpes/vonnas/restaurant/g...</td>\n",
       "    </tr>\n",
       "    <tr>\n",
       "      <th>0</th>\n",
       "      <td>https://axwwgrkdco.cloudimg.io/v7/__gmpics3__/...</td>\n",
       "      <td>/fr/fr/auvergne-rhone-alpes/aillon-le-jeune/re...</td>\n",
       "    </tr>\n",
       "    <tr>\n",
       "      <th>0</th>\n",
       "      <td>https://axwwgrkdco.cloudimg.io/v7/__gmpics3__/...</td>\n",
       "      <td>/fr/fr/auvergne-rhone-alpes/ainay-le-chateau/r...</td>\n",
       "    </tr>\n",
       "  </tbody>\n",
       "</table>\n",
       "</div>"
      ],
      "text/plain": [
       "                                             image 1  \\\n",
       "0  https://axwwgrkdco.cloudimg.io/v7/__gmpics3__/...   \n",
       "0  https://axwwgrkdco.cloudimg.io/v7/__gmpics3__/...   \n",
       "0  https://axwwgrkdco.cloudimg.io/v7/__gmpics3__/...   \n",
       "\n",
       "                                                 url  \n",
       "0  fr/fr/auvergne-rhone-alpes/vonnas/restaurant/g...  \n",
       "0  /fr/fr/auvergne-rhone-alpes/aillon-le-jeune/re...  \n",
       "0  /fr/fr/auvergne-rhone-alpes/ainay-le-chateau/r...  "
      ]
     },
     "execution_count": 15,
     "metadata": {},
     "output_type": "execute_result"
    }
   ],
   "source": [
    "#FONCTION POUR SCRAPER LES PHOTOS\n",
    "import re\n",
    "def image(href):\n",
    "    headers = {\n",
    "        'User-Agent': 'Mozilla/5.0 (Windows NT 10.0; x64) AppleWebKit/537.36 (KHTML, like Gecko) Chrome/90.0.4430.212 Safari/537.36',\n",
    "        'Accept-Language': 'en-US, en;q=0.5'\n",
    "    }\n",
    "    url = \"https://guide.michelin.com/\" + href \n",
    "    response = requests.get(url, headers=headers) \n",
    "    soup = BeautifulSoup(response.text, 'html.parser')\n",
    "    soup_image = soup.find_all(\"div\", {\"class\": \"masthead__gallery-image-item\"} )\n",
    "    regex = r'src=\"(https?://[^\\s\"]+\\.(?:jpg|jpeg|png|webp))'\n",
    "    image = re.findall(regex,str(soup_image))\n",
    "    if len(image) >= 1:\n",
    "        image = image[0]\n",
    "    else:\n",
    "        image = \"0\" \n",
    "    df_image = pd.DataFrame({\"image 1\": image,\n",
    "                             \"url\" : href },index=[0] )\n",
    "    return df_image\n",
    "\n",
    "href =\"fr/fr/auvergne-rhone-alpes/vonnas/restaurant/georges-blanc\"\n",
    "df_image = image(href)\n",
    "df_image\n",
    "\n",
    "df_photolink = df_image\n",
    "\n",
    "for href in sorted(dftest['href']):\n",
    "    df_scrape = image(href)\n",
    "    df_photolink = pd.concat([df_photolink,df_scrape])\n",
    "df_photolink.head(3)\n"
   ]
  },
  {
   "cell_type": "code",
   "execution_count": 293,
   "metadata": {},
   "outputs": [],
   "source": [
    "df_photolink['url']=df_photolink['url'].apply(lambda x:x.replace(\"https://guide.michelin.com/\",\"\"))"
   ]
  },
  {
   "cell_type": "code",
   "execution_count": 20,
   "metadata": {},
   "outputs": [
    {
     "name": "stdout",
     "output_type": "stream",
     "text": [
      "<class 'pandas.core.frame.DataFrame'>\n",
      "Index: 2609 entries, 0 to 0\n",
      "Data columns (total 2 columns):\n",
      " #   Column   Non-Null Count  Dtype \n",
      "---  ------   --------------  ----- \n",
      " 0   image 1  2609 non-null   object\n",
      " 1   url      2609 non-null   object\n",
      "dtypes: object(2)\n",
      "memory usage: 61.1+ KB\n"
     ]
    }
   ],
   "source": [
    "df_photolink.to_csv('df_photolink.csv',sep= ',')\n",
    "df_photolink.info()"
   ]
  },
  {
   "cell_type": "markdown",
   "metadata": {},
   "source": [
    "FINIR SCRAPER ICI"
   ]
  },
  {
   "cell_type": "code",
   "execution_count": 6,
   "metadata": {},
   "outputs": [
    {
     "name": "stdout",
     "output_type": "stream",
     "text": [
      "<class 'pandas.core.frame.DataFrame'>\n",
      "RangeIndex: 2608 entries, 0 to 2607\n",
      "Data columns (total 12 columns):\n",
      " #   Column         Non-Null Count  Dtype \n",
      "---  ------         --------------  ----- \n",
      " 0   Unnamed: 0     2608 non-null   int64 \n",
      " 1   etoile         2608 non-null   object\n",
      " 2   Nom            2608 non-null   object\n",
      " 3   Telephone      2608 non-null   object\n",
      " 4   Adress         2608 non-null   object\n",
      " 5   Façon Cuisine  2608 non-null   object\n",
      " 6   Description    2608 non-null   object\n",
      " 7   Derssert       2608 non-null   object\n",
      " 8   étoils cusine  2608 non-null   object\n",
      " 9   Website        2608 non-null   object\n",
      " 10  href           2608 non-null   object\n",
      " 11  image 1        2608 non-null   object\n",
      "dtypes: int64(1), object(11)\n",
      "memory usage: 244.6+ KB\n"
     ]
    }
   ],
   "source": [
    "data = pd.read_csv('data_restaux_michelin.csv',sep=',')\n",
    "data.info()"
   ]
  },
  {
   "cell_type": "code",
   "execution_count": 26,
   "metadata": {},
   "outputs": [
    {
     "name": "stdout",
     "output_type": "stream",
     "text": [
      "<class 'pandas.core.frame.DataFrame'>\n",
      "RangeIndex: 2608 entries, 0 to 2607\n",
      "Data columns (total 11 columns):\n",
      " #   Column         Non-Null Count  Dtype \n",
      "---  ------         --------------  ----- \n",
      " 0   etoile         2608 non-null   object\n",
      " 1   Nom            2608 non-null   object\n",
      " 2   Telephone      2608 non-null   object\n",
      " 3   Adress         2608 non-null   object\n",
      " 4   Façon Cuisine  2608 non-null   object\n",
      " 5   Description    2608 non-null   object\n",
      " 6   Derssert       2608 non-null   object\n",
      " 7   étoils cusine  2608 non-null   object\n",
      " 8   Website        2608 non-null   object\n",
      " 9   href           2608 non-null   object\n",
      " 10  image 1_y      2608 non-null   object\n",
      "dtypes: object(11)\n",
      "memory usage: 224.3+ KB\n"
     ]
    }
   ],
   "source": [
    "data = datafinal.drop(columns=['image 1_x','url','Unnamed: 0'])\n",
    "data.to_csv('data_michelin.csv',sep=',')\n",
    "data.head()"
   ]
  },
  {
   "cell_type": "code",
   "execution_count": 4,
   "metadata": {},
   "outputs": [
    {
     "data": {
      "text/plain": [
       "<html lang=\"en\"><head><title>thefork.fr</title><style>#cmsg{animation: A 1.5s;}@keyframes A{0%{opacity:0;}99%{opacity:0;}100%{opacity:1;}}</style></head><body style=\"margin:0\"><p id=\"cmsg\">Please enable JS and disable any ad blocker</p><script data-cfasync=\"false\">var dd={'rt':'c','cid':'AHrlqAAAAAMAv9m3Kk6jvSEA2W3JLA==','hsh':'4980A61279181687DE605B235F81B9','t':'bv','qp':'','s':326,'e':'1ad79829ebe57dd5df109ad8825f3e0880ba132f98552fc5c81bfd4e7e50b323','host':'geo.captcha-delivery.com','cookie':'M66x9SGM~hMtht18ly98xBoSQXkVeHbuyRPlohzwQKiVtL8Dkoofs4wKM61HxJ2epXivqT5gm3TbSiYX4LdmyKyaiz4sXw_1RvlSXOTrSpeDSSoTsbRgCWIjmopljPB5'}</script><script data-cfasync=\"false\" src=\"https://ct.captcha-delivery.com/c.js\"></script></body></html>"
      ]
     },
     "execution_count": 4,
     "metadata": {},
     "output_type": "execute_result"
    }
   ],
   "source": [
    "url ='https://www.thefork.fr/restaurant/contraste-r517473'\n",
    "reponse = requests.get(url, headers= headers)\n",
    "soup = BeautifulSoup(reponse.text,'html.parser' )\n",
    "soup "
   ]
  },
  {
   "cell_type": "code",
   "execution_count": 3,
   "metadata": {},
   "outputs": [
    {
     "ename": "SyntaxError",
     "evalue": "invalid syntax (3740390041.py, line 1)",
     "output_type": "error",
     "traceback": [
      "\u001b[1;36m  Cell \u001b[1;32mIn[3], line 1\u001b[1;36m\u001b[0m\n\u001b[1;33m    curl --request GET \\\u001b[0m\n\u001b[1;37m                   ^\u001b[0m\n\u001b[1;31mSyntaxError\u001b[0m\u001b[1;31m:\u001b[0m invalid syntax\n"
     ]
    }
   ],
   "source": [
    "link_main = 'https://api-adresse.data.gouv.fr/search/?q='\n",
    "    link = link_main + adresse_postale.replace(\" \",\"+\")\n",
    "    r = requests.get(link).json()"
   ]
  },
  {
   "cell_type": "code",
   "execution_count": 47,
   "metadata": {},
   "outputs": [
    {
     "name": "stdout",
     "output_type": "stream",
     "text": [
      "{'status': 500, 'msg': 'Whoops, looks like something went wrong!', 'results': None}\n"
     ]
    },
    {
     "data": {
      "text/plain": [
       "{'status': 500,\n",
       " 'msg': 'Whoops, looks like something went wrong!',\n",
       " 'results': None}"
      ]
     },
     "execution_count": 47,
     "metadata": {},
     "output_type": "execute_result"
    }
   ],
   "source": [
    "import requests\n",
    "import json\n",
    "import pandas as pd\n",
    "\n",
    "url = \"https://restaurants222.p.rapidapi.com/reviews\"\n",
    "\n",
    "payload = {\n",
    "\t\"location_id\": \"31555_6448_00011\",\n",
    "\t\"currency\": \"USD\",\n",
    "\t\"language\": \"en_US\",\n",
    "\t\"offset\": \"0\"\n",
    "}\n",
    "headers = {\n",
    "\t\"x-rapidapi-key\": \"52365d0974msh6f91e1db5c7779fp1f358fjsn20513920a0d5\",\n",
    "\t\"x-rapidapi-host\": \"restaurants222.p.rapidapi.com\",\n",
    "\t\"Content-Type\": \"application/x-www-form-urlencoded\"\n",
    "}\n",
    "\n",
    "response = requests.post(url, data=payload, headers=headers)\n",
    "\n",
    "print(response.json())\n",
    "data = json.loads( response.text)\n",
    "data\n"
   ]
  },
  {
   "cell_type": "code",
   "execution_count": null,
   "metadata": {},
   "outputs": [],
   "source": [
    "curl \"https://api-adresse.data.gouv.fr/search/?q=paris&type=street\""
   ]
  },
  {
   "cell_type": "code",
   "execution_count": 42,
   "metadata": {},
   "outputs": [
    {
     "data": {
      "text/plain": [
       "'Very Excelent service!! Must try.. welcome drink is indonesian traditional. Beras kencur with lemon.. Love it so much!'"
      ]
     },
     "execution_count": 42,
     "metadata": {},
     "output_type": "execute_result"
    }
   ],
   "source": [
    "data['results']['data'][1].get('text')"
   ]
  },
  {
   "cell_type": "code",
   "execution_count": 43,
   "metadata": {},
   "outputs": [
    {
     "data": {
      "text/plain": [
       "'Breakfast spread was good had variety of food choices. The staff was friendly and accommodated to our needs. Service was excellent. Rendy was one of the staff who served us both mornings and he always did so with a big smile, making us feel so welcomed! Cappuccino was one of the best ones I’ve had too 😃'"
      ]
     },
     "execution_count": 43,
     "metadata": {},
     "output_type": "execute_result"
    }
   ],
   "source": [
    "data['results']['data'][2].get('text')"
   ]
  },
  {
   "cell_type": "code",
   "execution_count": 44,
   "metadata": {},
   "outputs": [
    {
     "data": {
      "text/plain": [
       "'Clean place, tasty food, diverse menu and outstanding service, a truly satisfying dining experience for everyone ♥️♥️♥️'"
      ]
     },
     "execution_count": 44,
     "metadata": {},
     "output_type": "execute_result"
    }
   ],
   "source": [
    "data['results']['data'][3].get('text')"
   ]
  }
 ],
 "metadata": {
  "kernelspec": {
   "display_name": "base",
   "language": "python",
   "name": "python3"
  },
  "language_info": {
   "codemirror_mode": {
    "name": "ipython",
    "version": 3
   },
   "file_extension": ".py",
   "mimetype": "text/x-python",
   "name": "python",
   "nbconvert_exporter": "python",
   "pygments_lexer": "ipython3",
   "version": "3.12.7"
  }
 },
 "nbformat": 4,
 "nbformat_minor": 2
}

{
  "cells": [
    {
      "cell_type": "markdown",
      "id": "q72dXwaog4h7",
      "metadata": {
        "id": "q72dXwaog4h7"
      },
      "source": [
        "## 1. Setup\n"
      ]
    },
    {
      "cell_type": "markdown",
      "id": "vSvx8LjDp6Yh",
      "metadata": {
        "id": "vSvx8LjDp6Yh"
      },
      "source": [
        "### Import\n",
        "\n",
        "Before moving on to learn pandas first we need to install it and import it. If you install [Anaconda distributions](https://www.anaconda.com/) on your local machine or using [Google Colab](https://research.google.com/colaboratory) then pandas will already be available there, otherwise, you follow this installation process from [pandas official's website](https://pandas.pydata.org/docs/getting_started/install.html)."
      ]
    },
    {
      "cell_type": "code",
      "execution_count": 1,
      "id": "e7dcee3a",
      "metadata": {
        "id": "e7dcee3a"
      },
      "outputs": [],
      "source": [
        "# Importing libraries\n",
        "import numpy as np\n",
        "import pandas as pd"
      ]
    },
    {
      "cell_type": "code",
      "execution_count": 4,
      "id": "CeSsGkTMiMcI",
      "metadata": {
        "id": "CeSsGkTMiMcI"
      },
      "outputs": [],
      "source": [
        "# we can set numbers for how many rows and columns will be displayed\n",
        "pd.set_option('display.min_rows', 10) #default will be 10\n",
        "pd.set_option('display.max_columns', 20)"
      ]
    },
    {
      "cell_type": "markdown",
      "id": "68cb06b1",
      "metadata": {
        "id": "68cb06b1"
      },
      "source": [
        "## 2. Loading Different Data Formats Into a Pandas Data Frame\n",
        "\n",
        "\n"
      ]
    },
    {
      "cell_type": "markdown",
      "id": "qNhba27PwpUa",
      "metadata": {
        "id": "qNhba27PwpUa"
      },
      "source": [
        "### Read CSV file from URL"
      ]
    },
    {
      "cell_type": "code",
      "execution_count": 5,
      "id": "ZdhOBOE7xXW0",
      "metadata": {
        "id": "ZdhOBOE7xXW0",
        "outputId": "114bca69-cf88-41f5-9752-40e2b145b936"
      },
      "outputs": [
        {
          "data": {
            "application/vnd.microsoft.datawrangler.viewer.v0+json": {
              "columns": [
                {
                  "name": "index",
                  "rawType": "int64",
                  "type": "integer"
                },
                {
                  "name": "Transaction_date",
                  "rawType": "object",
                  "type": "string"
                },
                {
                  "name": "Transaction_ID",
                  "rawType": "int64",
                  "type": "integer"
                },
                {
                  "name": "Gender",
                  "rawType": "object",
                  "type": "string"
                },
                {
                  "name": "Age",
                  "rawType": "float64",
                  "type": "float"
                },
                {
                  "name": "Marital_status",
                  "rawType": "object",
                  "type": "string"
                },
                {
                  "name": "State_names",
                  "rawType": "object",
                  "type": "string"
                },
                {
                  "name": "Segment",
                  "rawType": "object",
                  "type": "string"
                },
                {
                  "name": "Employees_status",
                  "rawType": "object",
                  "type": "string"
                },
                {
                  "name": "Payment_method",
                  "rawType": "object",
                  "type": "string"
                },
                {
                  "name": "Referal",
                  "rawType": "float64",
                  "type": "float"
                },
                {
                  "name": "Amount_spent",
                  "rawType": "float64",
                  "type": "float"
                }
              ],
              "conversionMethod": "pd.DataFrame",
              "ref": "ed2aaa52-17af-4bc8-8508-535eee36673c",
              "rows": [
                [
                  "0",
                  "1/1/2019",
                  "151200",
                  "Female",
                  "19.0",
                  "Single",
                  "Kansas",
                  "Basic",
                  "Unemployment",
                  "Other",
                  "1.0",
                  "2051.36"
                ],
                [
                  "1",
                  "1/1/2019",
                  "151201",
                  "Male",
                  "49.0",
                  "Single",
                  "Illinois",
                  "Basic",
                  "self-employed",
                  "Card",
                  "0.0",
                  "544.04"
                ],
                [
                  "2",
                  "1/1/2019",
                  "151202",
                  "Male",
                  "63.0",
                  "Married",
                  "New Mexico",
                  "Basic",
                  "workers",
                  "PayPal",
                  "1.0",
                  "1572.6"
                ]
              ],
              "shape": {
                "columns": 11,
                "rows": 3
              }
            },
            "text/html": [
              "<div>\n",
              "<style scoped>\n",
              "    .dataframe tbody tr th:only-of-type {\n",
              "        vertical-align: middle;\n",
              "    }\n",
              "\n",
              "    .dataframe tbody tr th {\n",
              "        vertical-align: top;\n",
              "    }\n",
              "\n",
              "    .dataframe thead th {\n",
              "        text-align: right;\n",
              "    }\n",
              "</style>\n",
              "<table border=\"1\" class=\"dataframe\">\n",
              "  <thead>\n",
              "    <tr style=\"text-align: right;\">\n",
              "      <th></th>\n",
              "      <th>Transaction_date</th>\n",
              "      <th>Transaction_ID</th>\n",
              "      <th>Gender</th>\n",
              "      <th>Age</th>\n",
              "      <th>Marital_status</th>\n",
              "      <th>State_names</th>\n",
              "      <th>Segment</th>\n",
              "      <th>Employees_status</th>\n",
              "      <th>Payment_method</th>\n",
              "      <th>Referal</th>\n",
              "      <th>Amount_spent</th>\n",
              "    </tr>\n",
              "  </thead>\n",
              "  <tbody>\n",
              "    <tr>\n",
              "      <th>0</th>\n",
              "      <td>1/1/2019</td>\n",
              "      <td>151200</td>\n",
              "      <td>Female</td>\n",
              "      <td>19.0</td>\n",
              "      <td>Single</td>\n",
              "      <td>Kansas</td>\n",
              "      <td>Basic</td>\n",
              "      <td>Unemployment</td>\n",
              "      <td>Other</td>\n",
              "      <td>1.0</td>\n",
              "      <td>2051.36</td>\n",
              "    </tr>\n",
              "    <tr>\n",
              "      <th>1</th>\n",
              "      <td>1/1/2019</td>\n",
              "      <td>151201</td>\n",
              "      <td>Male</td>\n",
              "      <td>49.0</td>\n",
              "      <td>Single</td>\n",
              "      <td>Illinois</td>\n",
              "      <td>Basic</td>\n",
              "      <td>self-employed</td>\n",
              "      <td>Card</td>\n",
              "      <td>0.0</td>\n",
              "      <td>544.04</td>\n",
              "    </tr>\n",
              "    <tr>\n",
              "      <th>2</th>\n",
              "      <td>1/1/2019</td>\n",
              "      <td>151202</td>\n",
              "      <td>Male</td>\n",
              "      <td>63.0</td>\n",
              "      <td>Married</td>\n",
              "      <td>New Mexico</td>\n",
              "      <td>Basic</td>\n",
              "      <td>workers</td>\n",
              "      <td>PayPal</td>\n",
              "      <td>1.0</td>\n",
              "      <td>1572.60</td>\n",
              "    </tr>\n",
              "  </tbody>\n",
              "</table>\n",
              "</div>"
            ],
            "text/plain": [
              "  Transaction_date  Transaction_ID  Gender   Age Marital_status State_names  \\\n",
              "0         1/1/2019          151200  Female  19.0         Single      Kansas   \n",
              "1         1/1/2019          151201    Male  49.0         Single    Illinois   \n",
              "2         1/1/2019          151202    Male  63.0        Married  New Mexico   \n",
              "\n",
              "  Segment Employees_status Payment_method  Referal  Amount_spent  \n",
              "0   Basic     Unemployment          Other      1.0       2051.36  \n",
              "1   Basic    self-employed           Card      0.0        544.04  \n",
              "2   Basic          workers         PayPal      1.0       1572.60  "
            ]
          },
          "execution_count": 5,
          "metadata": {},
          "output_type": "execute_result"
        }
      ],
      "source": [
        "# Read csv file from url\n",
        "url=\"https://github.com/MaskiVal/Html/raw/main/online_store_customer_data.csv\"\n",
        "df = pd.read_csv(url)\n",
        "df.head(3)"
      ]
    },
    {
      "cell_type": "markdown",
      "id": "10a5b306",
      "metadata": {
        "id": "10a5b306"
      },
      "source": [
        "## 3. Data preprocessing\n",
        "Data preprocessing is the process of making raw data to clean data. This is the most crucial part of data the science. In this section, we will explore data first then we remove unwanted columns, remove duplicates, handle missing data, etc. After this step, we get clean data from raw data."
      ]
    },
    {
      "cell_type": "markdown",
      "id": "2098e35f",
      "metadata": {
        "id": "2098e35f"
      },
      "source": [
        "### 3.1 Data Exploring"
      ]
    },
    {
      "cell_type": "markdown",
      "id": "aHKv7GbtBGG5",
      "metadata": {
        "id": "aHKv7GbtBGG5"
      },
      "source": [
        "#### Retrieving rows from data frame."
      ]
    },
    {
      "cell_type": "code",
      "execution_count": 6,
      "id": "cbc7a3df",
      "metadata": {
        "colab": {
          "base_uri": "https://localhost:8080/",
          "height": 225
        },
        "id": "cbc7a3df",
        "outputId": "29db4b44-340c-42fd-c251-509c11391231"
      },
      "outputs": [
        {
          "data": {
            "application/vnd.microsoft.datawrangler.viewer.v0+json": {
              "columns": [
                {
                  "name": "index",
                  "rawType": "int64",
                  "type": "integer"
                },
                {
                  "name": "Transaction_date",
                  "rawType": "object",
                  "type": "string"
                },
                {
                  "name": "Transaction_ID",
                  "rawType": "int64",
                  "type": "integer"
                },
                {
                  "name": "Gender",
                  "rawType": "object",
                  "type": "string"
                },
                {
                  "name": "Age",
                  "rawType": "float64",
                  "type": "float"
                },
                {
                  "name": "Marital_status",
                  "rawType": "object",
                  "type": "string"
                },
                {
                  "name": "State_names",
                  "rawType": "object",
                  "type": "string"
                },
                {
                  "name": "Segment",
                  "rawType": "object",
                  "type": "string"
                },
                {
                  "name": "Employees_status",
                  "rawType": "object",
                  "type": "string"
                },
                {
                  "name": "Payment_method",
                  "rawType": "object",
                  "type": "string"
                },
                {
                  "name": "Referal",
                  "rawType": "float64",
                  "type": "float"
                },
                {
                  "name": "Amount_spent",
                  "rawType": "float64",
                  "type": "float"
                }
              ],
              "conversionMethod": "pd.DataFrame",
              "ref": "bf0576ce-088e-4d07-874c-4735a436a1ac",
              "rows": [
                [
                  "0",
                  "1/1/2019",
                  "151200",
                  "Female",
                  "19.0",
                  "Single",
                  "Kansas",
                  "Basic",
                  "Unemployment",
                  "Other",
                  "1.0",
                  "2051.36"
                ],
                [
                  "1",
                  "1/1/2019",
                  "151201",
                  "Male",
                  "49.0",
                  "Single",
                  "Illinois",
                  "Basic",
                  "self-employed",
                  "Card",
                  "0.0",
                  "544.04"
                ],
                [
                  "2",
                  "1/1/2019",
                  "151202",
                  "Male",
                  "63.0",
                  "Married",
                  "New Mexico",
                  "Basic",
                  "workers",
                  "PayPal",
                  "1.0",
                  "1572.6"
                ]
              ],
              "shape": {
                "columns": 11,
                "rows": 3
              }
            },
            "text/html": [
              "<div>\n",
              "<style scoped>\n",
              "    .dataframe tbody tr th:only-of-type {\n",
              "        vertical-align: middle;\n",
              "    }\n",
              "\n",
              "    .dataframe tbody tr th {\n",
              "        vertical-align: top;\n",
              "    }\n",
              "\n",
              "    .dataframe thead th {\n",
              "        text-align: right;\n",
              "    }\n",
              "</style>\n",
              "<table border=\"1\" class=\"dataframe\">\n",
              "  <thead>\n",
              "    <tr style=\"text-align: right;\">\n",
              "      <th></th>\n",
              "      <th>Transaction_date</th>\n",
              "      <th>Transaction_ID</th>\n",
              "      <th>Gender</th>\n",
              "      <th>Age</th>\n",
              "      <th>Marital_status</th>\n",
              "      <th>State_names</th>\n",
              "      <th>Segment</th>\n",
              "      <th>Employees_status</th>\n",
              "      <th>Payment_method</th>\n",
              "      <th>Referal</th>\n",
              "      <th>Amount_spent</th>\n",
              "    </tr>\n",
              "  </thead>\n",
              "  <tbody>\n",
              "    <tr>\n",
              "      <th>0</th>\n",
              "      <td>1/1/2019</td>\n",
              "      <td>151200</td>\n",
              "      <td>Female</td>\n",
              "      <td>19.0</td>\n",
              "      <td>Single</td>\n",
              "      <td>Kansas</td>\n",
              "      <td>Basic</td>\n",
              "      <td>Unemployment</td>\n",
              "      <td>Other</td>\n",
              "      <td>1.0</td>\n",
              "      <td>2051.36</td>\n",
              "    </tr>\n",
              "    <tr>\n",
              "      <th>1</th>\n",
              "      <td>1/1/2019</td>\n",
              "      <td>151201</td>\n",
              "      <td>Male</td>\n",
              "      <td>49.0</td>\n",
              "      <td>Single</td>\n",
              "      <td>Illinois</td>\n",
              "      <td>Basic</td>\n",
              "      <td>self-employed</td>\n",
              "      <td>Card</td>\n",
              "      <td>0.0</td>\n",
              "      <td>544.04</td>\n",
              "    </tr>\n",
              "    <tr>\n",
              "      <th>2</th>\n",
              "      <td>1/1/2019</td>\n",
              "      <td>151202</td>\n",
              "      <td>Male</td>\n",
              "      <td>63.0</td>\n",
              "      <td>Married</td>\n",
              "      <td>New Mexico</td>\n",
              "      <td>Basic</td>\n",
              "      <td>workers</td>\n",
              "      <td>PayPal</td>\n",
              "      <td>1.0</td>\n",
              "      <td>1572.60</td>\n",
              "    </tr>\n",
              "  </tbody>\n",
              "</table>\n",
              "</div>"
            ],
            "text/plain": [
              "  Transaction_date  Transaction_ID  Gender   Age Marital_status State_names  \\\n",
              "0         1/1/2019          151200  Female  19.0         Single      Kansas   \n",
              "1         1/1/2019          151201    Male  49.0         Single    Illinois   \n",
              "2         1/1/2019          151202    Male  63.0        Married  New Mexico   \n",
              "\n",
              "  Segment Employees_status Payment_method  Referal  Amount_spent  \n",
              "0   Basic     Unemployment          Other      1.0       2051.36  \n",
              "1   Basic    self-employed           Card      0.0        544.04  \n",
              "2   Basic          workers         PayPal      1.0       1572.60  "
            ]
          },
          "execution_count": 6,
          "metadata": {},
          "output_type": "execute_result"
        }
      ],
      "source": [
        "# display first 3 rows\n",
        "df.head(3)\n"
      ]
    },
    {
      "cell_type": "code",
      "execution_count": 7,
      "id": "58d4f7c8",
      "metadata": {
        "colab": {
          "base_uri": "https://localhost:8080/",
          "height": 354
        },
        "id": "58d4f7c8",
        "outputId": "584c0da8-d217-4302-9cc0-b21a23903188"
      },
      "outputs": [
        {
          "data": {
            "application/vnd.microsoft.datawrangler.viewer.v0+json": {
              "columns": [
                {
                  "name": "index",
                  "rawType": "int64",
                  "type": "integer"
                },
                {
                  "name": "Transaction_date",
                  "rawType": "object",
                  "type": "string"
                },
                {
                  "name": "Transaction_ID",
                  "rawType": "int64",
                  "type": "integer"
                },
                {
                  "name": "Gender",
                  "rawType": "object",
                  "type": "unknown"
                },
                {
                  "name": "Age",
                  "rawType": "float64",
                  "type": "float"
                },
                {
                  "name": "Marital_status",
                  "rawType": "object",
                  "type": "string"
                },
                {
                  "name": "State_names",
                  "rawType": "object",
                  "type": "string"
                },
                {
                  "name": "Segment",
                  "rawType": "object",
                  "type": "string"
                },
                {
                  "name": "Employees_status",
                  "rawType": "object",
                  "type": "string"
                },
                {
                  "name": "Payment_method",
                  "rawType": "object",
                  "type": "string"
                },
                {
                  "name": "Referal",
                  "rawType": "float64",
                  "type": "float"
                },
                {
                  "name": "Amount_spent",
                  "rawType": "float64",
                  "type": "float"
                }
              ],
              "conversionMethod": "pd.DataFrame",
              "ref": "773d30c3-e519-480f-9b60-b09d2b9dbf57",
              "rows": [
                [
                  "2506",
                  "4/30/2021",
                  "153694",
                  "Male",
                  "34.0",
                  "Single",
                  "Florida",
                  "Missing",
                  "Employees",
                  "Other",
                  "1.0",
                  "286.82"
                ],
                [
                  "2507",
                  "5/1/2021",
                  "153695",
                  "Female",
                  "57.0",
                  "Single",
                  "South Carolina",
                  "Platinum",
                  "self-employed",
                  "Card",
                  "0.0",
                  "150.1"
                ],
                [
                  "2508",
                  "5/1/2021",
                  "153696",
                  "Female",
                  "36.0",
                  "Married",
                  "Hawaii",
                  "Silver",
                  "self-employed",
                  "PayPal",
                  "1.0",
                  "708.88"
                ],
                [
                  "2509",
                  "5/1/2021",
                  "153697",
                  "Male",
                  "22.0",
                  "Single",
                  "South Carolina",
                  "Basic",
                  "workers",
                  "PayPal",
                  "1.0",
                  "2030.07"
                ],
                [
                  "2510",
                  "5/1/2021",
                  "153698",
                  null,
                  "44.0",
                  "Single",
                  "New York",
                  "Basic",
                  "Employees",
                  "PayPal",
                  "0.0",
                  "1909.77"
                ],
                [
                  "2511",
                  "5/1/2021",
                  "153699",
                  "Male",
                  "48.0",
                  "Single",
                  "California",
                  "Silver",
                  "workers",
                  "PayPal",
                  "1.0",
                  "1073.15"
                ]
              ],
              "shape": {
                "columns": 11,
                "rows": 6
              }
            },
            "text/html": [
              "<div>\n",
              "<style scoped>\n",
              "    .dataframe tbody tr th:only-of-type {\n",
              "        vertical-align: middle;\n",
              "    }\n",
              "\n",
              "    .dataframe tbody tr th {\n",
              "        vertical-align: top;\n",
              "    }\n",
              "\n",
              "    .dataframe thead th {\n",
              "        text-align: right;\n",
              "    }\n",
              "</style>\n",
              "<table border=\"1\" class=\"dataframe\">\n",
              "  <thead>\n",
              "    <tr style=\"text-align: right;\">\n",
              "      <th></th>\n",
              "      <th>Transaction_date</th>\n",
              "      <th>Transaction_ID</th>\n",
              "      <th>Gender</th>\n",
              "      <th>Age</th>\n",
              "      <th>Marital_status</th>\n",
              "      <th>State_names</th>\n",
              "      <th>Segment</th>\n",
              "      <th>Employees_status</th>\n",
              "      <th>Payment_method</th>\n",
              "      <th>Referal</th>\n",
              "      <th>Amount_spent</th>\n",
              "    </tr>\n",
              "  </thead>\n",
              "  <tbody>\n",
              "    <tr>\n",
              "      <th>2506</th>\n",
              "      <td>4/30/2021</td>\n",
              "      <td>153694</td>\n",
              "      <td>Male</td>\n",
              "      <td>34.0</td>\n",
              "      <td>Single</td>\n",
              "      <td>Florida</td>\n",
              "      <td>Missing</td>\n",
              "      <td>Employees</td>\n",
              "      <td>Other</td>\n",
              "      <td>1.0</td>\n",
              "      <td>286.82</td>\n",
              "    </tr>\n",
              "    <tr>\n",
              "      <th>2507</th>\n",
              "      <td>5/1/2021</td>\n",
              "      <td>153695</td>\n",
              "      <td>Female</td>\n",
              "      <td>57.0</td>\n",
              "      <td>Single</td>\n",
              "      <td>South Carolina</td>\n",
              "      <td>Platinum</td>\n",
              "      <td>self-employed</td>\n",
              "      <td>Card</td>\n",
              "      <td>0.0</td>\n",
              "      <td>150.10</td>\n",
              "    </tr>\n",
              "    <tr>\n",
              "      <th>2508</th>\n",
              "      <td>5/1/2021</td>\n",
              "      <td>153696</td>\n",
              "      <td>Female</td>\n",
              "      <td>36.0</td>\n",
              "      <td>Married</td>\n",
              "      <td>Hawaii</td>\n",
              "      <td>Silver</td>\n",
              "      <td>self-employed</td>\n",
              "      <td>PayPal</td>\n",
              "      <td>1.0</td>\n",
              "      <td>708.88</td>\n",
              "    </tr>\n",
              "    <tr>\n",
              "      <th>2509</th>\n",
              "      <td>5/1/2021</td>\n",
              "      <td>153697</td>\n",
              "      <td>Male</td>\n",
              "      <td>22.0</td>\n",
              "      <td>Single</td>\n",
              "      <td>South Carolina</td>\n",
              "      <td>Basic</td>\n",
              "      <td>workers</td>\n",
              "      <td>PayPal</td>\n",
              "      <td>1.0</td>\n",
              "      <td>2030.07</td>\n",
              "    </tr>\n",
              "    <tr>\n",
              "      <th>2510</th>\n",
              "      <td>5/1/2021</td>\n",
              "      <td>153698</td>\n",
              "      <td>NaN</td>\n",
              "      <td>44.0</td>\n",
              "      <td>Single</td>\n",
              "      <td>New York</td>\n",
              "      <td>Basic</td>\n",
              "      <td>Employees</td>\n",
              "      <td>PayPal</td>\n",
              "      <td>0.0</td>\n",
              "      <td>1909.77</td>\n",
              "    </tr>\n",
              "    <tr>\n",
              "      <th>2511</th>\n",
              "      <td>5/1/2021</td>\n",
              "      <td>153699</td>\n",
              "      <td>Male</td>\n",
              "      <td>48.0</td>\n",
              "      <td>Single</td>\n",
              "      <td>California</td>\n",
              "      <td>Silver</td>\n",
              "      <td>workers</td>\n",
              "      <td>PayPal</td>\n",
              "      <td>1.0</td>\n",
              "      <td>1073.15</td>\n",
              "    </tr>\n",
              "  </tbody>\n",
              "</table>\n",
              "</div>"
            ],
            "text/plain": [
              "     Transaction_date  Transaction_ID  Gender   Age Marital_status  \\\n",
              "2506        4/30/2021          153694    Male  34.0         Single   \n",
              "2507         5/1/2021          153695  Female  57.0         Single   \n",
              "2508         5/1/2021          153696  Female  36.0        Married   \n",
              "2509         5/1/2021          153697    Male  22.0         Single   \n",
              "2510         5/1/2021          153698     NaN  44.0         Single   \n",
              "2511         5/1/2021          153699    Male  48.0         Single   \n",
              "\n",
              "         State_names   Segment Employees_status Payment_method  Referal  \\\n",
              "2506         Florida   Missing        Employees          Other      1.0   \n",
              "2507  South Carolina  Platinum    self-employed           Card      0.0   \n",
              "2508          Hawaii    Silver    self-employed         PayPal      1.0   \n",
              "2509  South Carolina     Basic          workers         PayPal      1.0   \n",
              "2510        New York     Basic        Employees         PayPal      0.0   \n",
              "2511      California    Silver          workers         PayPal      1.0   \n",
              "\n",
              "      Amount_spent  \n",
              "2506        286.82  \n",
              "2507        150.10  \n",
              "2508        708.88  \n",
              "2509       2030.07  \n",
              "2510       1909.77  \n",
              "2511       1073.15  "
            ]
          },
          "execution_count": 7,
          "metadata": {},
          "output_type": "execute_result"
        }
      ],
      "source": [
        "# display last 6 rows\n",
        "df.tail(6)"
      ]
    },
    {
      "cell_type": "markdown",
      "id": "1L2Pg_LiChrC",
      "metadata": {
        "id": "1L2Pg_LiChrC"
      },
      "source": [
        "#### Retrieving sample rows from data frame.\n",
        "\n"
      ]
    },
    {
      "cell_type": "code",
      "execution_count": 8,
      "id": "36e099c7",
      "metadata": {
        "colab": {
          "base_uri": "https://localhost:8080/",
          "height": 350
        },
        "id": "36e099c7",
        "outputId": "4b3209e6-30ba-43a4-94d5-af19e3492b8d"
      },
      "outputs": [
        {
          "data": {
            "application/vnd.microsoft.datawrangler.viewer.v0+json": {
              "columns": [
                {
                  "name": "index",
                  "rawType": "int64",
                  "type": "integer"
                },
                {
                  "name": "Transaction_date",
                  "rawType": "object",
                  "type": "string"
                },
                {
                  "name": "Transaction_ID",
                  "rawType": "int64",
                  "type": "integer"
                },
                {
                  "name": "Gender",
                  "rawType": "object",
                  "type": "string"
                },
                {
                  "name": "Age",
                  "rawType": "float64",
                  "type": "float"
                },
                {
                  "name": "Marital_status",
                  "rawType": "object",
                  "type": "string"
                },
                {
                  "name": "State_names",
                  "rawType": "object",
                  "type": "string"
                },
                {
                  "name": "Segment",
                  "rawType": "object",
                  "type": "string"
                },
                {
                  "name": "Employees_status",
                  "rawType": "object",
                  "type": "string"
                },
                {
                  "name": "Payment_method",
                  "rawType": "object",
                  "type": "string"
                },
                {
                  "name": "Referal",
                  "rawType": "float64",
                  "type": "float"
                },
                {
                  "name": "Amount_spent",
                  "rawType": "float64",
                  "type": "float"
                }
              ],
              "conversionMethod": "pd.DataFrame",
              "ref": "684d10dd-5ee8-458a-b552-7dba1497a817",
              "rows": [
                [
                  "1679",
                  "7/23/2020",
                  "152867",
                  "Female",
                  "31.0",
                  "Married",
                  "South Carolina",
                  "Basic",
                  "self-employed",
                  "Other",
                  "1.0",
                  "2778.69"
                ],
                [
                  "1710",
                  "8/4/2020",
                  "152898",
                  "Male",
                  "27.0",
                  "Married",
                  "Illinois",
                  "Missing",
                  "self-employed",
                  "PayPal",
                  "0.0",
                  "1020.51"
                ],
                [
                  "1985",
                  "10/26/2020",
                  "153173",
                  "Female",
                  "43.0",
                  "Married",
                  "Rhode Island",
                  "Basic",
                  "Employees",
                  "PayPal",
                  "1.0",
                  null
                ],
                [
                  "329",
                  "4/21/2019",
                  "151517",
                  "Male",
                  "54.0",
                  "Single",
                  "New York",
                  "Platinum",
                  "Employees",
                  "Other",
                  "0.0",
                  "2463.7"
                ],
                [
                  "878",
                  "10/14/2019",
                  "152066",
                  "Male",
                  "26.0",
                  "Married",
                  "Florida",
                  "Missing",
                  "workers",
                  "PayPal",
                  "0.0",
                  "2705.36"
                ],
                [
                  "2330",
                  "3/3/2021",
                  "153518",
                  "Female",
                  "73.0",
                  "Single",
                  "Rhode Island",
                  "Basic",
                  "self-employed",
                  "Other",
                  "0.0",
                  "1623.74"
                ],
                [
                  "1401",
                  "4/9/2020",
                  "152589",
                  "Female",
                  "19.0",
                  "Single",
                  "Montana",
                  "Gold",
                  "Employees",
                  "PayPal",
                  "1.0",
                  "214.11"
                ]
              ],
              "shape": {
                "columns": 11,
                "rows": 7
              }
            },
            "text/html": [
              "<div>\n",
              "<style scoped>\n",
              "    .dataframe tbody tr th:only-of-type {\n",
              "        vertical-align: middle;\n",
              "    }\n",
              "\n",
              "    .dataframe tbody tr th {\n",
              "        vertical-align: top;\n",
              "    }\n",
              "\n",
              "    .dataframe thead th {\n",
              "        text-align: right;\n",
              "    }\n",
              "</style>\n",
              "<table border=\"1\" class=\"dataframe\">\n",
              "  <thead>\n",
              "    <tr style=\"text-align: right;\">\n",
              "      <th></th>\n",
              "      <th>Transaction_date</th>\n",
              "      <th>Transaction_ID</th>\n",
              "      <th>Gender</th>\n",
              "      <th>Age</th>\n",
              "      <th>Marital_status</th>\n",
              "      <th>State_names</th>\n",
              "      <th>Segment</th>\n",
              "      <th>Employees_status</th>\n",
              "      <th>Payment_method</th>\n",
              "      <th>Referal</th>\n",
              "      <th>Amount_spent</th>\n",
              "    </tr>\n",
              "  </thead>\n",
              "  <tbody>\n",
              "    <tr>\n",
              "      <th>1679</th>\n",
              "      <td>7/23/2020</td>\n",
              "      <td>152867</td>\n",
              "      <td>Female</td>\n",
              "      <td>31.0</td>\n",
              "      <td>Married</td>\n",
              "      <td>South Carolina</td>\n",
              "      <td>Basic</td>\n",
              "      <td>self-employed</td>\n",
              "      <td>Other</td>\n",
              "      <td>1.0</td>\n",
              "      <td>2778.69</td>\n",
              "    </tr>\n",
              "    <tr>\n",
              "      <th>1710</th>\n",
              "      <td>8/4/2020</td>\n",
              "      <td>152898</td>\n",
              "      <td>Male</td>\n",
              "      <td>27.0</td>\n",
              "      <td>Married</td>\n",
              "      <td>Illinois</td>\n",
              "      <td>Missing</td>\n",
              "      <td>self-employed</td>\n",
              "      <td>PayPal</td>\n",
              "      <td>0.0</td>\n",
              "      <td>1020.51</td>\n",
              "    </tr>\n",
              "    <tr>\n",
              "      <th>1985</th>\n",
              "      <td>10/26/2020</td>\n",
              "      <td>153173</td>\n",
              "      <td>Female</td>\n",
              "      <td>43.0</td>\n",
              "      <td>Married</td>\n",
              "      <td>Rhode Island</td>\n",
              "      <td>Basic</td>\n",
              "      <td>Employees</td>\n",
              "      <td>PayPal</td>\n",
              "      <td>1.0</td>\n",
              "      <td>NaN</td>\n",
              "    </tr>\n",
              "    <tr>\n",
              "      <th>329</th>\n",
              "      <td>4/21/2019</td>\n",
              "      <td>151517</td>\n",
              "      <td>Male</td>\n",
              "      <td>54.0</td>\n",
              "      <td>Single</td>\n",
              "      <td>New York</td>\n",
              "      <td>Platinum</td>\n",
              "      <td>Employees</td>\n",
              "      <td>Other</td>\n",
              "      <td>0.0</td>\n",
              "      <td>2463.70</td>\n",
              "    </tr>\n",
              "    <tr>\n",
              "      <th>878</th>\n",
              "      <td>10/14/2019</td>\n",
              "      <td>152066</td>\n",
              "      <td>Male</td>\n",
              "      <td>26.0</td>\n",
              "      <td>Married</td>\n",
              "      <td>Florida</td>\n",
              "      <td>Missing</td>\n",
              "      <td>workers</td>\n",
              "      <td>PayPal</td>\n",
              "      <td>0.0</td>\n",
              "      <td>2705.36</td>\n",
              "    </tr>\n",
              "    <tr>\n",
              "      <th>2330</th>\n",
              "      <td>3/3/2021</td>\n",
              "      <td>153518</td>\n",
              "      <td>Female</td>\n",
              "      <td>73.0</td>\n",
              "      <td>Single</td>\n",
              "      <td>Rhode Island</td>\n",
              "      <td>Basic</td>\n",
              "      <td>self-employed</td>\n",
              "      <td>Other</td>\n",
              "      <td>0.0</td>\n",
              "      <td>1623.74</td>\n",
              "    </tr>\n",
              "    <tr>\n",
              "      <th>1401</th>\n",
              "      <td>4/9/2020</td>\n",
              "      <td>152589</td>\n",
              "      <td>Female</td>\n",
              "      <td>19.0</td>\n",
              "      <td>Single</td>\n",
              "      <td>Montana</td>\n",
              "      <td>Gold</td>\n",
              "      <td>Employees</td>\n",
              "      <td>PayPal</td>\n",
              "      <td>1.0</td>\n",
              "      <td>214.11</td>\n",
              "    </tr>\n",
              "  </tbody>\n",
              "</table>\n",
              "</div>"
            ],
            "text/plain": [
              "     Transaction_date  Transaction_ID  Gender   Age Marital_status  \\\n",
              "1679        7/23/2020          152867  Female  31.0        Married   \n",
              "1710         8/4/2020          152898    Male  27.0        Married   \n",
              "1985       10/26/2020          153173  Female  43.0        Married   \n",
              "329         4/21/2019          151517    Male  54.0         Single   \n",
              "878        10/14/2019          152066    Male  26.0        Married   \n",
              "2330         3/3/2021          153518  Female  73.0         Single   \n",
              "1401         4/9/2020          152589  Female  19.0         Single   \n",
              "\n",
              "         State_names   Segment Employees_status Payment_method  Referal  \\\n",
              "1679  South Carolina     Basic    self-employed          Other      1.0   \n",
              "1710        Illinois   Missing    self-employed         PayPal      0.0   \n",
              "1985    Rhode Island     Basic        Employees         PayPal      1.0   \n",
              "329         New York  Platinum        Employees          Other      0.0   \n",
              "878          Florida   Missing          workers         PayPal      0.0   \n",
              "2330    Rhode Island     Basic    self-employed          Other      0.0   \n",
              "1401         Montana      Gold        Employees         PayPal      1.0   \n",
              "\n",
              "      Amount_spent  \n",
              "1679       2778.69  \n",
              "1710       1020.51  \n",
              "1985           NaN  \n",
              "329        2463.70  \n",
              "878        2705.36  \n",
              "2330       1623.74  \n",
              "1401        214.11  "
            ]
          },
          "execution_count": 8,
          "metadata": {},
          "output_type": "execute_result"
        }
      ],
      "source": [
        "# Display random 7 sample rows\n",
        "df.sample(7)"
      ]
    },
    {
      "cell_type": "markdown",
      "id": "A5NQiaXLlmS3",
      "metadata": {
        "id": "A5NQiaXLlmS3"
      },
      "source": [
        "#### Retrieving information about dataframe"
      ]
    },
    {
      "cell_type": "code",
      "execution_count": 9,
      "id": "74baf9db",
      "metadata": {
        "colab": {
          "base_uri": "https://localhost:8080/"
        },
        "id": "74baf9db",
        "outputId": "d41a71d4-c32f-411a-9e69-17a9c74397a5"
      },
      "outputs": [
        {
          "name": "stdout",
          "output_type": "stream",
          "text": [
            "<class 'pandas.core.frame.DataFrame'>\n",
            "RangeIndex: 2512 entries, 0 to 2511\n",
            "Data columns (total 11 columns):\n",
            " #   Column            Non-Null Count  Dtype  \n",
            "---  ------            --------------  -----  \n",
            " 0   Transaction_date  2512 non-null   object \n",
            " 1   Transaction_ID    2512 non-null   int64  \n",
            " 2   Gender            2484 non-null   object \n",
            " 3   Age               2470 non-null   float64\n",
            " 4   Marital_status    2512 non-null   object \n",
            " 5   State_names       2512 non-null   object \n",
            " 6   Segment           2512 non-null   object \n",
            " 7   Employees_status  2486 non-null   object \n",
            " 8   Payment_method    2512 non-null   object \n",
            " 9   Referal           2357 non-null   float64\n",
            " 10  Amount_spent      2270 non-null   float64\n",
            "dtypes: float64(3), int64(1), object(7)\n",
            "memory usage: 216.0+ KB\n"
          ]
        }
      ],
      "source": [
        "df.info()"
      ]
    },
    {
      "cell_type": "code",
      "execution_count": 10,
      "id": "40639f0a",
      "metadata": {
        "colab": {
          "base_uri": "https://localhost:8080/"
        },
        "id": "40639f0a",
        "outputId": "8713eeb0-d3c5-4cfd-fa4b-cbbc65e78441"
      },
      "outputs": [
        {
          "data": {
            "text/plain": [
              "Transaction_date     object\n",
              "Transaction_ID        int64\n",
              "Gender               object\n",
              "Age                 float64\n",
              "Marital_status       object\n",
              "State_names          object\n",
              "Segment              object\n",
              "Employees_status     object\n",
              "Payment_method       object\n",
              "Referal             float64\n",
              "Amount_spent        float64\n",
              "dtype: object"
            ]
          },
          "execution_count": 10,
          "metadata": {},
          "output_type": "execute_result"
        }
      ],
      "source": [
        "# display datatypes\n",
        "df.dtypes"
      ]
    },
    {
      "cell_type": "markdown",
      "id": "XfPcQQb2IH-u",
      "metadata": {
        "id": "XfPcQQb2IH-u"
      },
      "source": [
        "#### Display number of rows and columns."
      ]
    },
    {
      "cell_type": "code",
      "execution_count": 11,
      "id": "eb85a970",
      "metadata": {},
      "outputs": [
        {
          "data": {
            "text/plain": [
              "(2512, 11)"
            ]
          },
          "execution_count": 11,
          "metadata": {},
          "output_type": "execute_result"
        }
      ],
      "source": [
        "df.shape"
      ]
    },
    {
      "cell_type": "code",
      "execution_count": 21,
      "id": "b13bc480",
      "metadata": {},
      "outputs": [
        {
          "data": {
            "text/plain": [
              "Index(['Transaction_date', 'Transaction_ID', 'Gender', 'Age', 'Marital_status',\n",
              "       'State_names', 'Segment', 'Employees_status', 'Payment_method',\n",
              "       'Referal', 'Amount_spent'],\n",
              "      dtype='object')"
            ]
          },
          "execution_count": 21,
          "metadata": {},
          "output_type": "execute_result"
        }
      ],
      "source": [
        "df.columns"
      ]
    },
    {
      "cell_type": "code",
      "execution_count": 25,
      "id": "95f91b76",
      "metadata": {},
      "outputs": [
        {
          "data": {
            "text/plain": [
              "0    19.0\n",
              "1    49.0\n",
              "2    63.0\n",
              "Name: Age, dtype: float64"
            ]
          },
          "execution_count": 25,
          "metadata": {},
          "output_type": "execute_result"
        }
      ],
      "source": [
        "df.loc[:2,'Age']"
      ]
    },
    {
      "cell_type": "code",
      "execution_count": 28,
      "id": "c6868e51",
      "metadata": {},
      "outputs": [
        {
          "data": {
            "text/html": [
              "<div>\n",
              "<style scoped>\n",
              "    .dataframe tbody tr th:only-of-type {\n",
              "        vertical-align: middle;\n",
              "    }\n",
              "\n",
              "    .dataframe tbody tr th {\n",
              "        vertical-align: top;\n",
              "    }\n",
              "\n",
              "    .dataframe thead th {\n",
              "        text-align: right;\n",
              "    }\n",
              "</style>\n",
              "<table border=\"1\" class=\"dataframe\">\n",
              "  <thead>\n",
              "    <tr style=\"text-align: right;\">\n",
              "      <th></th>\n",
              "      <th>Age</th>\n",
              "      <th>Transaction_date</th>\n",
              "      <th>Gender</th>\n",
              "    </tr>\n",
              "  </thead>\n",
              "  <tbody>\n",
              "    <tr>\n",
              "      <th>0</th>\n",
              "      <td>19.0</td>\n",
              "      <td>1/1/2019</td>\n",
              "      <td>Female</td>\n",
              "    </tr>\n",
              "    <tr>\n",
              "      <th>1</th>\n",
              "      <td>49.0</td>\n",
              "      <td>1/1/2019</td>\n",
              "      <td>Male</td>\n",
              "    </tr>\n",
              "    <tr>\n",
              "      <th>2</th>\n",
              "      <td>63.0</td>\n",
              "      <td>1/1/2019</td>\n",
              "      <td>Male</td>\n",
              "    </tr>\n",
              "    <tr>\n",
              "      <th>3</th>\n",
              "      <td>18.0</td>\n",
              "      <td>1/1/2019</td>\n",
              "      <td>NaN</td>\n",
              "    </tr>\n",
              "  </tbody>\n",
              "</table>\n",
              "</div>"
            ],
            "text/plain": [
              "    Age Transaction_date  Gender\n",
              "0  19.0         1/1/2019  Female\n",
              "1  49.0         1/1/2019    Male\n",
              "2  63.0         1/1/2019    Male\n",
              "3  18.0         1/1/2019     NaN"
            ]
          },
          "execution_count": 28,
          "metadata": {},
          "output_type": "execute_result"
        }
      ],
      "source": [
        "df[['Age','Transaction_date','Gender']].iloc[:4,::]"
      ]
    },
    {
      "cell_type": "markdown",
      "id": "Bkh1oFtuoSiS",
      "metadata": {
        "id": "Bkh1oFtuoSiS"
      },
      "source": [
        "#### Retrieving a Range of Rows"
      ]
    },
    {
      "cell_type": "code",
      "execution_count": 37,
      "id": "20qnnoofpPfn",
      "metadata": {
        "colab": {
          "base_uri": "https://localhost:8080/",
          "height": 193
        },
        "id": "20qnnoofpPfn",
        "outputId": "366a2257-27fa-4f10-ba41-0fdfefc3b609"
      },
      "outputs": [
        {
          "data": {
            "text/html": [
              "<div>\n",
              "<style scoped>\n",
              "    .dataframe tbody tr th:only-of-type {\n",
              "        vertical-align: middle;\n",
              "    }\n",
              "\n",
              "    .dataframe tbody tr th {\n",
              "        vertical-align: top;\n",
              "    }\n",
              "\n",
              "    .dataframe thead th {\n",
              "        text-align: right;\n",
              "    }\n",
              "</style>\n",
              "<table border=\"1\" class=\"dataframe\">\n",
              "  <thead>\n",
              "    <tr style=\"text-align: right;\">\n",
              "      <th></th>\n",
              "      <th>Transaction_date</th>\n",
              "      <th>Transaction_ID</th>\n",
              "      <th>Gender</th>\n",
              "      <th>Age</th>\n",
              "      <th>Marital_status</th>\n",
              "      <th>State_names</th>\n",
              "      <th>Segment</th>\n",
              "      <th>Employees_status</th>\n",
              "      <th>Payment_method</th>\n",
              "      <th>Referal</th>\n",
              "      <th>Amount_spent</th>\n",
              "    </tr>\n",
              "  </thead>\n",
              "  <tbody>\n",
              "    <tr>\n",
              "      <th>2510</th>\n",
              "      <td>5/1/2021</td>\n",
              "      <td>153698</td>\n",
              "      <td>NaN</td>\n",
              "      <td>44.0</td>\n",
              "      <td>Single</td>\n",
              "      <td>New York</td>\n",
              "      <td>Basic</td>\n",
              "      <td>Employees</td>\n",
              "      <td>PayPal</td>\n",
              "      <td>0.0</td>\n",
              "      <td>1909.77</td>\n",
              "    </tr>\n",
              "    <tr>\n",
              "      <th>2511</th>\n",
              "      <td>5/1/2021</td>\n",
              "      <td>153699</td>\n",
              "      <td>Male</td>\n",
              "      <td>48.0</td>\n",
              "      <td>Single</td>\n",
              "      <td>California</td>\n",
              "      <td>Silver</td>\n",
              "      <td>workers</td>\n",
              "      <td>PayPal</td>\n",
              "      <td>1.0</td>\n",
              "      <td>1073.15</td>\n",
              "    </tr>\n",
              "  </tbody>\n",
              "</table>\n",
              "</div>"
            ],
            "text/plain": [
              "     Transaction_date  Transaction_ID Gender   Age Marital_status State_names  \\\n",
              "2510         5/1/2021          153698    NaN  44.0         Single    New York   \n",
              "2511         5/1/2021          153699   Male  48.0         Single  California   \n",
              "\n",
              "     Segment Employees_status Payment_method  Referal  Amount_spent  \n",
              "2510   Basic        Employees         PayPal      0.0       1909.77  \n",
              "2511  Silver          workers         PayPal      1.0       1073.15  "
            ]
          },
          "execution_count": 37,
          "metadata": {},
          "output_type": "execute_result"
        }
      ],
      "source": [
        "# for display 2nd to 6th rows\n",
        "df.iloc[1:6,::]\n",
        "# for display starting to 10th\n",
        "df.iloc[9::,::] \n",
        "\n",
        "# for display last two rows\n",
        "df.iloc[-2::,::]\n",
        " \n"
      ]
    },
    {
      "cell_type": "markdown",
      "id": "03dec553",
      "metadata": {
        "id": "03dec553"
      },
      "source": [
        " ### 3.2 Data Cleaning\n",
        "After the explore our datasets may need to clean them for better analysis. Data coming in from multiple sources so It's possible to have an error in some values. This is where data cleaning becomes extremely important. In this section, we will delete unwanted columns, rename columns, correct appropriate data types, etc.\n"
      ]
    },
    {
      "cell_type": "markdown",
      "id": "HGxEahSYJ0Ft",
      "metadata": {
        "id": "HGxEahSYJ0Ft"
      },
      "source": [
        "#### Delete Columns name"
      ]
    },
    {
      "cell_type": "code",
      "execution_count": 11,
      "id": "43b62a5f",
      "metadata": {
        "id": "43b62a5f",
        "outputId": "248025bc-f662-4f8f-a360-d83650eae7e6"
      },
      "outputs": [
        {
          "data": {
            "application/vnd.microsoft.datawrangler.viewer.v0+json": {
              "columns": [
                {
                  "name": "index",
                  "rawType": "int64",
                  "type": "integer"
                },
                {
                  "name": "Transaction_date",
                  "rawType": "object",
                  "type": "string"
                },
                {
                  "name": "Gender",
                  "rawType": "object",
                  "type": "unknown"
                },
                {
                  "name": "Age",
                  "rawType": "float64",
                  "type": "float"
                },
                {
                  "name": "Marital_status",
                  "rawType": "object",
                  "type": "string"
                },
                {
                  "name": "State_names",
                  "rawType": "object",
                  "type": "string"
                },
                {
                  "name": "Segment",
                  "rawType": "object",
                  "type": "string"
                },
                {
                  "name": "Employees_status",
                  "rawType": "object",
                  "type": "unknown"
                },
                {
                  "name": "Payment_method",
                  "rawType": "object",
                  "type": "string"
                },
                {
                  "name": "Referal",
                  "rawType": "float64",
                  "type": "float"
                },
                {
                  "name": "Amount_spent",
                  "rawType": "float64",
                  "type": "float"
                }
              ],
              "conversionMethod": "pd.DataFrame",
              "ref": "4fb5ce42-3c66-47ae-af3d-55975610becb",
              "rows": [
                [
                  "0",
                  "1/1/2019",
                  "Female",
                  "19.0",
                  "Single",
                  "Kansas",
                  "Basic",
                  "Unemployment",
                  "Other",
                  "1.0",
                  "2051.36"
                ],
                [
                  "1",
                  "1/1/2019",
                  "Male",
                  "49.0",
                  "Single",
                  "Illinois",
                  "Basic",
                  "self-employed",
                  "Card",
                  "0.0",
                  "544.04"
                ],
                [
                  "2",
                  "1/1/2019",
                  "Male",
                  "63.0",
                  "Married",
                  "New Mexico",
                  "Basic",
                  "workers",
                  "PayPal",
                  "1.0",
                  "1572.6"
                ],
                [
                  "3",
                  "1/1/2019",
                  null,
                  "18.0",
                  "Single",
                  "Virginia",
                  "Platinum",
                  "workers",
                  "Card",
                  "1.0",
                  "1199.79"
                ],
                [
                  "4",
                  "1/1/2019",
                  "Male",
                  "27.0",
                  "Single",
                  "Connecticut",
                  "Basic",
                  "self-employed",
                  "Card",
                  "0.0",
                  null
                ],
                [
                  "5",
                  "1/3/2019",
                  "Male",
                  "71.0",
                  "Single",
                  "Hawaii",
                  "Basic",
                  "Employees",
                  "PayPal",
                  "1.0",
                  "2922.66"
                ],
                [
                  "6",
                  "1/3/2019",
                  "Female",
                  "34.0",
                  "Married",
                  "New Mexico",
                  "Platinum",
                  "Employees",
                  "PayPal",
                  "1.0",
                  "1481.42"
                ],
                [
                  "7",
                  "1/3/2019",
                  "Male",
                  "37.0",
                  "Married",
                  "Connecticut",
                  "Basic",
                  "workers",
                  "PayPal",
                  "1.0",
                  "1149.55"
                ],
                [
                  "8",
                  "1/4/2019",
                  "Male",
                  "75.0",
                  "Married",
                  "Florida",
                  "Silver",
                  "Employees",
                  "Card",
                  "0.0",
                  "1046.2"
                ],
                [
                  "9",
                  "1/4/2019",
                  "Female",
                  "41.0",
                  "Married",
                  "Vermont",
                  "Gold",
                  "Unemployment",
                  "Card",
                  "1.0",
                  "2730.6"
                ],
                [
                  "10",
                  "1/4/2019",
                  "Female",
                  "56.0",
                  "Married",
                  "California",
                  "Basic",
                  "Employees",
                  "PayPal",
                  "0.0",
                  "1712.82"
                ],
                [
                  "11",
                  "1/5/2019",
                  "Female",
                  "63.0",
                  "Married",
                  "Colorado",
                  "Basic",
                  "workers",
                  "Other",
                  "1.0",
                  "154.31"
                ],
                [
                  "12",
                  "1/5/2019",
                  "Female",
                  "60.0",
                  "Married",
                  "Iowa",
                  "Basic",
                  "self-employed",
                  "Card",
                  "1.0",
                  "819.08"
                ],
                [
                  "13",
                  "1/5/2019",
                  "Male",
                  "47.0",
                  "Single",
                  "South Carolina",
                  "Basic",
                  "Employees",
                  "PayPal",
                  "1.0",
                  "1719.83"
                ],
                [
                  "14",
                  "1/5/2019",
                  "Male",
                  "24.0",
                  "Married",
                  "Colorado",
                  "Platinum",
                  "self-employed",
                  "Other",
                  "1.0",
                  "954.12"
                ],
                [
                  "15",
                  "1/6/2019",
                  "Male",
                  "16.0",
                  "Single",
                  "New York",
                  "Platinum",
                  "workers",
                  "Other",
                  "1.0",
                  "1005.92"
                ],
                [
                  "16",
                  "1/6/2019",
                  "Female",
                  "72.0",
                  "Married",
                  "Maine",
                  "Silver",
                  "self-employed",
                  "PayPal",
                  "1.0",
                  "2882.77"
                ],
                [
                  "17",
                  "1/7/2019",
                  "Female",
                  "77.0",
                  "Married",
                  "New Mexico",
                  "Platinum",
                  "workers",
                  "Card",
                  "0.0",
                  "2999.98"
                ],
                [
                  "18",
                  "1/7/2019",
                  "Male",
                  "42.0",
                  "Married",
                  "Maryland",
                  "Basic",
                  "self-employed",
                  "Other",
                  "0.0",
                  "1902.73"
                ],
                [
                  "19",
                  "1/8/2019",
                  "Female",
                  "46.0",
                  "Married",
                  "Missouri",
                  "Basic",
                  "Employees",
                  "Card",
                  "1.0",
                  "2968.95"
                ],
                [
                  "20",
                  "1/8/2019",
                  "Female",
                  "19.0",
                  "Married",
                  "Hawaii",
                  "Missing",
                  "workers",
                  "PayPal",
                  "0.0",
                  null
                ],
                [
                  "21",
                  "1/8/2019",
                  "Male",
                  "42.0",
                  "Married",
                  "North Dakota",
                  "Silver",
                  "workers",
                  "PayPal",
                  "0.0",
                  "995.77"
                ],
                [
                  "22",
                  "1/8/2019",
                  "Female",
                  "50.0",
                  "Married",
                  "Ohio",
                  "Missing",
                  "workers",
                  "Card",
                  "0.0",
                  "719.13"
                ],
                [
                  "23",
                  "1/9/2019",
                  "Male",
                  "47.0",
                  "Single",
                  "Nebraska",
                  "Basic",
                  "self-employed",
                  "PayPal",
                  "1.0",
                  "2407.36"
                ],
                [
                  "24",
                  "1/10/2019",
                  "Female",
                  "32.0",
                  "Single",
                  "Montana",
                  "Basic",
                  "Employees",
                  "PayPal",
                  "0.0",
                  "2737.41"
                ],
                [
                  "25",
                  "1/11/2019",
                  "Male",
                  "25.0",
                  "Married",
                  "Indiana",
                  "Basic",
                  "self-employed",
                  "Other",
                  "1.0",
                  "1514.75"
                ],
                [
                  "26",
                  "1/12/2019",
                  "Male",
                  "33.0",
                  "Married",
                  "Wisconsin",
                  "Basic",
                  "self-employed",
                  "Card",
                  "1.0",
                  "293.58"
                ],
                [
                  "27",
                  "1/12/2019",
                  "Male",
                  "61.0",
                  "Married",
                  "Alabama",
                  "Platinum",
                  "workers",
                  "Card",
                  "1.0",
                  "1094.67"
                ],
                [
                  "28",
                  "1/12/2019",
                  "Male",
                  "75.0",
                  "Married",
                  "Alabama",
                  "Basic",
                  "self-employed",
                  "PayPal",
                  "1.0",
                  "233.05"
                ],
                [
                  "29",
                  "1/12/2019",
                  "Female",
                  "62.0",
                  "Married",
                  "Indiana",
                  "Silver",
                  "Employees",
                  "Other",
                  "1.0",
                  null
                ],
                [
                  "30",
                  "1/12/2019",
                  "Male",
                  "17.0",
                  "Married",
                  "Maine",
                  "Basic",
                  "Employees",
                  "PayPal",
                  "1.0",
                  null
                ],
                [
                  "31",
                  "1/13/2019",
                  "Female",
                  "21.0",
                  "Single",
                  "Montana",
                  "Basic",
                  "Employees",
                  "Card",
                  "0.0",
                  "2035.07"
                ],
                [
                  "32",
                  "1/13/2019",
                  "Male",
                  "39.0",
                  "Single",
                  "Arkansas",
                  "Basic",
                  "Employees",
                  "Other",
                  "0.0",
                  "128.29"
                ],
                [
                  "33",
                  "1/14/2019",
                  "Male",
                  "15.0",
                  "Married",
                  "Missouri",
                  "Gold",
                  "self-employed",
                  "Card",
                  "1.0",
                  "628.93"
                ],
                [
                  "34",
                  "1/14/2019",
                  "Female",
                  "59.0",
                  "Married",
                  "Pennsylvania",
                  "Basic",
                  "Employees",
                  "Card",
                  "0.0",
                  "1729.36"
                ],
                [
                  "35",
                  "1/14/2019",
                  "Male",
                  "70.0",
                  "Married",
                  "New Hampshire",
                  "Silver",
                  "workers",
                  "Other",
                  "1.0",
                  "2040.29"
                ],
                [
                  "36",
                  "1/14/2019",
                  "Male",
                  "75.0",
                  "Married",
                  "Washington",
                  "Platinum",
                  "Employees",
                  "PayPal",
                  "1.0",
                  "2744.88"
                ],
                [
                  "37",
                  "1/16/2019",
                  "Male",
                  "64.0",
                  "Married",
                  "Texas",
                  "Missing",
                  "Employees",
                  "PayPal",
                  "1.0",
                  "351.88"
                ],
                [
                  "38",
                  "1/16/2019",
                  "Female",
                  "64.0",
                  "Married",
                  "Ohio",
                  "Silver",
                  "Unemployment",
                  "Other",
                  "0.0",
                  "692.14"
                ],
                [
                  "39",
                  "1/17/2019",
                  "Male",
                  "64.0",
                  "Married",
                  "New York",
                  "Silver",
                  "Unemployment",
                  "PayPal",
                  "1.0",
                  "2418.62"
                ],
                [
                  "40",
                  "1/17/2019",
                  "Female",
                  "21.0",
                  "Married",
                  "Kentucky",
                  "Basic",
                  "workers",
                  "Card",
                  "0.0",
                  "2734.15"
                ],
                [
                  "41",
                  "1/17/2019",
                  "Female",
                  "46.0",
                  "Married",
                  "New Mexico",
                  "Silver",
                  "workers",
                  "PayPal",
                  "1.0",
                  "2851.83"
                ],
                [
                  "42",
                  "1/17/2019",
                  "Female",
                  "16.0",
                  "Single",
                  "Texas",
                  "Gold",
                  "self-employed",
                  "PayPal",
                  "1.0",
                  "938.16"
                ],
                [
                  "43",
                  "1/18/2019",
                  "Female",
                  "63.0",
                  "Married",
                  "Maine",
                  "Gold",
                  "workers",
                  "PayPal",
                  "1.0",
                  "281.92"
                ],
                [
                  "44",
                  "1/19/2019",
                  "Male",
                  "75.0",
                  "Single",
                  "Massachusetts",
                  "Basic",
                  "Employees",
                  "PayPal",
                  "1.0",
                  "747.68"
                ],
                [
                  "45",
                  "1/20/2019",
                  "Male",
                  "70.0",
                  "Married",
                  "Wyoming",
                  "Basic",
                  "Unemployment",
                  "Card",
                  "1.0",
                  "1784.15"
                ],
                [
                  "46",
                  "1/20/2019",
                  "Male",
                  "41.0",
                  "Single",
                  "Kentucky",
                  "Missing",
                  "Employees",
                  "PayPal",
                  "1.0",
                  "1115.9"
                ],
                [
                  "47",
                  "1/21/2019",
                  "Male",
                  "33.0",
                  "Married",
                  "Florida",
                  "Silver",
                  "Employees",
                  "Other",
                  "0.0",
                  "1902.47"
                ],
                [
                  "48",
                  "1/21/2019",
                  "Female",
                  "64.0",
                  "Single",
                  "Massachusetts",
                  "Platinum",
                  "self-employed",
                  "Card",
                  "1.0",
                  "1949.92"
                ],
                [
                  "49",
                  "1/22/2019",
                  "Female",
                  "73.0",
                  "Married",
                  "Iowa",
                  "Basic",
                  "Unemployment",
                  "Card",
                  "0.0",
                  null
                ]
              ],
              "shape": {
                "columns": 10,
                "rows": 2512
              }
            },
            "text/html": [
              "<div>\n",
              "<style scoped>\n",
              "    .dataframe tbody tr th:only-of-type {\n",
              "        vertical-align: middle;\n",
              "    }\n",
              "\n",
              "    .dataframe tbody tr th {\n",
              "        vertical-align: top;\n",
              "    }\n",
              "\n",
              "    .dataframe thead th {\n",
              "        text-align: right;\n",
              "    }\n",
              "</style>\n",
              "<table border=\"1\" class=\"dataframe\">\n",
              "  <thead>\n",
              "    <tr style=\"text-align: right;\">\n",
              "      <th></th>\n",
              "      <th>Transaction_date</th>\n",
              "      <th>Gender</th>\n",
              "      <th>Age</th>\n",
              "      <th>Marital_status</th>\n",
              "      <th>State_names</th>\n",
              "      <th>Segment</th>\n",
              "      <th>Employees_status</th>\n",
              "      <th>Payment_method</th>\n",
              "      <th>Referal</th>\n",
              "      <th>Amount_spent</th>\n",
              "    </tr>\n",
              "  </thead>\n",
              "  <tbody>\n",
              "    <tr>\n",
              "      <th>0</th>\n",
              "      <td>1/1/2019</td>\n",
              "      <td>Female</td>\n",
              "      <td>19.0</td>\n",
              "      <td>Single</td>\n",
              "      <td>Kansas</td>\n",
              "      <td>Basic</td>\n",
              "      <td>Unemployment</td>\n",
              "      <td>Other</td>\n",
              "      <td>1.0</td>\n",
              "      <td>2051.36</td>\n",
              "    </tr>\n",
              "    <tr>\n",
              "      <th>1</th>\n",
              "      <td>1/1/2019</td>\n",
              "      <td>Male</td>\n",
              "      <td>49.0</td>\n",
              "      <td>Single</td>\n",
              "      <td>Illinois</td>\n",
              "      <td>Basic</td>\n",
              "      <td>self-employed</td>\n",
              "      <td>Card</td>\n",
              "      <td>0.0</td>\n",
              "      <td>544.04</td>\n",
              "    </tr>\n",
              "    <tr>\n",
              "      <th>2</th>\n",
              "      <td>1/1/2019</td>\n",
              "      <td>Male</td>\n",
              "      <td>63.0</td>\n",
              "      <td>Married</td>\n",
              "      <td>New Mexico</td>\n",
              "      <td>Basic</td>\n",
              "      <td>workers</td>\n",
              "      <td>PayPal</td>\n",
              "      <td>1.0</td>\n",
              "      <td>1572.60</td>\n",
              "    </tr>\n",
              "    <tr>\n",
              "      <th>3</th>\n",
              "      <td>1/1/2019</td>\n",
              "      <td>NaN</td>\n",
              "      <td>18.0</td>\n",
              "      <td>Single</td>\n",
              "      <td>Virginia</td>\n",
              "      <td>Platinum</td>\n",
              "      <td>workers</td>\n",
              "      <td>Card</td>\n",
              "      <td>1.0</td>\n",
              "      <td>1199.79</td>\n",
              "    </tr>\n",
              "    <tr>\n",
              "      <th>4</th>\n",
              "      <td>1/1/2019</td>\n",
              "      <td>Male</td>\n",
              "      <td>27.0</td>\n",
              "      <td>Single</td>\n",
              "      <td>Connecticut</td>\n",
              "      <td>Basic</td>\n",
              "      <td>self-employed</td>\n",
              "      <td>Card</td>\n",
              "      <td>0.0</td>\n",
              "      <td>NaN</td>\n",
              "    </tr>\n",
              "    <tr>\n",
              "      <th>...</th>\n",
              "      <td>...</td>\n",
              "      <td>...</td>\n",
              "      <td>...</td>\n",
              "      <td>...</td>\n",
              "      <td>...</td>\n",
              "      <td>...</td>\n",
              "      <td>...</td>\n",
              "      <td>...</td>\n",
              "      <td>...</td>\n",
              "      <td>...</td>\n",
              "    </tr>\n",
              "    <tr>\n",
              "      <th>2507</th>\n",
              "      <td>5/1/2021</td>\n",
              "      <td>Female</td>\n",
              "      <td>57.0</td>\n",
              "      <td>Single</td>\n",
              "      <td>South Carolina</td>\n",
              "      <td>Platinum</td>\n",
              "      <td>self-employed</td>\n",
              "      <td>Card</td>\n",
              "      <td>0.0</td>\n",
              "      <td>150.10</td>\n",
              "    </tr>\n",
              "    <tr>\n",
              "      <th>2508</th>\n",
              "      <td>5/1/2021</td>\n",
              "      <td>Female</td>\n",
              "      <td>36.0</td>\n",
              "      <td>Married</td>\n",
              "      <td>Hawaii</td>\n",
              "      <td>Silver</td>\n",
              "      <td>self-employed</td>\n",
              "      <td>PayPal</td>\n",
              "      <td>1.0</td>\n",
              "      <td>708.88</td>\n",
              "    </tr>\n",
              "    <tr>\n",
              "      <th>2509</th>\n",
              "      <td>5/1/2021</td>\n",
              "      <td>Male</td>\n",
              "      <td>22.0</td>\n",
              "      <td>Single</td>\n",
              "      <td>South Carolina</td>\n",
              "      <td>Basic</td>\n",
              "      <td>workers</td>\n",
              "      <td>PayPal</td>\n",
              "      <td>1.0</td>\n",
              "      <td>2030.07</td>\n",
              "    </tr>\n",
              "    <tr>\n",
              "      <th>2510</th>\n",
              "      <td>5/1/2021</td>\n",
              "      <td>NaN</td>\n",
              "      <td>44.0</td>\n",
              "      <td>Single</td>\n",
              "      <td>New York</td>\n",
              "      <td>Basic</td>\n",
              "      <td>Employees</td>\n",
              "      <td>PayPal</td>\n",
              "      <td>0.0</td>\n",
              "      <td>1909.77</td>\n",
              "    </tr>\n",
              "    <tr>\n",
              "      <th>2511</th>\n",
              "      <td>5/1/2021</td>\n",
              "      <td>Male</td>\n",
              "      <td>48.0</td>\n",
              "      <td>Single</td>\n",
              "      <td>California</td>\n",
              "      <td>Silver</td>\n",
              "      <td>workers</td>\n",
              "      <td>PayPal</td>\n",
              "      <td>1.0</td>\n",
              "      <td>1073.15</td>\n",
              "    </tr>\n",
              "  </tbody>\n",
              "</table>\n",
              "<p>2512 rows × 10 columns</p>\n",
              "</div>"
            ],
            "text/plain": [
              "     Transaction_date  Gender   Age Marital_status     State_names   Segment  \\\n",
              "0            1/1/2019  Female  19.0         Single          Kansas     Basic   \n",
              "1            1/1/2019    Male  49.0         Single        Illinois     Basic   \n",
              "2            1/1/2019    Male  63.0        Married      New Mexico     Basic   \n",
              "3            1/1/2019     NaN  18.0         Single        Virginia  Platinum   \n",
              "4            1/1/2019    Male  27.0         Single     Connecticut     Basic   \n",
              "...               ...     ...   ...            ...             ...       ...   \n",
              "2507         5/1/2021  Female  57.0         Single  South Carolina  Platinum   \n",
              "2508         5/1/2021  Female  36.0        Married          Hawaii    Silver   \n",
              "2509         5/1/2021    Male  22.0         Single  South Carolina     Basic   \n",
              "2510         5/1/2021     NaN  44.0         Single        New York     Basic   \n",
              "2511         5/1/2021    Male  48.0         Single      California    Silver   \n",
              "\n",
              "     Employees_status Payment_method  Referal  Amount_spent  \n",
              "0        Unemployment          Other      1.0       2051.36  \n",
              "1       self-employed           Card      0.0        544.04  \n",
              "2             workers         PayPal      1.0       1572.60  \n",
              "3             workers           Card      1.0       1199.79  \n",
              "4       self-employed           Card      0.0           NaN  \n",
              "...               ...            ...      ...           ...  \n",
              "2507    self-employed           Card      0.0        150.10  \n",
              "2508    self-employed         PayPal      1.0        708.88  \n",
              "2509          workers         PayPal      1.0       2030.07  \n",
              "2510        Employees         PayPal      0.0       1909.77  \n",
              "2511          workers         PayPal      1.0       1073.15  \n",
              "\n",
              "[2512 rows x 10 columns]"
            ]
          },
          "execution_count": 11,
          "metadata": {},
          "output_type": "execute_result"
        }
      ],
      "source": [
        "# Drop unwanted columns 'Transaction_ID'\n",
        "\n",
        "df.drop(columns= 'Transaction_ID')"
      ]
    },
    {
      "cell_type": "markdown",
      "id": "jtlvWfg7KR_Q",
      "metadata": {
        "id": "jtlvWfg7KR_Q"
      },
      "source": [
        "#### Change Columns name"
      ]
    },
    {
      "cell_type": "code",
      "execution_count": 12,
      "id": "9c9e04c3",
      "metadata": {},
      "outputs": [],
      "source": [
        "df_col = df.copy()\n",
        "df_col.rename( columns= {'Gender':'Sex','Transaction_date': 'Date' },inplace= True)"
      ]
    },
    {
      "cell_type": "markdown",
      "id": "HXspyxQwg5wn",
      "metadata": {
        "id": "HXspyxQwg5wn"
      },
      "source": [
        "#### Adding a new column to a DataFrame\n",
        "\n"
      ]
    },
    {
      "cell_type": "code",
      "execution_count": 28,
      "id": "te1hhuRlhN-l",
      "metadata": {
        "id": "te1hhuRlhN-l"
      },
      "outputs": [
        {
          "data": {
            "text/plain": [
              "0       20513.6\n",
              "1        5440.4\n",
              "2       15726.0\n",
              "3       11997.9\n",
              "4           NaN\n",
              "         ...   \n",
              "2507     1501.0\n",
              "2508     7088.8\n",
              "2509    20300.7\n",
              "2510    19097.7\n",
              "2511    10731.5\n",
              "Name: new_col, Length: 2512, dtype: float64"
            ]
          },
          "execution_count": 28,
          "metadata": {},
          "output_type": "execute_result"
        }
      ],
      "source": [
        "# Add a new ajusted column which value will be Amount_spent * 100\n",
        "df['new_col'] = df['Amount_spent'].apply(lambda x: x*10)\n",
        "df['new_col']"
      ]
    },
    {
      "cell_type": "markdown",
      "id": "wEGhdvVnKiDy",
      "metadata": {
        "id": "wEGhdvVnKiDy"
      },
      "source": [
        "#### String value change or replace"
      ]
    },
    {
      "cell_type": "code",
      "execution_count": null,
      "id": "juaJjLGrFvP_",
      "metadata": {
        "colab": {
          "base_uri": "https://localhost:8080/",
          "height": 207
        },
        "id": "juaJjLGrFvP_",
        "outputId": "b73be5a5-236a-4e20-aa59-dc2e53a08b4c"
      },
      "outputs": [
        {
          "data": {
            "text/html": [
              "<div>\n",
              "<style scoped>\n",
              "    .dataframe tbody tr th:only-of-type {\n",
              "        vertical-align: middle;\n",
              "    }\n",
              "\n",
              "    .dataframe tbody tr th {\n",
              "        vertical-align: top;\n",
              "    }\n",
              "\n",
              "    .dataframe thead th {\n",
              "        text-align: right;\n",
              "    }\n",
              "</style>\n",
              "<table border=\"1\" class=\"dataframe\">\n",
              "  <thead>\n",
              "    <tr style=\"text-align: right;\">\n",
              "      <th></th>\n",
              "      <th>Date</th>\n",
              "      <th>Transaction_ID</th>\n",
              "      <th>Sex</th>\n",
              "      <th>Age</th>\n",
              "      <th>Marital_status</th>\n",
              "      <th>State_names</th>\n",
              "      <th>Segment</th>\n",
              "      <th>Employees_status</th>\n",
              "      <th>Payment_method</th>\n",
              "      <th>Referal</th>\n",
              "      <th>Amount_spent</th>\n",
              "      <th>new_col</th>\n",
              "    </tr>\n",
              "  </thead>\n",
              "  <tbody>\n",
              "    <tr>\n",
              "      <th>0</th>\n",
              "      <td>1/1/2019</td>\n",
              "      <td>151200</td>\n",
              "      <td>Female</td>\n",
              "      <td>19.0</td>\n",
              "      <td>Single</td>\n",
              "      <td>Kansas</td>\n",
              "      <td>Basic</td>\n",
              "      <td>Unemployment</td>\n",
              "      <td>Other</td>\n",
              "      <td>1.0</td>\n",
              "      <td>2051.36</td>\n",
              "      <td>205136.0</td>\n",
              "    </tr>\n",
              "    <tr>\n",
              "      <th>1</th>\n",
              "      <td>1/1/2019</td>\n",
              "      <td>151201</td>\n",
              "      <td>Male</td>\n",
              "      <td>49.0</td>\n",
              "      <td>Single</td>\n",
              "      <td>Illinois</td>\n",
              "      <td>Basic</td>\n",
              "      <td>self-employed</td>\n",
              "      <td>Card</td>\n",
              "      <td>0.0</td>\n",
              "      <td>544.04</td>\n",
              "      <td>54404.0</td>\n",
              "    </tr>\n",
              "    <tr>\n",
              "      <th>2</th>\n",
              "      <td>1/1/2019</td>\n",
              "      <td>151202</td>\n",
              "      <td>Male</td>\n",
              "      <td>63.0</td>\n",
              "      <td>Married</td>\n",
              "      <td>New Mexico</td>\n",
              "      <td>Basic</td>\n",
              "      <td>workers</td>\n",
              "      <td>PayPal</td>\n",
              "      <td>1.0</td>\n",
              "      <td>1572.60</td>\n",
              "      <td>157260.0</td>\n",
              "    </tr>\n",
              "  </tbody>\n",
              "</table>\n",
              "</div>"
            ],
            "text/plain": [
              "       Date  Transaction_ID     Sex   Age Marital_status State_names Segment  \\\n",
              "0  1/1/2019          151200  Female  19.0         Single      Kansas   Basic   \n",
              "1  1/1/2019          151201    Male  49.0         Single    Illinois   Basic   \n",
              "2  1/1/2019          151202    Male  63.0        Married  New Mexico   Basic   \n",
              "\n",
              "  Employees_status Payment_method  Referal  Amount_spent   new_col  \n",
              "0     Unemployment          Other      1.0       2051.36  205136.0  \n",
              "1    self-employed           Card      0.0        544.04   54404.0  \n",
              "2          workers         PayPal      1.0       1572.60  157260.0  "
            ]
          },
          "execution_count": 24,
          "metadata": {},
          "output_type": "execute_result"
        }
      ],
      "source": [
        "df_col.head(3)"
      ]
    },
    {
      "cell_type": "code",
      "execution_count": 16,
      "id": "52d907bd",
      "metadata": {},
      "outputs": [
        {
          "data": {
            "text/plain": [
              "0       Woman\n",
              "1         Man\n",
              "2         Man\n",
              "3         NaN\n",
              "4         Man\n",
              "        ...  \n",
              "2507    Woman\n",
              "2508    Woman\n",
              "2509      Man\n",
              "2510      NaN\n",
              "2511      Man\n",
              "Name: Sex, Length: 2512, dtype: object"
            ]
          },
          "execution_count": 16,
          "metadata": {},
          "output_type": "execute_result"
        }
      ],
      "source": [
        "df_col['Sex'] = df_col['Sex'].str.replace(\"Female\", \"Woman\")\n",
        "df_col['Sex'] = df_col['Sex'].str.replace(\"Male\", \"Man\")\n",
        "df_col['Sex'] "
      ]
    },
    {
      "cell_type": "code",
      "execution_count": 17,
      "id": "9d3f9e8d",
      "metadata": {},
      "outputs": [
        {
          "data": {
            "text/plain": [
              "28"
            ]
          },
          "execution_count": 17,
          "metadata": {},
          "output_type": "execute_result"
        }
      ],
      "source": [
        "df_col['Sex'].isna().sum()"
      ]
    },
    {
      "cell_type": "code",
      "execution_count": 18,
      "id": "qYOI7nb2KpfL",
      "metadata": {
        "id": "qYOI7nb2KpfL",
        "outputId": "a7be3fb3-7833-4734-cbbb-3cf8e33de84f"
      },
      "outputs": [
        {
          "data": {
            "text/plain": [
              "0       Woman\n",
              "1         Man\n",
              "2         Man\n",
              "3         NaN\n",
              "4         Man\n",
              "        ...  \n",
              "2507    Woman\n",
              "2508    Woman\n",
              "2509      Man\n",
              "2510      NaN\n",
              "2511      Man\n",
              "Name: Sex, Length: 2512, dtype: object"
            ]
          },
          "execution_count": 18,
          "metadata": {},
          "output_type": "execute_result"
        }
      ],
      "source": [
        "# changing Female to Woman and Male to Man in Sex column.\n",
        "#first argument in loc function is condition and second one is columns name.\n",
        "\n",
        "df_col['Sex']\n",
        "\n"
      ]
    },
    {
      "cell_type": "code",
      "execution_count": 54,
      "id": "Q7EoRcMSF132",
      "metadata": {
        "colab": {
          "base_uri": "https://localhost:8080/",
          "height": 207
        },
        "id": "Q7EoRcMSF132",
        "outputId": "997a105c-c5ad-4ef9-b738-978d61bcb090"
      },
      "outputs": [
        {
          "data": {
            "text/html": [
              "<div>\n",
              "<style scoped>\n",
              "    .dataframe tbody tr th:only-of-type {\n",
              "        vertical-align: middle;\n",
              "    }\n",
              "\n",
              "    .dataframe tbody tr th {\n",
              "        vertical-align: top;\n",
              "    }\n",
              "\n",
              "    .dataframe thead th {\n",
              "        text-align: right;\n",
              "    }\n",
              "</style>\n",
              "<table border=\"1\" class=\"dataframe\">\n",
              "  <thead>\n",
              "    <tr style=\"text-align: right;\">\n",
              "      <th></th>\n",
              "      <th>Transaction_date</th>\n",
              "      <th>Transaction_ID</th>\n",
              "      <th>Sex</th>\n",
              "      <th>Age</th>\n",
              "      <th>Marital_status</th>\n",
              "      <th>State_names</th>\n",
              "      <th>Segment</th>\n",
              "      <th>Employees_status</th>\n",
              "      <th>Payment_method</th>\n",
              "      <th>Referal</th>\n",
              "      <th>Amount_spent</th>\n",
              "      <th>New</th>\n",
              "      <th>new_col</th>\n",
              "    </tr>\n",
              "  </thead>\n",
              "  <tbody>\n",
              "    <tr>\n",
              "      <th>0</th>\n",
              "      <td>1/1/2019</td>\n",
              "      <td>151200</td>\n",
              "      <td>Woman</td>\n",
              "      <td>19.0</td>\n",
              "      <td>Single</td>\n",
              "      <td>Kansas</td>\n",
              "      <td>Basic</td>\n",
              "      <td>Unemployment</td>\n",
              "      <td>Other</td>\n",
              "      <td>1.0</td>\n",
              "      <td>2051.36</td>\n",
              "      <td>20513.6</td>\n",
              "      <td>20513.6</td>\n",
              "    </tr>\n",
              "    <tr>\n",
              "      <th>1</th>\n",
              "      <td>1/1/2019</td>\n",
              "      <td>151201</td>\n",
              "      <td>Man</td>\n",
              "      <td>49.0</td>\n",
              "      <td>Single</td>\n",
              "      <td>Illinois</td>\n",
              "      <td>Basic</td>\n",
              "      <td>self-employed</td>\n",
              "      <td>Card</td>\n",
              "      <td>0.0</td>\n",
              "      <td>544.04</td>\n",
              "      <td>5440.4</td>\n",
              "      <td>5440.4</td>\n",
              "    </tr>\n",
              "    <tr>\n",
              "      <th>2</th>\n",
              "      <td>1/1/2019</td>\n",
              "      <td>151202</td>\n",
              "      <td>Man</td>\n",
              "      <td>63.0</td>\n",
              "      <td>Married</td>\n",
              "      <td>New Mexico</td>\n",
              "      <td>Basic</td>\n",
              "      <td>workers</td>\n",
              "      <td>PayPal</td>\n",
              "      <td>1.0</td>\n",
              "      <td>1572.60</td>\n",
              "      <td>15726.0</td>\n",
              "      <td>15726.0</td>\n",
              "    </tr>\n",
              "  </tbody>\n",
              "</table>\n",
              "</div>"
            ],
            "text/plain": [
              "  Transaction_date  Transaction_ID    Sex   Age Marital_status State_names  \\\n",
              "0         1/1/2019          151200  Woman  19.0         Single      Kansas   \n",
              "1         1/1/2019          151201    Man  49.0         Single    Illinois   \n",
              "2         1/1/2019          151202    Man  63.0        Married  New Mexico   \n",
              "\n",
              "  Segment Employees_status Payment_method  Referal  Amount_spent      New  \\\n",
              "0   Basic     Unemployment          Other      1.0       2051.36  20513.6   \n",
              "1   Basic    self-employed           Card      0.0        544.04   5440.4   \n",
              "2   Basic          workers         PayPal      1.0       1572.60  15726.0   \n",
              "\n",
              "   new_col  \n",
              "0  20513.6  \n",
              "1   5440.4  \n",
              "2  15726.0  "
            ]
          },
          "execution_count": 54,
          "metadata": {},
          "output_type": "execute_result"
        }
      ],
      "source": [
        "df_col.head(3)"
      ]
    },
    {
      "cell_type": "markdown",
      "id": "3JWg0IavF531",
      "metadata": {
        "id": "3JWg0IavF531"
      },
      "source": [
        "Now Sex columns values are changed Female to Woman and Male to Man."
      ]
    },
    {
      "cell_type": "markdown",
      "id": "T7sc_D_N267m",
      "metadata": {
        "id": "T7sc_D_N267m"
      },
      "source": [
        "#### Datatypes change"
      ]
    },
    {
      "cell_type": "code",
      "execution_count": 60,
      "id": "uINSYaj54XnX",
      "metadata": {
        "colab": {
          "base_uri": "https://localhost:8080/"
        },
        "id": "uINSYaj54XnX",
        "outputId": "c445c91f-88cb-4e8c-a055-380a61068a46",
        "scrolled": true
      },
      "outputs": [
        {
          "name": "stdout",
          "output_type": "stream",
          "text": [
            "<class 'pandas.core.frame.DataFrame'>\n",
            "RangeIndex: 2512 entries, 0 to 2511\n",
            "Data columns (total 13 columns):\n",
            " #   Column            Non-Null Count  Dtype  \n",
            "---  ------            --------------  -----  \n",
            " 0   Date              2512 non-null   object \n",
            " 1   Transaction_ID    2512 non-null   int64  \n",
            " 2   Sex               2484 non-null   object \n",
            " 3   Age               2470 non-null   float64\n",
            " 4   Marital_status    2512 non-null   object \n",
            " 5   State_names       2512 non-null   object \n",
            " 6   Segment           2512 non-null   object \n",
            " 7   Employees_status  2486 non-null   object \n",
            " 8   Payment_method    2512 non-null   object \n",
            " 9   Referal           2357 non-null   float64\n",
            " 10  Amount_spent      2270 non-null   float64\n",
            " 11  New               2270 non-null   float64\n",
            " 12  new_col           2270 non-null   float64\n",
            "dtypes: float64(5), int64(1), object(7)\n",
            "memory usage: 255.3+ KB\n"
          ]
        }
      ],
      "source": [
        "df_col.info()"
      ]
    },
    {
      "cell_type": "markdown",
      "id": "IHa8ZUo84cVD",
      "metadata": {
        "id": "IHa8ZUo84cVD"
      },
      "source": [
        "In our `Date` columns, it's object type so now we will convert this to date types, and also we will convert `Referal` columns float64 to float32."
      ]
    },
    {
      "cell_type": "code",
      "execution_count": 19,
      "id": "8yfIDgFg4zhY",
      "metadata": {
        "id": "8yfIDgFg4zhY"
      },
      "outputs": [],
      "source": [
        "# change object type to datetime64 format\n",
        "df_col['Date'] = df_col['Date'].astype(\"datetime64[ns]\")\n",
        "\n",
        "# change float64 to float32 of Referal columns\n",
        "df_col[\"Referal\"] = df_col[\"Referal\"].astype(\"float32\")\n"
      ]
    },
    {
      "cell_type": "code",
      "execution_count": 20,
      "id": "V6Ux9BVcBJZc",
      "metadata": {
        "colab": {
          "base_uri": "https://localhost:8080/"
        },
        "id": "V6Ux9BVcBJZc",
        "outputId": "7a4d7706-d840-4a69-db53-0848466199de"
      },
      "outputs": [
        {
          "name": "stdout",
          "output_type": "stream",
          "text": [
            "<class 'pandas.core.frame.DataFrame'>\n",
            "RangeIndex: 2512 entries, 0 to 2511\n",
            "Data columns (total 11 columns):\n",
            " #   Column            Non-Null Count  Dtype         \n",
            "---  ------            --------------  -----         \n",
            " 0   Date              2512 non-null   datetime64[ns]\n",
            " 1   Transaction_ID    2512 non-null   int64         \n",
            " 2   Sex               2484 non-null   object        \n",
            " 3   Age               2470 non-null   float64       \n",
            " 4   Marital_status    2512 non-null   object        \n",
            " 5   State_names       2512 non-null   object        \n",
            " 6   Segment           2512 non-null   object        \n",
            " 7   Employees_status  2486 non-null   object        \n",
            " 8   Payment_method    2512 non-null   object        \n",
            " 9   Referal           2357 non-null   float32       \n",
            " 10  Amount_spent      2270 non-null   float64       \n",
            "dtypes: datetime64[ns](1), float32(1), float64(2), int64(1), object(6)\n",
            "memory usage: 206.2+ KB\n"
          ]
        }
      ],
      "source": [
        "df_col.info()"
      ]
    },
    {
      "cell_type": "markdown",
      "id": "dcf97600",
      "metadata": {
        "id": "dcf97600"
      },
      "source": [
        "### 3.3 Remove duplicate"
      ]
    },
    {
      "cell_type": "code",
      "execution_count": 21,
      "id": "dc549528",
      "metadata": {
        "colab": {
          "base_uri": "https://localhost:8080/"
        },
        "id": "dc549528",
        "outputId": "41e54aab-cae1-4fd1-ebc5-f5e62b338374"
      },
      "outputs": [
        {
          "data": {
            "text/plain": [
              "False    2500\n",
              "True       12\n",
              "Name: count, dtype: int64"
            ]
          },
          "execution_count": 21,
          "metadata": {},
          "output_type": "execute_result"
        }
      ],
      "source": [
        "# Display duplicated entries\n",
        "df_col.duplicated().value_counts()"
      ]
    },
    {
      "cell_type": "code",
      "execution_count": 22,
      "id": "00fe073d",
      "metadata": {
        "colab": {
          "base_uri": "https://localhost:8080/",
          "height": 542
        },
        "id": "00fe073d",
        "outputId": "dccf29c5-2122-4b6b-cceb-e11a1764fa15"
      },
      "outputs": [
        {
          "data": {
            "application/vnd.microsoft.datawrangler.viewer.v0+json": {
              "columns": [
                {
                  "name": "index",
                  "rawType": "int64",
                  "type": "integer"
                },
                {
                  "name": "Date",
                  "rawType": "datetime64[ns]",
                  "type": "datetime"
                },
                {
                  "name": "Transaction_ID",
                  "rawType": "int64",
                  "type": "integer"
                },
                {
                  "name": "Sex",
                  "rawType": "object",
                  "type": "string"
                },
                {
                  "name": "Age",
                  "rawType": "float64",
                  "type": "float"
                },
                {
                  "name": "Marital_status",
                  "rawType": "object",
                  "type": "string"
                },
                {
                  "name": "State_names",
                  "rawType": "object",
                  "type": "string"
                },
                {
                  "name": "Segment",
                  "rawType": "object",
                  "type": "string"
                },
                {
                  "name": "Employees_status",
                  "rawType": "object",
                  "type": "string"
                },
                {
                  "name": "Payment_method",
                  "rawType": "object",
                  "type": "string"
                },
                {
                  "name": "Referal",
                  "rawType": "float32",
                  "type": "float"
                },
                {
                  "name": "Amount_spent",
                  "rawType": "float64",
                  "type": "float"
                }
              ],
              "conversionMethod": "pd.DataFrame",
              "ref": "5caa9506-4b84-46c7-afea-98c2b4669a93",
              "rows": [
                [
                  "64",
                  "2019-01-25 00:00:00",
                  "151259",
                  "Man",
                  "73.0",
                  "Married",
                  "West Virginia",
                  "Basic",
                  "Employees",
                  "PayPal",
                  "0.0",
                  "1397.09"
                ],
                [
                  "65",
                  "2019-01-26 00:00:00",
                  "151260",
                  "Man",
                  "55.0",
                  "Married",
                  "Kansas",
                  "Basic",
                  "Employees",
                  "Other",
                  "1.0",
                  "1277.64"
                ],
                [
                  "66",
                  "2019-01-26 00:00:00",
                  "151261",
                  "Woman",
                  "72.0",
                  "Married",
                  "Iowa",
                  "Silver",
                  "Unemployment",
                  "PayPal",
                  null,
                  "515.77"
                ],
                [
                  "67",
                  "2019-01-26 00:00:00",
                  "151262",
                  "Man",
                  "15.0",
                  "Married",
                  "South Carolina",
                  "Basic",
                  "self-employed",
                  "Other",
                  "1.0",
                  "790.1"
                ],
                [
                  "68",
                  "2019-01-27 00:00:00",
                  "151263",
                  "Woman",
                  "63.0",
                  "Single",
                  "Texas",
                  "Gold",
                  "Employees",
                  "Card",
                  "1.0",
                  "1218.56"
                ],
                [
                  "109",
                  "2019-02-06 00:00:00",
                  "151297",
                  "Man",
                  "60.0",
                  "Married",
                  "Utah",
                  "Silver",
                  "Unemployment",
                  "Other",
                  "1.0",
                  "433.2"
                ],
                [
                  "110",
                  "2019-02-07 00:00:00",
                  "151298",
                  "Woman",
                  "45.0",
                  "Married",
                  "Missouri",
                  "Platinum",
                  "workers",
                  "Other",
                  "1.0",
                  "929.89"
                ],
                [
                  "111",
                  "2019-02-08 00:00:00",
                  "151299",
                  "Man",
                  "33.0",
                  "Single",
                  "Arizona",
                  "Silver",
                  "workers",
                  "PayPal",
                  "0.0",
                  "2560.26"
                ],
                [
                  "112",
                  "2019-02-08 00:00:00",
                  "151300",
                  "Man",
                  "24.0",
                  "Married",
                  "South Carolina",
                  "Basic",
                  "Unemployment",
                  "Other",
                  "0.0",
                  null
                ],
                [
                  "113",
                  "2019-02-08 00:00:00",
                  "151301",
                  "Woman",
                  "53.0",
                  "Single",
                  "Colorado",
                  "Basic",
                  "self-employed",
                  "Other",
                  "1.0",
                  "1888.69"
                ],
                [
                  "114",
                  "2019-02-08 00:00:00",
                  "151302",
                  "Woman",
                  "70.0",
                  "Married",
                  "New Hampshire",
                  "Missing",
                  "Employees",
                  "Card",
                  "1.0",
                  "685.49"
                ],
                [
                  "115",
                  "2019-02-08 00:00:00",
                  "151303",
                  "Man",
                  "16.0",
                  "Married",
                  "Nebraska",
                  "Basic",
                  "workers",
                  "PayPal",
                  "1.0",
                  "1264.73"
                ]
              ],
              "shape": {
                "columns": 11,
                "rows": 12
              }
            },
            "text/html": [
              "<div>\n",
              "<style scoped>\n",
              "    .dataframe tbody tr th:only-of-type {\n",
              "        vertical-align: middle;\n",
              "    }\n",
              "\n",
              "    .dataframe tbody tr th {\n",
              "        vertical-align: top;\n",
              "    }\n",
              "\n",
              "    .dataframe thead th {\n",
              "        text-align: right;\n",
              "    }\n",
              "</style>\n",
              "<table border=\"1\" class=\"dataframe\">\n",
              "  <thead>\n",
              "    <tr style=\"text-align: right;\">\n",
              "      <th></th>\n",
              "      <th>Date</th>\n",
              "      <th>Transaction_ID</th>\n",
              "      <th>Sex</th>\n",
              "      <th>Age</th>\n",
              "      <th>Marital_status</th>\n",
              "      <th>State_names</th>\n",
              "      <th>Segment</th>\n",
              "      <th>Employees_status</th>\n",
              "      <th>Payment_method</th>\n",
              "      <th>Referal</th>\n",
              "      <th>Amount_spent</th>\n",
              "    </tr>\n",
              "  </thead>\n",
              "  <tbody>\n",
              "    <tr>\n",
              "      <th>64</th>\n",
              "      <td>2019-01-25</td>\n",
              "      <td>151259</td>\n",
              "      <td>Man</td>\n",
              "      <td>73.0</td>\n",
              "      <td>Married</td>\n",
              "      <td>West Virginia</td>\n",
              "      <td>Basic</td>\n",
              "      <td>Employees</td>\n",
              "      <td>PayPal</td>\n",
              "      <td>0.0</td>\n",
              "      <td>1397.09</td>\n",
              "    </tr>\n",
              "    <tr>\n",
              "      <th>65</th>\n",
              "      <td>2019-01-26</td>\n",
              "      <td>151260</td>\n",
              "      <td>Man</td>\n",
              "      <td>55.0</td>\n",
              "      <td>Married</td>\n",
              "      <td>Kansas</td>\n",
              "      <td>Basic</td>\n",
              "      <td>Employees</td>\n",
              "      <td>Other</td>\n",
              "      <td>1.0</td>\n",
              "      <td>1277.64</td>\n",
              "    </tr>\n",
              "    <tr>\n",
              "      <th>66</th>\n",
              "      <td>2019-01-26</td>\n",
              "      <td>151261</td>\n",
              "      <td>Woman</td>\n",
              "      <td>72.0</td>\n",
              "      <td>Married</td>\n",
              "      <td>Iowa</td>\n",
              "      <td>Silver</td>\n",
              "      <td>Unemployment</td>\n",
              "      <td>PayPal</td>\n",
              "      <td>NaN</td>\n",
              "      <td>515.77</td>\n",
              "    </tr>\n",
              "    <tr>\n",
              "      <th>67</th>\n",
              "      <td>2019-01-26</td>\n",
              "      <td>151262</td>\n",
              "      <td>Man</td>\n",
              "      <td>15.0</td>\n",
              "      <td>Married</td>\n",
              "      <td>South Carolina</td>\n",
              "      <td>Basic</td>\n",
              "      <td>self-employed</td>\n",
              "      <td>Other</td>\n",
              "      <td>1.0</td>\n",
              "      <td>790.10</td>\n",
              "    </tr>\n",
              "    <tr>\n",
              "      <th>68</th>\n",
              "      <td>2019-01-27</td>\n",
              "      <td>151263</td>\n",
              "      <td>Woman</td>\n",
              "      <td>63.0</td>\n",
              "      <td>Single</td>\n",
              "      <td>Texas</td>\n",
              "      <td>Gold</td>\n",
              "      <td>Employees</td>\n",
              "      <td>Card</td>\n",
              "      <td>1.0</td>\n",
              "      <td>1218.56</td>\n",
              "    </tr>\n",
              "    <tr>\n",
              "      <th>109</th>\n",
              "      <td>2019-02-06</td>\n",
              "      <td>151297</td>\n",
              "      <td>Man</td>\n",
              "      <td>60.0</td>\n",
              "      <td>Married</td>\n",
              "      <td>Utah</td>\n",
              "      <td>Silver</td>\n",
              "      <td>Unemployment</td>\n",
              "      <td>Other</td>\n",
              "      <td>1.0</td>\n",
              "      <td>433.20</td>\n",
              "    </tr>\n",
              "    <tr>\n",
              "      <th>110</th>\n",
              "      <td>2019-02-07</td>\n",
              "      <td>151298</td>\n",
              "      <td>Woman</td>\n",
              "      <td>45.0</td>\n",
              "      <td>Married</td>\n",
              "      <td>Missouri</td>\n",
              "      <td>Platinum</td>\n",
              "      <td>workers</td>\n",
              "      <td>Other</td>\n",
              "      <td>1.0</td>\n",
              "      <td>929.89</td>\n",
              "    </tr>\n",
              "    <tr>\n",
              "      <th>111</th>\n",
              "      <td>2019-02-08</td>\n",
              "      <td>151299</td>\n",
              "      <td>Man</td>\n",
              "      <td>33.0</td>\n",
              "      <td>Single</td>\n",
              "      <td>Arizona</td>\n",
              "      <td>Silver</td>\n",
              "      <td>workers</td>\n",
              "      <td>PayPal</td>\n",
              "      <td>0.0</td>\n",
              "      <td>2560.26</td>\n",
              "    </tr>\n",
              "    <tr>\n",
              "      <th>112</th>\n",
              "      <td>2019-02-08</td>\n",
              "      <td>151300</td>\n",
              "      <td>Man</td>\n",
              "      <td>24.0</td>\n",
              "      <td>Married</td>\n",
              "      <td>South Carolina</td>\n",
              "      <td>Basic</td>\n",
              "      <td>Unemployment</td>\n",
              "      <td>Other</td>\n",
              "      <td>0.0</td>\n",
              "      <td>NaN</td>\n",
              "    </tr>\n",
              "    <tr>\n",
              "      <th>113</th>\n",
              "      <td>2019-02-08</td>\n",
              "      <td>151301</td>\n",
              "      <td>Woman</td>\n",
              "      <td>53.0</td>\n",
              "      <td>Single</td>\n",
              "      <td>Colorado</td>\n",
              "      <td>Basic</td>\n",
              "      <td>self-employed</td>\n",
              "      <td>Other</td>\n",
              "      <td>1.0</td>\n",
              "      <td>1888.69</td>\n",
              "    </tr>\n",
              "    <tr>\n",
              "      <th>114</th>\n",
              "      <td>2019-02-08</td>\n",
              "      <td>151302</td>\n",
              "      <td>Woman</td>\n",
              "      <td>70.0</td>\n",
              "      <td>Married</td>\n",
              "      <td>New Hampshire</td>\n",
              "      <td>Missing</td>\n",
              "      <td>Employees</td>\n",
              "      <td>Card</td>\n",
              "      <td>1.0</td>\n",
              "      <td>685.49</td>\n",
              "    </tr>\n",
              "    <tr>\n",
              "      <th>115</th>\n",
              "      <td>2019-02-08</td>\n",
              "      <td>151303</td>\n",
              "      <td>Man</td>\n",
              "      <td>16.0</td>\n",
              "      <td>Married</td>\n",
              "      <td>Nebraska</td>\n",
              "      <td>Basic</td>\n",
              "      <td>workers</td>\n",
              "      <td>PayPal</td>\n",
              "      <td>1.0</td>\n",
              "      <td>1264.73</td>\n",
              "    </tr>\n",
              "  </tbody>\n",
              "</table>\n",
              "</div>"
            ],
            "text/plain": [
              "          Date  Transaction_ID    Sex   Age Marital_status     State_names  \\\n",
              "64  2019-01-25          151259    Man  73.0        Married   West Virginia   \n",
              "65  2019-01-26          151260    Man  55.0        Married          Kansas   \n",
              "66  2019-01-26          151261  Woman  72.0        Married            Iowa   \n",
              "67  2019-01-26          151262    Man  15.0        Married  South Carolina   \n",
              "68  2019-01-27          151263  Woman  63.0         Single           Texas   \n",
              "109 2019-02-06          151297    Man  60.0        Married            Utah   \n",
              "110 2019-02-07          151298  Woman  45.0        Married        Missouri   \n",
              "111 2019-02-08          151299    Man  33.0         Single         Arizona   \n",
              "112 2019-02-08          151300    Man  24.0        Married  South Carolina   \n",
              "113 2019-02-08          151301  Woman  53.0         Single        Colorado   \n",
              "114 2019-02-08          151302  Woman  70.0        Married   New Hampshire   \n",
              "115 2019-02-08          151303    Man  16.0        Married        Nebraska   \n",
              "\n",
              "      Segment Employees_status Payment_method  Referal  Amount_spent  \n",
              "64      Basic        Employees         PayPal      0.0       1397.09  \n",
              "65      Basic        Employees          Other      1.0       1277.64  \n",
              "66     Silver     Unemployment         PayPal      NaN        515.77  \n",
              "67      Basic    self-employed          Other      1.0        790.10  \n",
              "68       Gold        Employees           Card      1.0       1218.56  \n",
              "109    Silver     Unemployment          Other      1.0        433.20  \n",
              "110  Platinum          workers          Other      1.0        929.89  \n",
              "111    Silver          workers         PayPal      0.0       2560.26  \n",
              "112     Basic     Unemployment          Other      0.0           NaN  \n",
              "113     Basic    self-employed          Other      1.0       1888.69  \n",
              "114   Missing        Employees           Card      1.0        685.49  \n",
              "115     Basic          workers         PayPal      1.0       1264.73  "
            ]
          },
          "execution_count": 22,
          "metadata": {},
          "output_type": "execute_result"
        }
      ],
      "source": [
        "# duplicate rows dispaly, keep arguments will--- 'first', 'last' and False\n",
        "duplicate_value = df_col.duplicated()\n",
        "\n",
        "df_col.loc[duplicate_value, :]"
      ]
    },
    {
      "cell_type": "code",
      "execution_count": 23,
      "id": "6fb4d3eb",
      "metadata": {
        "id": "6fb4d3eb",
        "outputId": "05b53e09-c883-4ada-af36-1ab3bf59b0b0"
      },
      "outputs": [
        {
          "data": {
            "application/vnd.microsoft.datawrangler.viewer.v0+json": {
              "columns": [
                {
                  "name": "index",
                  "rawType": "int64",
                  "type": "integer"
                },
                {
                  "name": "Date",
                  "rawType": "datetime64[ns]",
                  "type": "datetime"
                },
                {
                  "name": "Transaction_ID",
                  "rawType": "int64",
                  "type": "integer"
                },
                {
                  "name": "Sex",
                  "rawType": "object",
                  "type": "unknown"
                },
                {
                  "name": "Age",
                  "rawType": "float64",
                  "type": "float"
                },
                {
                  "name": "Marital_status",
                  "rawType": "object",
                  "type": "string"
                },
                {
                  "name": "State_names",
                  "rawType": "object",
                  "type": "string"
                },
                {
                  "name": "Segment",
                  "rawType": "object",
                  "type": "string"
                },
                {
                  "name": "Employees_status",
                  "rawType": "object",
                  "type": "unknown"
                },
                {
                  "name": "Payment_method",
                  "rawType": "object",
                  "type": "string"
                },
                {
                  "name": "Referal",
                  "rawType": "float32",
                  "type": "float"
                },
                {
                  "name": "Amount_spent",
                  "rawType": "float64",
                  "type": "float"
                }
              ],
              "conversionMethod": "pd.DataFrame",
              "ref": "0b6f91f1-7b3f-464c-84c9-0f084e648c8b",
              "rows": [
                [
                  "0",
                  "2019-01-01 00:00:00",
                  "151200",
                  "Woman",
                  "19.0",
                  "Single",
                  "Kansas",
                  "Basic",
                  "Unemployment",
                  "Other",
                  "1.0",
                  "2051.36"
                ],
                [
                  "1",
                  "2019-01-01 00:00:00",
                  "151201",
                  "Man",
                  "49.0",
                  "Single",
                  "Illinois",
                  "Basic",
                  "self-employed",
                  "Card",
                  "0.0",
                  "544.04"
                ],
                [
                  "2",
                  "2019-01-01 00:00:00",
                  "151202",
                  "Man",
                  "63.0",
                  "Married",
                  "New Mexico",
                  "Basic",
                  "workers",
                  "PayPal",
                  "1.0",
                  "1572.6"
                ],
                [
                  "3",
                  "2019-01-01 00:00:00",
                  "151203",
                  null,
                  "18.0",
                  "Single",
                  "Virginia",
                  "Platinum",
                  "workers",
                  "Card",
                  "1.0",
                  "1199.79"
                ],
                [
                  "4",
                  "2019-01-01 00:00:00",
                  "151204",
                  "Man",
                  "27.0",
                  "Single",
                  "Connecticut",
                  "Basic",
                  "self-employed",
                  "Card",
                  "0.0",
                  null
                ],
                [
                  "5",
                  "2019-01-03 00:00:00",
                  "151205",
                  "Man",
                  "71.0",
                  "Single",
                  "Hawaii",
                  "Basic",
                  "Employees",
                  "PayPal",
                  "1.0",
                  "2922.66"
                ],
                [
                  "6",
                  "2019-01-03 00:00:00",
                  "151206",
                  "Woman",
                  "34.0",
                  "Married",
                  "New Mexico",
                  "Platinum",
                  "Employees",
                  "PayPal",
                  "1.0",
                  "1481.42"
                ],
                [
                  "7",
                  "2019-01-03 00:00:00",
                  "151207",
                  "Man",
                  "37.0",
                  "Married",
                  "Connecticut",
                  "Basic",
                  "workers",
                  "PayPal",
                  "1.0",
                  "1149.55"
                ],
                [
                  "8",
                  "2019-01-04 00:00:00",
                  "151208",
                  "Man",
                  "75.0",
                  "Married",
                  "Florida",
                  "Silver",
                  "Employees",
                  "Card",
                  "0.0",
                  "1046.2"
                ],
                [
                  "9",
                  "2019-01-04 00:00:00",
                  "151209",
                  "Woman",
                  "41.0",
                  "Married",
                  "Vermont",
                  "Gold",
                  "Unemployment",
                  "Card",
                  "1.0",
                  "2730.6"
                ],
                [
                  "10",
                  "2019-01-04 00:00:00",
                  "151210",
                  "Woman",
                  "56.0",
                  "Married",
                  "California",
                  "Basic",
                  "Employees",
                  "PayPal",
                  "0.0",
                  "1712.82"
                ],
                [
                  "11",
                  "2019-01-05 00:00:00",
                  "151211",
                  "Woman",
                  "63.0",
                  "Married",
                  "Colorado",
                  "Basic",
                  "workers",
                  "Other",
                  "1.0",
                  "154.31"
                ],
                [
                  "12",
                  "2019-01-05 00:00:00",
                  "151212",
                  "Woman",
                  "60.0",
                  "Married",
                  "Iowa",
                  "Basic",
                  "self-employed",
                  "Card",
                  "1.0",
                  "819.08"
                ],
                [
                  "13",
                  "2019-01-05 00:00:00",
                  "151213",
                  "Man",
                  "47.0",
                  "Single",
                  "South Carolina",
                  "Basic",
                  "Employees",
                  "PayPal",
                  "1.0",
                  "1719.83"
                ],
                [
                  "14",
                  "2019-01-05 00:00:00",
                  "151214",
                  "Man",
                  "24.0",
                  "Married",
                  "Colorado",
                  "Platinum",
                  "self-employed",
                  "Other",
                  "1.0",
                  "954.12"
                ],
                [
                  "15",
                  "2019-01-06 00:00:00",
                  "151215",
                  "Man",
                  "16.0",
                  "Single",
                  "New York",
                  "Platinum",
                  "workers",
                  "Other",
                  "1.0",
                  "1005.92"
                ],
                [
                  "16",
                  "2019-01-06 00:00:00",
                  "151216",
                  "Woman",
                  "72.0",
                  "Married",
                  "Maine",
                  "Silver",
                  "self-employed",
                  "PayPal",
                  "1.0",
                  "2882.77"
                ],
                [
                  "17",
                  "2019-01-07 00:00:00",
                  "151217",
                  "Woman",
                  "77.0",
                  "Married",
                  "New Mexico",
                  "Platinum",
                  "workers",
                  "Card",
                  "0.0",
                  "2999.98"
                ],
                [
                  "18",
                  "2019-01-07 00:00:00",
                  "151218",
                  "Man",
                  "42.0",
                  "Married",
                  "Maryland",
                  "Basic",
                  "self-employed",
                  "Other",
                  "0.0",
                  "1902.73"
                ],
                [
                  "19",
                  "2019-01-08 00:00:00",
                  "151219",
                  "Woman",
                  "46.0",
                  "Married",
                  "Missouri",
                  "Basic",
                  "Employees",
                  "Card",
                  "1.0",
                  "2968.95"
                ],
                [
                  "20",
                  "2019-01-08 00:00:00",
                  "151220",
                  "Woman",
                  "19.0",
                  "Married",
                  "Hawaii",
                  "Missing",
                  "workers",
                  "PayPal",
                  "0.0",
                  null
                ],
                [
                  "21",
                  "2019-01-08 00:00:00",
                  "151221",
                  "Man",
                  "42.0",
                  "Married",
                  "North Dakota",
                  "Silver",
                  "workers",
                  "PayPal",
                  "0.0",
                  "995.77"
                ],
                [
                  "22",
                  "2019-01-08 00:00:00",
                  "151222",
                  "Woman",
                  "50.0",
                  "Married",
                  "Ohio",
                  "Missing",
                  "workers",
                  "Card",
                  "0.0",
                  "719.13"
                ],
                [
                  "23",
                  "2019-01-09 00:00:00",
                  "151223",
                  "Man",
                  "47.0",
                  "Single",
                  "Nebraska",
                  "Basic",
                  "self-employed",
                  "PayPal",
                  "1.0",
                  "2407.36"
                ],
                [
                  "24",
                  "2019-01-10 00:00:00",
                  "151224",
                  "Woman",
                  "32.0",
                  "Single",
                  "Montana",
                  "Basic",
                  "Employees",
                  "PayPal",
                  "0.0",
                  "2737.41"
                ],
                [
                  "25",
                  "2019-01-11 00:00:00",
                  "151225",
                  "Man",
                  "25.0",
                  "Married",
                  "Indiana",
                  "Basic",
                  "self-employed",
                  "Other",
                  "1.0",
                  "1514.75"
                ],
                [
                  "26",
                  "2019-01-12 00:00:00",
                  "151226",
                  "Man",
                  "33.0",
                  "Married",
                  "Wisconsin",
                  "Basic",
                  "self-employed",
                  "Card",
                  "1.0",
                  "293.58"
                ],
                [
                  "27",
                  "2019-01-12 00:00:00",
                  "151227",
                  "Man",
                  "61.0",
                  "Married",
                  "Alabama",
                  "Platinum",
                  "workers",
                  "Card",
                  "1.0",
                  "1094.67"
                ],
                [
                  "28",
                  "2019-01-12 00:00:00",
                  "151228",
                  "Man",
                  "75.0",
                  "Married",
                  "Alabama",
                  "Basic",
                  "self-employed",
                  "PayPal",
                  "1.0",
                  "233.05"
                ],
                [
                  "29",
                  "2019-01-12 00:00:00",
                  "151229",
                  "Woman",
                  "62.0",
                  "Married",
                  "Indiana",
                  "Silver",
                  "Employees",
                  "Other",
                  "1.0",
                  null
                ],
                [
                  "30",
                  "2019-01-12 00:00:00",
                  "151230",
                  "Man",
                  "17.0",
                  "Married",
                  "Maine",
                  "Basic",
                  "Employees",
                  "PayPal",
                  "1.0",
                  null
                ],
                [
                  "31",
                  "2019-01-13 00:00:00",
                  "151231",
                  "Woman",
                  "21.0",
                  "Single",
                  "Montana",
                  "Basic",
                  "Employees",
                  "Card",
                  "0.0",
                  "2035.07"
                ],
                [
                  "32",
                  "2019-01-13 00:00:00",
                  "151232",
                  "Man",
                  "39.0",
                  "Single",
                  "Arkansas",
                  "Basic",
                  "Employees",
                  "Other",
                  "0.0",
                  "128.29"
                ],
                [
                  "33",
                  "2019-01-14 00:00:00",
                  "151233",
                  "Man",
                  "15.0",
                  "Married",
                  "Missouri",
                  "Gold",
                  "self-employed",
                  "Card",
                  "1.0",
                  "628.93"
                ],
                [
                  "34",
                  "2019-01-14 00:00:00",
                  "151234",
                  "Woman",
                  "59.0",
                  "Married",
                  "Pennsylvania",
                  "Basic",
                  "Employees",
                  "Card",
                  "0.0",
                  "1729.36"
                ],
                [
                  "35",
                  "2019-01-14 00:00:00",
                  "151235",
                  "Man",
                  "70.0",
                  "Married",
                  "New Hampshire",
                  "Silver",
                  "workers",
                  "Other",
                  "1.0",
                  "2040.29"
                ],
                [
                  "36",
                  "2019-01-14 00:00:00",
                  "151236",
                  "Man",
                  "75.0",
                  "Married",
                  "Washington",
                  "Platinum",
                  "Employees",
                  "PayPal",
                  "1.0",
                  "2744.88"
                ],
                [
                  "37",
                  "2019-01-16 00:00:00",
                  "151237",
                  "Man",
                  "64.0",
                  "Married",
                  "Texas",
                  "Missing",
                  "Employees",
                  "PayPal",
                  "1.0",
                  "351.88"
                ],
                [
                  "38",
                  "2019-01-16 00:00:00",
                  "151238",
                  "Woman",
                  "64.0",
                  "Married",
                  "Ohio",
                  "Silver",
                  "Unemployment",
                  "Other",
                  "0.0",
                  "692.14"
                ],
                [
                  "39",
                  "2019-01-17 00:00:00",
                  "151239",
                  "Man",
                  "64.0",
                  "Married",
                  "New York",
                  "Silver",
                  "Unemployment",
                  "PayPal",
                  "1.0",
                  "2418.62"
                ],
                [
                  "40",
                  "2019-01-17 00:00:00",
                  "151240",
                  "Woman",
                  "21.0",
                  "Married",
                  "Kentucky",
                  "Basic",
                  "workers",
                  "Card",
                  "0.0",
                  "2734.15"
                ],
                [
                  "41",
                  "2019-01-17 00:00:00",
                  "151241",
                  "Woman",
                  "46.0",
                  "Married",
                  "New Mexico",
                  "Silver",
                  "workers",
                  "PayPal",
                  "1.0",
                  "2851.83"
                ],
                [
                  "42",
                  "2019-01-17 00:00:00",
                  "151242",
                  "Woman",
                  "16.0",
                  "Single",
                  "Texas",
                  "Gold",
                  "self-employed",
                  "PayPal",
                  "1.0",
                  "938.16"
                ],
                [
                  "43",
                  "2019-01-18 00:00:00",
                  "151243",
                  "Woman",
                  "63.0",
                  "Married",
                  "Maine",
                  "Gold",
                  "workers",
                  "PayPal",
                  "1.0",
                  "281.92"
                ],
                [
                  "44",
                  "2019-01-19 00:00:00",
                  "151244",
                  "Man",
                  "75.0",
                  "Single",
                  "Massachusetts",
                  "Basic",
                  "Employees",
                  "PayPal",
                  "1.0",
                  "747.68"
                ],
                [
                  "45",
                  "2019-01-20 00:00:00",
                  "151245",
                  "Man",
                  "70.0",
                  "Married",
                  "Wyoming",
                  "Basic",
                  "Unemployment",
                  "Card",
                  "1.0",
                  "1784.15"
                ],
                [
                  "46",
                  "2019-01-20 00:00:00",
                  "151246",
                  "Man",
                  "41.0",
                  "Single",
                  "Kentucky",
                  "Missing",
                  "Employees",
                  "PayPal",
                  "1.0",
                  "1115.9"
                ],
                [
                  "47",
                  "2019-01-21 00:00:00",
                  "151247",
                  "Man",
                  "33.0",
                  "Married",
                  "Florida",
                  "Silver",
                  "Employees",
                  "Other",
                  "0.0",
                  "1902.47"
                ],
                [
                  "48",
                  "2019-01-21 00:00:00",
                  "151248",
                  "Woman",
                  "64.0",
                  "Single",
                  "Massachusetts",
                  "Platinum",
                  "self-employed",
                  "Card",
                  "1.0",
                  "1949.92"
                ],
                [
                  "49",
                  "2019-01-22 00:00:00",
                  "151249",
                  "Woman",
                  "73.0",
                  "Married",
                  "Iowa",
                  "Basic",
                  "Unemployment",
                  "Card",
                  "0.0",
                  null
                ]
              ],
              "shape": {
                "columns": 11,
                "rows": 2512
              }
            },
            "text/html": [
              "<div>\n",
              "<style scoped>\n",
              "    .dataframe tbody tr th:only-of-type {\n",
              "        vertical-align: middle;\n",
              "    }\n",
              "\n",
              "    .dataframe tbody tr th {\n",
              "        vertical-align: top;\n",
              "    }\n",
              "\n",
              "    .dataframe thead th {\n",
              "        text-align: right;\n",
              "    }\n",
              "</style>\n",
              "<table border=\"1\" class=\"dataframe\">\n",
              "  <thead>\n",
              "    <tr style=\"text-align: right;\">\n",
              "      <th></th>\n",
              "      <th>Date</th>\n",
              "      <th>Transaction_ID</th>\n",
              "      <th>Sex</th>\n",
              "      <th>Age</th>\n",
              "      <th>Marital_status</th>\n",
              "      <th>State_names</th>\n",
              "      <th>Segment</th>\n",
              "      <th>Employees_status</th>\n",
              "      <th>Payment_method</th>\n",
              "      <th>Referal</th>\n",
              "      <th>Amount_spent</th>\n",
              "    </tr>\n",
              "  </thead>\n",
              "  <tbody>\n",
              "    <tr>\n",
              "      <th>0</th>\n",
              "      <td>2019-01-01</td>\n",
              "      <td>151200</td>\n",
              "      <td>Woman</td>\n",
              "      <td>19.0</td>\n",
              "      <td>Single</td>\n",
              "      <td>Kansas</td>\n",
              "      <td>Basic</td>\n",
              "      <td>Unemployment</td>\n",
              "      <td>Other</td>\n",
              "      <td>1.0</td>\n",
              "      <td>2051.36</td>\n",
              "    </tr>\n",
              "    <tr>\n",
              "      <th>1</th>\n",
              "      <td>2019-01-01</td>\n",
              "      <td>151201</td>\n",
              "      <td>Man</td>\n",
              "      <td>49.0</td>\n",
              "      <td>Single</td>\n",
              "      <td>Illinois</td>\n",
              "      <td>Basic</td>\n",
              "      <td>self-employed</td>\n",
              "      <td>Card</td>\n",
              "      <td>0.0</td>\n",
              "      <td>544.04</td>\n",
              "    </tr>\n",
              "    <tr>\n",
              "      <th>2</th>\n",
              "      <td>2019-01-01</td>\n",
              "      <td>151202</td>\n",
              "      <td>Man</td>\n",
              "      <td>63.0</td>\n",
              "      <td>Married</td>\n",
              "      <td>New Mexico</td>\n",
              "      <td>Basic</td>\n",
              "      <td>workers</td>\n",
              "      <td>PayPal</td>\n",
              "      <td>1.0</td>\n",
              "      <td>1572.60</td>\n",
              "    </tr>\n",
              "    <tr>\n",
              "      <th>3</th>\n",
              "      <td>2019-01-01</td>\n",
              "      <td>151203</td>\n",
              "      <td>NaN</td>\n",
              "      <td>18.0</td>\n",
              "      <td>Single</td>\n",
              "      <td>Virginia</td>\n",
              "      <td>Platinum</td>\n",
              "      <td>workers</td>\n",
              "      <td>Card</td>\n",
              "      <td>1.0</td>\n",
              "      <td>1199.79</td>\n",
              "    </tr>\n",
              "    <tr>\n",
              "      <th>4</th>\n",
              "      <td>2019-01-01</td>\n",
              "      <td>151204</td>\n",
              "      <td>Man</td>\n",
              "      <td>27.0</td>\n",
              "      <td>Single</td>\n",
              "      <td>Connecticut</td>\n",
              "      <td>Basic</td>\n",
              "      <td>self-employed</td>\n",
              "      <td>Card</td>\n",
              "      <td>0.0</td>\n",
              "      <td>NaN</td>\n",
              "    </tr>\n",
              "    <tr>\n",
              "      <th>...</th>\n",
              "      <td>...</td>\n",
              "      <td>...</td>\n",
              "      <td>...</td>\n",
              "      <td>...</td>\n",
              "      <td>...</td>\n",
              "      <td>...</td>\n",
              "      <td>...</td>\n",
              "      <td>...</td>\n",
              "      <td>...</td>\n",
              "      <td>...</td>\n",
              "      <td>...</td>\n",
              "    </tr>\n",
              "    <tr>\n",
              "      <th>2507</th>\n",
              "      <td>2021-05-01</td>\n",
              "      <td>153695</td>\n",
              "      <td>Woman</td>\n",
              "      <td>57.0</td>\n",
              "      <td>Single</td>\n",
              "      <td>South Carolina</td>\n",
              "      <td>Platinum</td>\n",
              "      <td>self-employed</td>\n",
              "      <td>Card</td>\n",
              "      <td>0.0</td>\n",
              "      <td>150.10</td>\n",
              "    </tr>\n",
              "    <tr>\n",
              "      <th>2508</th>\n",
              "      <td>2021-05-01</td>\n",
              "      <td>153696</td>\n",
              "      <td>Woman</td>\n",
              "      <td>36.0</td>\n",
              "      <td>Married</td>\n",
              "      <td>Hawaii</td>\n",
              "      <td>Silver</td>\n",
              "      <td>self-employed</td>\n",
              "      <td>PayPal</td>\n",
              "      <td>1.0</td>\n",
              "      <td>708.88</td>\n",
              "    </tr>\n",
              "    <tr>\n",
              "      <th>2509</th>\n",
              "      <td>2021-05-01</td>\n",
              "      <td>153697</td>\n",
              "      <td>Man</td>\n",
              "      <td>22.0</td>\n",
              "      <td>Single</td>\n",
              "      <td>South Carolina</td>\n",
              "      <td>Basic</td>\n",
              "      <td>workers</td>\n",
              "      <td>PayPal</td>\n",
              "      <td>1.0</td>\n",
              "      <td>2030.07</td>\n",
              "    </tr>\n",
              "    <tr>\n",
              "      <th>2510</th>\n",
              "      <td>2021-05-01</td>\n",
              "      <td>153698</td>\n",
              "      <td>NaN</td>\n",
              "      <td>44.0</td>\n",
              "      <td>Single</td>\n",
              "      <td>New York</td>\n",
              "      <td>Basic</td>\n",
              "      <td>Employees</td>\n",
              "      <td>PayPal</td>\n",
              "      <td>0.0</td>\n",
              "      <td>1909.77</td>\n",
              "    </tr>\n",
              "    <tr>\n",
              "      <th>2511</th>\n",
              "      <td>2021-05-01</td>\n",
              "      <td>153699</td>\n",
              "      <td>Man</td>\n",
              "      <td>48.0</td>\n",
              "      <td>Single</td>\n",
              "      <td>California</td>\n",
              "      <td>Silver</td>\n",
              "      <td>workers</td>\n",
              "      <td>PayPal</td>\n",
              "      <td>1.0</td>\n",
              "      <td>1073.15</td>\n",
              "    </tr>\n",
              "  </tbody>\n",
              "</table>\n",
              "<p>2512 rows × 11 columns</p>\n",
              "</div>"
            ],
            "text/plain": [
              "           Date  Transaction_ID    Sex   Age Marital_status     State_names  \\\n",
              "0    2019-01-01          151200  Woman  19.0         Single          Kansas   \n",
              "1    2019-01-01          151201    Man  49.0         Single        Illinois   \n",
              "2    2019-01-01          151202    Man  63.0        Married      New Mexico   \n",
              "3    2019-01-01          151203    NaN  18.0         Single        Virginia   \n",
              "4    2019-01-01          151204    Man  27.0         Single     Connecticut   \n",
              "...         ...             ...    ...   ...            ...             ...   \n",
              "2507 2021-05-01          153695  Woman  57.0         Single  South Carolina   \n",
              "2508 2021-05-01          153696  Woman  36.0        Married          Hawaii   \n",
              "2509 2021-05-01          153697    Man  22.0         Single  South Carolina   \n",
              "2510 2021-05-01          153698    NaN  44.0         Single        New York   \n",
              "2511 2021-05-01          153699    Man  48.0         Single      California   \n",
              "\n",
              "       Segment Employees_status Payment_method  Referal  Amount_spent  \n",
              "0        Basic     Unemployment          Other      1.0       2051.36  \n",
              "1        Basic    self-employed           Card      0.0        544.04  \n",
              "2        Basic          workers         PayPal      1.0       1572.60  \n",
              "3     Platinum          workers           Card      1.0       1199.79  \n",
              "4        Basic    self-employed           Card      0.0           NaN  \n",
              "...        ...              ...            ...      ...           ...  \n",
              "2507  Platinum    self-employed           Card      0.0        150.10  \n",
              "2508    Silver    self-employed         PayPal      1.0        708.88  \n",
              "2509     Basic          workers         PayPal      1.0       2030.07  \n",
              "2510     Basic        Employees         PayPal      0.0       1909.77  \n",
              "2511    Silver          workers         PayPal      1.0       1073.15  \n",
              "\n",
              "[2512 rows x 11 columns]"
            ]
          },
          "execution_count": 23,
          "metadata": {},
          "output_type": "execute_result"
        }
      ],
      "source": [
        "# dropping ALL duplicate values\n",
        "df_col.drop_duplicates()\n",
        "df_col"
      ]
    },
    {
      "cell_type": "markdown",
      "id": "de1e3272",
      "metadata": {
        "id": "de1e3272"
      },
      "source": [
        "### 3.4 Handling missing values"
      ]
    },
    {
      "cell_type": "markdown",
      "id": "9y1tYxbzLWw1",
      "metadata": {
        "id": "9y1tYxbzLWw1"
      },
      "source": [
        "Handling missing values in the common task in the data pre-processing part. For many reasons most of the time we will encounter missing values. Without dealing with this we can't do the proper model building. For this section first, we will find out missing values then we decided how to handle them. We can handle this by removing affected columns or rows or replacing appropriate values there."
      ]
    },
    {
      "cell_type": "markdown",
      "id": "44ff83e8",
      "metadata": {
        "id": "44ff83e8"
      },
      "source": [
        "#### Display missing values information"
      ]
    },
    {
      "cell_type": "code",
      "execution_count": 24,
      "id": "e6ecbaa3",
      "metadata": {
        "colab": {
          "base_uri": "https://localhost:8080/"
        },
        "id": "e6ecbaa3",
        "outputId": "93b02791-c68e-4152-8949-1fd8ba4acc51"
      },
      "outputs": [
        {
          "data": {
            "text/plain": [
              "Date                  0\n",
              "Transaction_ID        0\n",
              "Sex                  28\n",
              "Age                  42\n",
              "Marital_status        0\n",
              "State_names           0\n",
              "Segment               0\n",
              "Employees_status     26\n",
              "Payment_method        0\n",
              "Referal             155\n",
              "Amount_spent        242\n",
              "dtype: int64"
            ]
          },
          "execution_count": 24,
          "metadata": {},
          "output_type": "execute_result"
        }
      ],
      "source": [
        "df_col.isna().sum()"
      ]
    },
    {
      "cell_type": "markdown",
      "id": "5UgQzwrITZk3",
      "metadata": {
        "id": "5UgQzwrITZk3"
      },
      "source": [
        "#### Delete Nan rows"
      ]
    },
    {
      "cell_type": "markdown",
      "id": "5CV_qntnTpja",
      "metadata": {
        "id": "5CV_qntnTpja"
      },
      "source": [
        "If we have less Nan value then we can delete entire rows by `dropna()` function. For this function, we will add columns name in subset parameter."
      ]
    },
    {
      "cell_type": "code",
      "execution_count": 25,
      "id": "3bbb429f",
      "metadata": {
        "id": "3bbb429f"
      },
      "outputs": [],
      "source": [
        "# df copy to df_copy\n",
        "df_col_copy = df_col.copy()"
      ]
    },
    {
      "cell_type": "code",
      "execution_count": 26,
      "id": "99fe65d5",
      "metadata": {
        "id": "99fe65d5",
        "outputId": "4665c6e0-b7ba-4a82-ab4a-9a959a79a5ed"
      },
      "outputs": [
        {
          "data": {
            "text/plain": [
              "Amount_spent        242\n",
              "Referal             155\n",
              "Age                  42\n",
              "Sex                  28\n",
              "Employees_status     26\n",
              "Date                  0\n",
              "Transaction_ID        0\n",
              "Marital_status        0\n",
              "State_names           0\n",
              "Segment               0\n",
              "Payment_method        0\n",
              "dtype: int64"
            ]
          },
          "execution_count": 26,
          "metadata": {},
          "output_type": "execute_result"
        }
      ],
      "source": [
        "#Delete Nan rows of Job Columns\n",
        "\n",
        "df_col_copy.isna().sum().sort_values(ascending = False)"
      ]
    },
    {
      "cell_type": "markdown",
      "id": "6bxAq9hnUK4R",
      "metadata": {
        "id": "6bxAq9hnUK4R"
      },
      "source": [
        "#### Delete entire columns"
      ]
    },
    {
      "cell_type": "markdown",
      "id": "UIsVP0RAUS75",
      "metadata": {
        "id": "UIsVP0RAUS75"
      },
      "source": [
        "If we have a large number of nan values in particular columns then dropping those columns might be a good decision rather than imputing."
      ]
    },
    {
      "cell_type": "code",
      "execution_count": 30,
      "id": "4400782c",
      "metadata": {
        "id": "4400782c"
      },
      "outputs": [],
      "source": [
        "df_col_copy.drop(columns = [\"Amount_spent\"], inplace = True, errors=\"ignore\")\n",
        "df_col_copy.drop(columns = [\"new_col\"], inplace = True, errors= \"ignore\")\n"
      ]
    },
    {
      "cell_type": "code",
      "execution_count": 31,
      "id": "29243a31",
      "metadata": {
        "colab": {
          "base_uri": "https://localhost:8080/"
        },
        "id": "29243a31",
        "outputId": "4bfe696f-bf01-4713-a432-7fe57a5c1319"
      },
      "outputs": [
        {
          "data": {
            "text/plain": [
              "Referal             155\n",
              "Age                  42\n",
              "Sex                  28\n",
              "Employees_status     26\n",
              "Date                  0\n",
              "Transaction_ID        0\n",
              "Marital_status        0\n",
              "State_names           0\n",
              "Segment               0\n",
              "Payment_method        0\n",
              "dtype: int64"
            ]
          },
          "execution_count": 31,
          "metadata": {},
          "output_type": "execute_result"
        }
      ],
      "source": [
        "df_col_copy.isna().sum().sort_values(ascending = False)"
      ]
    },
    {
      "cell_type": "markdown",
      "id": "14-WG_ynUomI",
      "metadata": {
        "id": "14-WG_ynUomI"
      },
      "source": [
        "#### Impute missing values"
      ]
    },
    {
      "cell_type": "markdown",
      "id": "jECrC9RYVJX6",
      "metadata": {
        "id": "jECrC9RYVJX6"
      },
      "source": [
        "Sometimes if we delete entire columns that will be not the appropriate approach. Delete columns can affect our model building because we will lose our main features. For imputing we have many approaches so here are some of the most popular techniques."
      ]
    },
    {
      "cell_type": "markdown",
      "id": "c1a4435f",
      "metadata": {
        "id": "c1a4435f"
      },
      "source": [
        "**Method 1** - Impute fixed value like 0, 'Unknown' or 'Missing' etc. We inpute Unknown in Gender columns"
      ]
    },
    {
      "cell_type": "code",
      "execution_count": 32,
      "id": "aa0841c8",
      "metadata": {
        "id": "aa0841c8",
        "outputId": "4a06b8eb-d858-49eb-e04e-5aafcef25c5c"
      },
      "outputs": [
        {
          "data": {
            "text/plain": [
              "Sex\n",
              "Woman    1356\n",
              "Man      1128\n",
              "Name: count, dtype: int64"
            ]
          },
          "execution_count": 32,
          "metadata": {},
          "output_type": "execute_result"
        }
      ],
      "source": [
        "\n",
        "\n",
        "df_col.Sex.value_counts()"
      ]
    },
    {
      "cell_type": "markdown",
      "id": "615ac388",
      "metadata": {
        "id": "615ac388"
      },
      "source": [
        "**Method 2** - Impute Mean, Median and Mode"
      ]
    },
    {
      "cell_type": "code",
      "execution_count": 35,
      "id": "5a25d8d4",
      "metadata": {
        "id": "5a25d8d4"
      },
      "outputs": [
        {
          "name": "stderr",
          "output_type": "stream",
          "text": [
            "C:\\Users\\nhann\\AppData\\Local\\Temp\\ipykernel_28304\\1072930563.py:3: FutureWarning: A value is trying to be set on a copy of a DataFrame or Series through chained assignment using an inplace method.\n",
            "The behavior will change in pandas 3.0. This inplace method will never work because the intermediate object on which we are setting values always behaves as a copy.\n",
            "\n",
            "For example, when doing 'df[col].method(value, inplace=True)', try using 'df.method({col: value}, inplace=True)' or df[col] = df[col].method(value) instead, to perform the operation inplace on the original object.\n",
            "\n",
            "\n",
            "  df_col[\"Amount_spent\"].fillna(df_col_mean_Am_S, inplace = True)\n",
            "C:\\Users\\nhann\\AppData\\Local\\Temp\\ipykernel_28304\\1072930563.py:8: FutureWarning: A value is trying to be set on a copy of a DataFrame or Series through chained assignment using an inplace method.\n",
            "The behavior will change in pandas 3.0. This inplace method will never work because the intermediate object on which we are setting values always behaves as a copy.\n",
            "\n",
            "For example, when doing 'df[col].method(value, inplace=True)', try using 'df.method({col: value}, inplace=True)' or df[col] = df[col].method(value) instead, to perform the operation inplace on the original object.\n",
            "\n",
            "\n",
            "  df_col[\"Age\"].fillna(df_col_median_age, inplace = True)\n"
          ]
        }
      ],
      "source": [
        "# Impute Mean in Amount_spent columns\n",
        "df_col_mean_Am_S =df_col[\"Amount_spent\"].mean() \n",
        "df_col[\"Amount_spent\"].fillna(df_col_mean_Am_S, inplace = True)\n",
        "\n",
        "#Impute Median in Age column\n",
        "\n",
        "df_col_median_age = df_col[\"Age\"].median()\n",
        "df_col[\"Age\"].fillna(df_col_median_age, inplace = True)\n",
        "\n",
        "\n",
        "# Impute Mode in Employees_status column\n",
        "\n",
        "df_col_mode_emp_status = df_col['Employees_status'].mode()\n",
        "df_col.Employees_status.fillna(df_col_mode_emp_status, inplace = True)\n"
      ]
    },
    {
      "cell_type": "code",
      "execution_count": null,
      "id": "dc417539",
      "metadata": {
        "id": "dc417539",
        "outputId": "c21b43f5-1c78-4286-bfa6-fd7180728f60"
      },
      "outputs": [
        {
          "data": {
            "text/html": [
              "<div>\n",
              "<style scoped>\n",
              "    .dataframe tbody tr th:only-of-type {\n",
              "        vertical-align: middle;\n",
              "    }\n",
              "\n",
              "    .dataframe tbody tr th {\n",
              "        vertical-align: top;\n",
              "    }\n",
              "\n",
              "    .dataframe thead th {\n",
              "        text-align: right;\n",
              "    }\n",
              "</style>\n",
              "<table border=\"1\" class=\"dataframe\">\n",
              "  <thead>\n",
              "    <tr style=\"text-align: right;\">\n",
              "      <th></th>\n",
              "      <th>Date</th>\n",
              "      <th>Transaction_ID</th>\n",
              "      <th>Sex</th>\n",
              "      <th>Age</th>\n",
              "      <th>Marital_status</th>\n",
              "      <th>State_names</th>\n",
              "      <th>Segment</th>\n",
              "      <th>Employees_status</th>\n",
              "      <th>Payment_method</th>\n",
              "      <th>Referal</th>\n",
              "      <th>Amount_spent</th>\n",
              "      <th>new_col</th>\n",
              "    </tr>\n",
              "  </thead>\n",
              "  <tbody>\n",
              "    <tr>\n",
              "      <th>0</th>\n",
              "      <td>2019-01-01</td>\n",
              "      <td>151200</td>\n",
              "      <td>Woman</td>\n",
              "      <td>19.0</td>\n",
              "      <td>Single</td>\n",
              "      <td>Kansas</td>\n",
              "      <td>Basic</td>\n",
              "      <td>Unemployment</td>\n",
              "      <td>Other</td>\n",
              "      <td>1.0</td>\n",
              "      <td>2051.36000</td>\n",
              "      <td>205136.0</td>\n",
              "    </tr>\n",
              "    <tr>\n",
              "      <th>1</th>\n",
              "      <td>2019-01-01</td>\n",
              "      <td>151201</td>\n",
              "      <td>Man</td>\n",
              "      <td>49.0</td>\n",
              "      <td>Single</td>\n",
              "      <td>Illinois</td>\n",
              "      <td>Basic</td>\n",
              "      <td>self-employed</td>\n",
              "      <td>Card</td>\n",
              "      <td>0.0</td>\n",
              "      <td>544.04000</td>\n",
              "      <td>54404.0</td>\n",
              "    </tr>\n",
              "    <tr>\n",
              "      <th>2</th>\n",
              "      <td>2019-01-01</td>\n",
              "      <td>151202</td>\n",
              "      <td>Man</td>\n",
              "      <td>63.0</td>\n",
              "      <td>Married</td>\n",
              "      <td>New Mexico</td>\n",
              "      <td>Basic</td>\n",
              "      <td>workers</td>\n",
              "      <td>PayPal</td>\n",
              "      <td>1.0</td>\n",
              "      <td>1572.60000</td>\n",
              "      <td>157260.0</td>\n",
              "    </tr>\n",
              "    <tr>\n",
              "      <th>3</th>\n",
              "      <td>2019-01-01</td>\n",
              "      <td>151203</td>\n",
              "      <td>Unknown</td>\n",
              "      <td>18.0</td>\n",
              "      <td>Single</td>\n",
              "      <td>Virginia</td>\n",
              "      <td>Platinum</td>\n",
              "      <td>workers</td>\n",
              "      <td>Card</td>\n",
              "      <td>1.0</td>\n",
              "      <td>1199.79000</td>\n",
              "      <td>119979.0</td>\n",
              "    </tr>\n",
              "    <tr>\n",
              "      <th>4</th>\n",
              "      <td>2019-01-01</td>\n",
              "      <td>151204</td>\n",
              "      <td>Man</td>\n",
              "      <td>27.0</td>\n",
              "      <td>Single</td>\n",
              "      <td>Connecticut</td>\n",
              "      <td>Basic</td>\n",
              "      <td>self-employed</td>\n",
              "      <td>Card</td>\n",
              "      <td>0.0</td>\n",
              "      <td>1419.59178</td>\n",
              "      <td>NaN</td>\n",
              "    </tr>\n",
              "    <tr>\n",
              "      <th>...</th>\n",
              "      <td>...</td>\n",
              "      <td>...</td>\n",
              "      <td>...</td>\n",
              "      <td>...</td>\n",
              "      <td>...</td>\n",
              "      <td>...</td>\n",
              "      <td>...</td>\n",
              "      <td>...</td>\n",
              "      <td>...</td>\n",
              "      <td>...</td>\n",
              "      <td>...</td>\n",
              "      <td>...</td>\n",
              "    </tr>\n",
              "    <tr>\n",
              "      <th>2507</th>\n",
              "      <td>2021-05-01</td>\n",
              "      <td>153695</td>\n",
              "      <td>Woman</td>\n",
              "      <td>57.0</td>\n",
              "      <td>Single</td>\n",
              "      <td>South Carolina</td>\n",
              "      <td>Platinum</td>\n",
              "      <td>self-employed</td>\n",
              "      <td>Card</td>\n",
              "      <td>0.0</td>\n",
              "      <td>150.10000</td>\n",
              "      <td>15010.0</td>\n",
              "    </tr>\n",
              "    <tr>\n",
              "      <th>2508</th>\n",
              "      <td>2021-05-01</td>\n",
              "      <td>153696</td>\n",
              "      <td>Woman</td>\n",
              "      <td>36.0</td>\n",
              "      <td>Married</td>\n",
              "      <td>Hawaii</td>\n",
              "      <td>Silver</td>\n",
              "      <td>self-employed</td>\n",
              "      <td>PayPal</td>\n",
              "      <td>1.0</td>\n",
              "      <td>708.88000</td>\n",
              "      <td>70888.0</td>\n",
              "    </tr>\n",
              "    <tr>\n",
              "      <th>2509</th>\n",
              "      <td>2021-05-01</td>\n",
              "      <td>153697</td>\n",
              "      <td>Man</td>\n",
              "      <td>22.0</td>\n",
              "      <td>Single</td>\n",
              "      <td>South Carolina</td>\n",
              "      <td>Basic</td>\n",
              "      <td>workers</td>\n",
              "      <td>PayPal</td>\n",
              "      <td>1.0</td>\n",
              "      <td>2030.07000</td>\n",
              "      <td>203007.0</td>\n",
              "    </tr>\n",
              "    <tr>\n",
              "      <th>2510</th>\n",
              "      <td>2021-05-01</td>\n",
              "      <td>153698</td>\n",
              "      <td>Unknown</td>\n",
              "      <td>44.0</td>\n",
              "      <td>Single</td>\n",
              "      <td>New York</td>\n",
              "      <td>Basic</td>\n",
              "      <td>Employees</td>\n",
              "      <td>PayPal</td>\n",
              "      <td>0.0</td>\n",
              "      <td>1909.77000</td>\n",
              "      <td>190977.0</td>\n",
              "    </tr>\n",
              "    <tr>\n",
              "      <th>2511</th>\n",
              "      <td>2021-05-01</td>\n",
              "      <td>153699</td>\n",
              "      <td>Man</td>\n",
              "      <td>48.0</td>\n",
              "      <td>Single</td>\n",
              "      <td>California</td>\n",
              "      <td>Silver</td>\n",
              "      <td>workers</td>\n",
              "      <td>PayPal</td>\n",
              "      <td>1.0</td>\n",
              "      <td>1073.15000</td>\n",
              "      <td>107315.0</td>\n",
              "    </tr>\n",
              "  </tbody>\n",
              "</table>\n",
              "<p>2500 rows × 12 columns</p>\n",
              "</div>"
            ],
            "text/plain": [
              "           Date  Transaction_ID      Sex   Age Marital_status     State_names  \\\n",
              "0    2019-01-01          151200    Woman  19.0         Single          Kansas   \n",
              "1    2019-01-01          151201      Man  49.0         Single        Illinois   \n",
              "2    2019-01-01          151202      Man  63.0        Married      New Mexico   \n",
              "3    2019-01-01          151203  Unknown  18.0         Single        Virginia   \n",
              "4    2019-01-01          151204      Man  27.0         Single     Connecticut   \n",
              "...         ...             ...      ...   ...            ...             ...   \n",
              "2507 2021-05-01          153695    Woman  57.0         Single  South Carolina   \n",
              "2508 2021-05-01          153696    Woman  36.0        Married          Hawaii   \n",
              "2509 2021-05-01          153697      Man  22.0         Single  South Carolina   \n",
              "2510 2021-05-01          153698  Unknown  44.0         Single        New York   \n",
              "2511 2021-05-01          153699      Man  48.0         Single      California   \n",
              "\n",
              "       Segment Employees_status Payment_method  Referal  Amount_spent  \\\n",
              "0        Basic     Unemployment          Other      1.0    2051.36000   \n",
              "1        Basic    self-employed           Card      0.0     544.04000   \n",
              "2        Basic          workers         PayPal      1.0    1572.60000   \n",
              "3     Platinum          workers           Card      1.0    1199.79000   \n",
              "4        Basic    self-employed           Card      0.0    1419.59178   \n",
              "...        ...              ...            ...      ...           ...   \n",
              "2507  Platinum    self-employed           Card      0.0     150.10000   \n",
              "2508    Silver    self-employed         PayPal      1.0     708.88000   \n",
              "2509     Basic          workers         PayPal      1.0    2030.07000   \n",
              "2510     Basic        Employees         PayPal      0.0    1909.77000   \n",
              "2511    Silver          workers         PayPal      1.0    1073.15000   \n",
              "\n",
              "       new_col  \n",
              "0     205136.0  \n",
              "1      54404.0  \n",
              "2     157260.0  \n",
              "3     119979.0  \n",
              "4          NaN  \n",
              "...        ...  \n",
              "2507   15010.0  \n",
              "2508   70888.0  \n",
              "2509  203007.0  \n",
              "2510  190977.0  \n",
              "2511  107315.0  \n",
              "\n",
              "[2500 rows x 12 columns]"
            ]
          },
          "execution_count": 41,
          "metadata": {},
          "output_type": "execute_result"
        }
      ],
      "source": [
        "df_col"
      ]
    },
    {
      "cell_type": "markdown",
      "id": "13ed0805",
      "metadata": {
        "id": "13ed0805"
      },
      "source": [
        "**Method 3** - Imputing forward fill or backfill by `ffill` and `bfill`. In `ffill` missing value impute from the value of the above row and for `bfill` it's taken from the below rows value."
      ]
    },
    {
      "cell_type": "code",
      "execution_count": 36,
      "id": "f9f251fd",
      "metadata": {
        "id": "f9f251fd"
      },
      "outputs": [
        {
          "name": "stderr",
          "output_type": "stream",
          "text": [
            "C:\\Users\\nhann\\AppData\\Local\\Temp\\ipykernel_28304\\291345715.py:1: FutureWarning: A value is trying to be set on a copy of a DataFrame or Series through chained assignment using an inplace method.\n",
            "The behavior will change in pandas 3.0. This inplace method will never work because the intermediate object on which we are setting values always behaves as a copy.\n",
            "\n",
            "For example, when doing 'df[col].method(value, inplace=True)', try using 'df.method({col: value}, inplace=True)' or df[col] = df[col].method(value) instead, to perform the operation inplace on the original object.\n",
            "\n",
            "\n",
            "  df_col.Referal.fillna(method = \"ffill\", inplace = True)\n",
            "C:\\Users\\nhann\\AppData\\Local\\Temp\\ipykernel_28304\\291345715.py:1: FutureWarning: Series.fillna with 'method' is deprecated and will raise in a future version. Use obj.ffill() or obj.bfill() instead.\n",
            "  df_col.Referal.fillna(method = \"ffill\", inplace = True)\n"
          ]
        }
      ],
      "source": [
        "df_col.Referal.fillna(method = \"ffill\", inplace = True)"
      ]
    },
    {
      "cell_type": "code",
      "execution_count": null,
      "id": "OEFYI75II6PN",
      "metadata": {
        "colab": {
          "base_uri": "https://localhost:8080/"
        },
        "id": "OEFYI75II6PN",
        "outputId": "8c92a2c6-3e53-40c3-ef78-c397a88db10e"
      },
      "outputs": [
        {
          "data": {
            "text/plain": [
              "54"
            ]
          },
          "execution_count": 38,
          "metadata": {},
          "output_type": "execute_result"
        }
      ],
      "source": [
        "\n",
        "df_col.isna().sum().sum()"
      ]
    },
    {
      "cell_type": "markdown",
      "id": "AuU7koGzcbPy",
      "metadata": {
        "id": "AuU7koGzcbPy"
      },
      "source": [
        "Now we deal with all missing values with different methods. So now we haven't any null values."
      ]
    },
    {
      "cell_type": "markdown",
      "id": "2980dcd0",
      "metadata": {
        "id": "2980dcd0"
      },
      "source": [
        "## 4. Memory management"
      ]
    },
    {
      "cell_type": "markdown",
      "id": "4hM8Z6ptQwAM",
      "metadata": {
        "id": "4hM8Z6ptQwAM"
      },
      "source": [
        "When we work on large datasets, There we get one big issue is a memory problem. We need too large resources for dealing with this. But there are some methods in pandas to deal with this. Here are some methods or strategies to deal with this problem with help of pandas."
      ]
    },
    {
      "cell_type": "markdown",
      "id": "QyO24xKLTEEm",
      "metadata": {
        "id": "QyO24xKLTEEm"
      },
      "source": [
        "### Change datatypes"
      ]
    },
    {
      "cell_type": "code",
      "execution_count": 39,
      "id": "a8a40362",
      "metadata": {
        "id": "a8a40362"
      },
      "outputs": [],
      "source": [
        "df_memory = df_col.copy()"
      ]
    },
    {
      "cell_type": "code",
      "execution_count": 40,
      "id": "c5587bc4",
      "metadata": {
        "colab": {
          "base_uri": "https://localhost:8080/"
        },
        "id": "c5587bc4",
        "outputId": "0f1f1ed0-5a6f-4882-ad91-ce181c3ea4c7"
      },
      "outputs": [
        {
          "name": "stdout",
          "output_type": "stream",
          "text": [
            " Total memory taking df_memory dataframe is : 1.00 MB \n"
          ]
        }
      ],
      "source": [
        "memory_usage = df_memory.memory_usage(deep=True)\n",
        "memory_usage_in_mbs = round(np.sum(memory_usage / 1024 ** 2), 3)\n",
        "print(f\" Total memory taking df_memory dataframe is : {memory_usage_in_mbs:.2f} MB \")"
      ]
    },
    {
      "cell_type": "markdown",
      "id": "YC_ucd2fXzjD",
      "metadata": {
        "id": "YC_ucd2fXzjD"
      },
      "source": [
        "#### Change object to category datatypes"
      ]
    },
    {
      "cell_type": "markdown",
      "id": "Cclw14OrWEia",
      "metadata": {
        "id": "Cclw14OrWEia"
      },
      "source": [
        "Our data frame is small in size. Which is 1 MB. Now We will convert our object datatype to category."
      ]
    },
    {
      "cell_type": "code",
      "execution_count": 41,
      "id": "c1dfe2d1",
      "metadata": {
        "id": "c1dfe2d1",
        "outputId": "14e8ce46-0156-4433-c19f-b8ad6413b02b"
      },
      "outputs": [
        {
          "data": {
            "application/vnd.microsoft.datawrangler.viewer.v0+json": {
              "columns": [
                {
                  "name": "index",
                  "rawType": "int64",
                  "type": "integer"
                },
                {
                  "name": "Sex",
                  "rawType": "object",
                  "type": "unknown"
                },
                {
                  "name": "Marital_status",
                  "rawType": "object",
                  "type": "string"
                },
                {
                  "name": "State_names",
                  "rawType": "object",
                  "type": "string"
                },
                {
                  "name": "Segment",
                  "rawType": "object",
                  "type": "string"
                },
                {
                  "name": "Employees_status",
                  "rawType": "object",
                  "type": "unknown"
                },
                {
                  "name": "Payment_method",
                  "rawType": "object",
                  "type": "string"
                }
              ],
              "conversionMethod": "pd.DataFrame",
              "ref": "72175a9e-7f29-412c-9bf4-6a338d51d12b",
              "rows": [
                [
                  "0",
                  "Woman",
                  "Single",
                  "Kansas",
                  "Basic",
                  "Unemployment",
                  "Other"
                ],
                [
                  "1",
                  "Man",
                  "Single",
                  "Illinois",
                  "Basic",
                  "self-employed",
                  "Card"
                ],
                [
                  "2",
                  "Man",
                  "Married",
                  "New Mexico",
                  "Basic",
                  "workers",
                  "PayPal"
                ],
                [
                  "3",
                  null,
                  "Single",
                  "Virginia",
                  "Platinum",
                  "workers",
                  "Card"
                ],
                [
                  "4",
                  "Man",
                  "Single",
                  "Connecticut",
                  "Basic",
                  "self-employed",
                  "Card"
                ],
                [
                  "5",
                  "Man",
                  "Single",
                  "Hawaii",
                  "Basic",
                  "Employees",
                  "PayPal"
                ],
                [
                  "6",
                  "Woman",
                  "Married",
                  "New Mexico",
                  "Platinum",
                  "Employees",
                  "PayPal"
                ],
                [
                  "7",
                  "Man",
                  "Married",
                  "Connecticut",
                  "Basic",
                  "workers",
                  "PayPal"
                ],
                [
                  "8",
                  "Man",
                  "Married",
                  "Florida",
                  "Silver",
                  "Employees",
                  "Card"
                ],
                [
                  "9",
                  "Woman",
                  "Married",
                  "Vermont",
                  "Gold",
                  "Unemployment",
                  "Card"
                ],
                [
                  "10",
                  "Woman",
                  "Married",
                  "California",
                  "Basic",
                  "Employees",
                  "PayPal"
                ],
                [
                  "11",
                  "Woman",
                  "Married",
                  "Colorado",
                  "Basic",
                  "workers",
                  "Other"
                ],
                [
                  "12",
                  "Woman",
                  "Married",
                  "Iowa",
                  "Basic",
                  "self-employed",
                  "Card"
                ],
                [
                  "13",
                  "Man",
                  "Single",
                  "South Carolina",
                  "Basic",
                  "Employees",
                  "PayPal"
                ],
                [
                  "14",
                  "Man",
                  "Married",
                  "Colorado",
                  "Platinum",
                  "self-employed",
                  "Other"
                ],
                [
                  "15",
                  "Man",
                  "Single",
                  "New York",
                  "Platinum",
                  "workers",
                  "Other"
                ],
                [
                  "16",
                  "Woman",
                  "Married",
                  "Maine",
                  "Silver",
                  "self-employed",
                  "PayPal"
                ],
                [
                  "17",
                  "Woman",
                  "Married",
                  "New Mexico",
                  "Platinum",
                  "workers",
                  "Card"
                ],
                [
                  "18",
                  "Man",
                  "Married",
                  "Maryland",
                  "Basic",
                  "self-employed",
                  "Other"
                ],
                [
                  "19",
                  "Woman",
                  "Married",
                  "Missouri",
                  "Basic",
                  "Employees",
                  "Card"
                ],
                [
                  "20",
                  "Woman",
                  "Married",
                  "Hawaii",
                  "Missing",
                  "workers",
                  "PayPal"
                ],
                [
                  "21",
                  "Man",
                  "Married",
                  "North Dakota",
                  "Silver",
                  "workers",
                  "PayPal"
                ],
                [
                  "22",
                  "Woman",
                  "Married",
                  "Ohio",
                  "Missing",
                  "workers",
                  "Card"
                ],
                [
                  "23",
                  "Man",
                  "Single",
                  "Nebraska",
                  "Basic",
                  "self-employed",
                  "PayPal"
                ],
                [
                  "24",
                  "Woman",
                  "Single",
                  "Montana",
                  "Basic",
                  "Employees",
                  "PayPal"
                ],
                [
                  "25",
                  "Man",
                  "Married",
                  "Indiana",
                  "Basic",
                  "self-employed",
                  "Other"
                ],
                [
                  "26",
                  "Man",
                  "Married",
                  "Wisconsin",
                  "Basic",
                  "self-employed",
                  "Card"
                ],
                [
                  "27",
                  "Man",
                  "Married",
                  "Alabama",
                  "Platinum",
                  "workers",
                  "Card"
                ],
                [
                  "28",
                  "Man",
                  "Married",
                  "Alabama",
                  "Basic",
                  "self-employed",
                  "PayPal"
                ],
                [
                  "29",
                  "Woman",
                  "Married",
                  "Indiana",
                  "Silver",
                  "Employees",
                  "Other"
                ],
                [
                  "30",
                  "Man",
                  "Married",
                  "Maine",
                  "Basic",
                  "Employees",
                  "PayPal"
                ],
                [
                  "31",
                  "Woman",
                  "Single",
                  "Montana",
                  "Basic",
                  "Employees",
                  "Card"
                ],
                [
                  "32",
                  "Man",
                  "Single",
                  "Arkansas",
                  "Basic",
                  "Employees",
                  "Other"
                ],
                [
                  "33",
                  "Man",
                  "Married",
                  "Missouri",
                  "Gold",
                  "self-employed",
                  "Card"
                ],
                [
                  "34",
                  "Woman",
                  "Married",
                  "Pennsylvania",
                  "Basic",
                  "Employees",
                  "Card"
                ],
                [
                  "35",
                  "Man",
                  "Married",
                  "New Hampshire",
                  "Silver",
                  "workers",
                  "Other"
                ],
                [
                  "36",
                  "Man",
                  "Married",
                  "Washington",
                  "Platinum",
                  "Employees",
                  "PayPal"
                ],
                [
                  "37",
                  "Man",
                  "Married",
                  "Texas",
                  "Missing",
                  "Employees",
                  "PayPal"
                ],
                [
                  "38",
                  "Woman",
                  "Married",
                  "Ohio",
                  "Silver",
                  "Unemployment",
                  "Other"
                ],
                [
                  "39",
                  "Man",
                  "Married",
                  "New York",
                  "Silver",
                  "Unemployment",
                  "PayPal"
                ],
                [
                  "40",
                  "Woman",
                  "Married",
                  "Kentucky",
                  "Basic",
                  "workers",
                  "Card"
                ],
                [
                  "41",
                  "Woman",
                  "Married",
                  "New Mexico",
                  "Silver",
                  "workers",
                  "PayPal"
                ],
                [
                  "42",
                  "Woman",
                  "Single",
                  "Texas",
                  "Gold",
                  "self-employed",
                  "PayPal"
                ],
                [
                  "43",
                  "Woman",
                  "Married",
                  "Maine",
                  "Gold",
                  "workers",
                  "PayPal"
                ],
                [
                  "44",
                  "Man",
                  "Single",
                  "Massachusetts",
                  "Basic",
                  "Employees",
                  "PayPal"
                ],
                [
                  "45",
                  "Man",
                  "Married",
                  "Wyoming",
                  "Basic",
                  "Unemployment",
                  "Card"
                ],
                [
                  "46",
                  "Man",
                  "Single",
                  "Kentucky",
                  "Missing",
                  "Employees",
                  "PayPal"
                ],
                [
                  "47",
                  "Man",
                  "Married",
                  "Florida",
                  "Silver",
                  "Employees",
                  "Other"
                ],
                [
                  "48",
                  "Woman",
                  "Single",
                  "Massachusetts",
                  "Platinum",
                  "self-employed",
                  "Card"
                ],
                [
                  "49",
                  "Woman",
                  "Married",
                  "Iowa",
                  "Basic",
                  "Unemployment",
                  "Card"
                ]
              ],
              "shape": {
                "columns": 6,
                "rows": 2512
              }
            },
            "text/html": [
              "<div>\n",
              "<style scoped>\n",
              "    .dataframe tbody tr th:only-of-type {\n",
              "        vertical-align: middle;\n",
              "    }\n",
              "\n",
              "    .dataframe tbody tr th {\n",
              "        vertical-align: top;\n",
              "    }\n",
              "\n",
              "    .dataframe thead th {\n",
              "        text-align: right;\n",
              "    }\n",
              "</style>\n",
              "<table border=\"1\" class=\"dataframe\">\n",
              "  <thead>\n",
              "    <tr style=\"text-align: right;\">\n",
              "      <th></th>\n",
              "      <th>Sex</th>\n",
              "      <th>Marital_status</th>\n",
              "      <th>State_names</th>\n",
              "      <th>Segment</th>\n",
              "      <th>Employees_status</th>\n",
              "      <th>Payment_method</th>\n",
              "    </tr>\n",
              "  </thead>\n",
              "  <tbody>\n",
              "    <tr>\n",
              "      <th>0</th>\n",
              "      <td>Woman</td>\n",
              "      <td>Single</td>\n",
              "      <td>Kansas</td>\n",
              "      <td>Basic</td>\n",
              "      <td>Unemployment</td>\n",
              "      <td>Other</td>\n",
              "    </tr>\n",
              "    <tr>\n",
              "      <th>1</th>\n",
              "      <td>Man</td>\n",
              "      <td>Single</td>\n",
              "      <td>Illinois</td>\n",
              "      <td>Basic</td>\n",
              "      <td>self-employed</td>\n",
              "      <td>Card</td>\n",
              "    </tr>\n",
              "    <tr>\n",
              "      <th>2</th>\n",
              "      <td>Man</td>\n",
              "      <td>Married</td>\n",
              "      <td>New Mexico</td>\n",
              "      <td>Basic</td>\n",
              "      <td>workers</td>\n",
              "      <td>PayPal</td>\n",
              "    </tr>\n",
              "    <tr>\n",
              "      <th>3</th>\n",
              "      <td>NaN</td>\n",
              "      <td>Single</td>\n",
              "      <td>Virginia</td>\n",
              "      <td>Platinum</td>\n",
              "      <td>workers</td>\n",
              "      <td>Card</td>\n",
              "    </tr>\n",
              "    <tr>\n",
              "      <th>4</th>\n",
              "      <td>Man</td>\n",
              "      <td>Single</td>\n",
              "      <td>Connecticut</td>\n",
              "      <td>Basic</td>\n",
              "      <td>self-employed</td>\n",
              "      <td>Card</td>\n",
              "    </tr>\n",
              "    <tr>\n",
              "      <th>...</th>\n",
              "      <td>...</td>\n",
              "      <td>...</td>\n",
              "      <td>...</td>\n",
              "      <td>...</td>\n",
              "      <td>...</td>\n",
              "      <td>...</td>\n",
              "    </tr>\n",
              "    <tr>\n",
              "      <th>2507</th>\n",
              "      <td>Woman</td>\n",
              "      <td>Single</td>\n",
              "      <td>South Carolina</td>\n",
              "      <td>Platinum</td>\n",
              "      <td>self-employed</td>\n",
              "      <td>Card</td>\n",
              "    </tr>\n",
              "    <tr>\n",
              "      <th>2508</th>\n",
              "      <td>Woman</td>\n",
              "      <td>Married</td>\n",
              "      <td>Hawaii</td>\n",
              "      <td>Silver</td>\n",
              "      <td>self-employed</td>\n",
              "      <td>PayPal</td>\n",
              "    </tr>\n",
              "    <tr>\n",
              "      <th>2509</th>\n",
              "      <td>Man</td>\n",
              "      <td>Single</td>\n",
              "      <td>South Carolina</td>\n",
              "      <td>Basic</td>\n",
              "      <td>workers</td>\n",
              "      <td>PayPal</td>\n",
              "    </tr>\n",
              "    <tr>\n",
              "      <th>2510</th>\n",
              "      <td>NaN</td>\n",
              "      <td>Single</td>\n",
              "      <td>New York</td>\n",
              "      <td>Basic</td>\n",
              "      <td>Employees</td>\n",
              "      <td>PayPal</td>\n",
              "    </tr>\n",
              "    <tr>\n",
              "      <th>2511</th>\n",
              "      <td>Man</td>\n",
              "      <td>Single</td>\n",
              "      <td>California</td>\n",
              "      <td>Silver</td>\n",
              "      <td>workers</td>\n",
              "      <td>PayPal</td>\n",
              "    </tr>\n",
              "  </tbody>\n",
              "</table>\n",
              "<p>2512 rows × 6 columns</p>\n",
              "</div>"
            ],
            "text/plain": [
              "        Sex Marital_status     State_names   Segment Employees_status  \\\n",
              "0     Woman         Single          Kansas     Basic     Unemployment   \n",
              "1       Man         Single        Illinois     Basic    self-employed   \n",
              "2       Man        Married      New Mexico     Basic          workers   \n",
              "3       NaN         Single        Virginia  Platinum          workers   \n",
              "4       Man         Single     Connecticut     Basic    self-employed   \n",
              "...     ...            ...             ...       ...              ...   \n",
              "2507  Woman         Single  South Carolina  Platinum    self-employed   \n",
              "2508  Woman        Married          Hawaii    Silver    self-employed   \n",
              "2509    Man         Single  South Carolina     Basic          workers   \n",
              "2510    NaN         Single        New York     Basic        Employees   \n",
              "2511    Man         Single      California    Silver          workers   \n",
              "\n",
              "     Payment_method  \n",
              "0             Other  \n",
              "1              Card  \n",
              "2            PayPal  \n",
              "3              Card  \n",
              "4              Card  \n",
              "...             ...  \n",
              "2507           Card  \n",
              "2508         PayPal  \n",
              "2509         PayPal  \n",
              "2510         PayPal  \n",
              "2511         PayPal  \n",
              "\n",
              "[2512 rows x 6 columns]"
            ]
          },
          "execution_count": 41,
          "metadata": {},
          "output_type": "execute_result"
        }
      ],
      "source": [
        "# Object datatype to category convert\n",
        "df_memory[df_memory.select_dtypes([\"object\"]).columns]"
      ]
    },
    {
      "cell_type": "code",
      "execution_count": 42,
      "id": "3a5daead",
      "metadata": {
        "colab": {
          "base_uri": "https://localhost:8080/"
        },
        "id": "3a5daead",
        "outputId": "82d71b3f-2025-4e52-f871-ffc2253ffe17"
      },
      "outputs": [
        {
          "name": "stdout",
          "output_type": "stream",
          "text": [
            "<class 'pandas.core.frame.DataFrame'>\n",
            "RangeIndex: 2512 entries, 0 to 2511\n",
            "Data columns (total 11 columns):\n",
            " #   Column            Non-Null Count  Dtype         \n",
            "---  ------            --------------  -----         \n",
            " 0   Date              2512 non-null   datetime64[ns]\n",
            " 1   Transaction_ID    2512 non-null   int64         \n",
            " 2   Sex               2484 non-null   object        \n",
            " 3   Age               2512 non-null   float64       \n",
            " 4   Marital_status    2512 non-null   object        \n",
            " 5   State_names       2512 non-null   object        \n",
            " 6   Segment           2512 non-null   object        \n",
            " 7   Employees_status  2486 non-null   object        \n",
            " 8   Payment_method    2512 non-null   object        \n",
            " 9   Referal           2512 non-null   float32       \n",
            " 10  Amount_spent      2512 non-null   float64       \n",
            "dtypes: datetime64[ns](1), float32(1), float64(2), int64(1), object(6)\n",
            "memory usage: 1022.7 KB\n"
          ]
        }
      ],
      "source": [
        "# convert object to category\n",
        "df_memory.info(memory_usage = \"deep\")\n"
      ]
    },
    {
      "cell_type": "markdown",
      "id": "9NcPyDr0WlDJ",
      "metadata": {
        "id": "9NcPyDr0WlDJ"
      },
      "source": [
        "Now its reduce 1.15 megabytes to 216.6 kb. It's almost reduced 5.5 times."
      ]
    },
    {
      "cell_type": "markdown",
      "id": "OAhUpeaVYBDX",
      "metadata": {
        "id": "OAhUpeaVYBDX"
      },
      "source": [
        "#### Change int64 or float64 to int 32, 16, or 8"
      ]
    },
    {
      "cell_type": "markdown",
      "id": "JRp-9sgzbK-y",
      "metadata": {
        "id": "JRp-9sgzbK-y"
      },
      "source": [
        "By default, pandas store numeric values to int64 or float64. Which takes more memory. If we have to store small numbers then we can change to 64 to 32, 16, and so on. For example, our Referal columns have only 0 and 1 values so for that we don't need to store at float64. so now we change it to float16."
      ]
    },
    {
      "cell_type": "code",
      "execution_count": 43,
      "id": "a4208c6e",
      "metadata": {
        "id": "a4208c6e"
      },
      "outputs": [],
      "source": [
        "# Change Referal column datatypes\n",
        "df_memory['Age'] = df_memory['Age'].astype('float32')\n"
      ]
    },
    {
      "cell_type": "code",
      "execution_count": 44,
      "id": "680accae",
      "metadata": {
        "colab": {
          "base_uri": "https://localhost:8080/"
        },
        "id": "680accae",
        "outputId": "ce03fb73-451a-44bf-e788-ad889fb50cdc"
      },
      "outputs": [
        {
          "name": "stdout",
          "output_type": "stream",
          "text": [
            "<class 'pandas.core.frame.DataFrame'>\n",
            "RangeIndex: 2512 entries, 0 to 2511\n",
            "Data columns (total 11 columns):\n",
            " #   Column            Non-Null Count  Dtype         \n",
            "---  ------            --------------  -----         \n",
            " 0   Date              2512 non-null   datetime64[ns]\n",
            " 1   Transaction_ID    2512 non-null   int64         \n",
            " 2   Sex               2484 non-null   object        \n",
            " 3   Age               2512 non-null   float32       \n",
            " 4   Marital_status    2512 non-null   object        \n",
            " 5   State_names       2512 non-null   object        \n",
            " 6   Segment           2512 non-null   object        \n",
            " 7   Employees_status  2486 non-null   object        \n",
            " 8   Payment_method    2512 non-null   object        \n",
            " 9   Referal           2512 non-null   float32       \n",
            " 10  Amount_spent      2512 non-null   float64       \n",
            "dtypes: datetime64[ns](1), float32(2), float64(1), int64(1), object(6)\n",
            "memory usage: 1012.9 KB\n"
          ]
        }
      ],
      "source": [
        "# convert object to category\n",
        "df_memory.info(memory_usage=\"deep\")"
      ]
    },
    {
      "cell_type": "markdown",
      "id": "tDkU2zSZdBfA",
      "metadata": {
        "id": "tDkU2zSZdBfA"
      },
      "source": [
        "After changing only one column's data types we reduce 216 kb to 179 kb.\n"
      ]
    },
    {
      "cell_type": "markdown",
      "id": "XtsqLqzyeJ2q",
      "metadata": {
        "id": "XtsqLqzyeJ2q"
      },
      "source": [
        "**Note: Before changing datatypes please make sure it's consequences.**"
      ]
    },
    {
      "cell_type": "markdown",
      "id": "d9d6f71f",
      "metadata": {
        "id": "d9d6f71f"
      },
      "source": [
        "## 5. Data Analysis"
      ]
    },
    {
      "cell_type": "markdown",
      "id": "4e3b208b",
      "metadata": {
        "id": "4e3b208b"
      },
      "source": [
        "### 5.1. Calculating Basic statistical measurement"
      ]
    },
    {
      "cell_type": "code",
      "execution_count": 45,
      "id": "c2913b96",
      "metadata": {},
      "outputs": [
        {
          "data": {
            "application/vnd.microsoft.datawrangler.viewer.v0+json": {
              "columns": [
                {
                  "name": "index",
                  "rawType": "object",
                  "type": "string"
                },
                {
                  "name": "count",
                  "rawType": "object",
                  "type": "unknown"
                },
                {
                  "name": "mean",
                  "rawType": "object",
                  "type": "unknown"
                },
                {
                  "name": "min",
                  "rawType": "object",
                  "type": "unknown"
                },
                {
                  "name": "25%",
                  "rawType": "object",
                  "type": "unknown"
                },
                {
                  "name": "50%",
                  "rawType": "object",
                  "type": "unknown"
                },
                {
                  "name": "75%",
                  "rawType": "object",
                  "type": "unknown"
                },
                {
                  "name": "max",
                  "rawType": "object",
                  "type": "unknown"
                },
                {
                  "name": "std",
                  "rawType": "object",
                  "type": "unknown"
                }
              ],
              "conversionMethod": "pd.DataFrame",
              "ref": "bed6d92e-a458-44c6-9076-4c60c59bc7b9",
              "rows": [
                [
                  "Date",
                  "2512",
                  "2020-02-25 06:14:19.872611328",
                  "2019-01-01 00:00:00",
                  "2019-07-23 00:00:00",
                  "2020-02-16 00:00:00",
                  "2020-09-23 00:00:00",
                  "2021-05-01 00:00:00",
                  null
                ],
                [
                  "Transaction_ID",
                  "2512.0",
                  "152443.93113057324",
                  "151200.0",
                  "151815.75",
                  "152443.5",
                  "153071.25",
                  "153699.0",
                  "724.580482061382"
                ],
                [
                  "Age",
                  "2512.0",
                  "46.6437101910828",
                  "15.0",
                  "32.0",
                  "47.0",
                  "62.0",
                  "78.0",
                  "18.033599781399015"
                ],
                [
                  "Referal",
                  "2512.0",
                  "0.6552547812461853",
                  "0.0",
                  "0.0",
                  "1.0",
                  "1.0",
                  "1.0",
                  "0.4753797650337219"
                ],
                [
                  "Amount_spent",
                  "2512.0",
                  "1418.422577092511",
                  "2.09",
                  "734.8625",
                  "1418.4225770925111",
                  "1955.9975",
                  "2999.98",
                  "835.1016484204266"
                ]
              ],
              "shape": {
                "columns": 8,
                "rows": 5
              }
            },
            "text/html": [
              "<div>\n",
              "<style scoped>\n",
              "    .dataframe tbody tr th:only-of-type {\n",
              "        vertical-align: middle;\n",
              "    }\n",
              "\n",
              "    .dataframe tbody tr th {\n",
              "        vertical-align: top;\n",
              "    }\n",
              "\n",
              "    .dataframe thead th {\n",
              "        text-align: right;\n",
              "    }\n",
              "</style>\n",
              "<table border=\"1\" class=\"dataframe\">\n",
              "  <thead>\n",
              "    <tr style=\"text-align: right;\">\n",
              "      <th></th>\n",
              "      <th>count</th>\n",
              "      <th>mean</th>\n",
              "      <th>min</th>\n",
              "      <th>25%</th>\n",
              "      <th>50%</th>\n",
              "      <th>75%</th>\n",
              "      <th>max</th>\n",
              "      <th>std</th>\n",
              "    </tr>\n",
              "  </thead>\n",
              "  <tbody>\n",
              "    <tr>\n",
              "      <th>Date</th>\n",
              "      <td>2512</td>\n",
              "      <td>2020-02-25 06:14:19.872611328</td>\n",
              "      <td>2019-01-01 00:00:00</td>\n",
              "      <td>2019-07-23 00:00:00</td>\n",
              "      <td>2020-02-16 00:00:00</td>\n",
              "      <td>2020-09-23 00:00:00</td>\n",
              "      <td>2021-05-01 00:00:00</td>\n",
              "      <td>NaN</td>\n",
              "    </tr>\n",
              "    <tr>\n",
              "      <th>Transaction_ID</th>\n",
              "      <td>2512.0</td>\n",
              "      <td>152443.931131</td>\n",
              "      <td>151200.0</td>\n",
              "      <td>151815.75</td>\n",
              "      <td>152443.5</td>\n",
              "      <td>153071.25</td>\n",
              "      <td>153699.0</td>\n",
              "      <td>724.580482</td>\n",
              "    </tr>\n",
              "    <tr>\n",
              "      <th>Age</th>\n",
              "      <td>2512.0</td>\n",
              "      <td>46.64371</td>\n",
              "      <td>15.0</td>\n",
              "      <td>32.0</td>\n",
              "      <td>47.0</td>\n",
              "      <td>62.0</td>\n",
              "      <td>78.0</td>\n",
              "      <td>18.0336</td>\n",
              "    </tr>\n",
              "    <tr>\n",
              "      <th>Referal</th>\n",
              "      <td>2512.0</td>\n",
              "      <td>0.655255</td>\n",
              "      <td>0.0</td>\n",
              "      <td>0.0</td>\n",
              "      <td>1.0</td>\n",
              "      <td>1.0</td>\n",
              "      <td>1.0</td>\n",
              "      <td>0.47538</td>\n",
              "    </tr>\n",
              "    <tr>\n",
              "      <th>Amount_spent</th>\n",
              "      <td>2512.0</td>\n",
              "      <td>1418.422577</td>\n",
              "      <td>2.09</td>\n",
              "      <td>734.8625</td>\n",
              "      <td>1418.422577</td>\n",
              "      <td>1955.9975</td>\n",
              "      <td>2999.98</td>\n",
              "      <td>835.101648</td>\n",
              "    </tr>\n",
              "  </tbody>\n",
              "</table>\n",
              "</div>"
            ],
            "text/plain": [
              "                 count                           mean                  min  \\\n",
              "Date              2512  2020-02-25 06:14:19.872611328  2019-01-01 00:00:00   \n",
              "Transaction_ID  2512.0                  152443.931131             151200.0   \n",
              "Age             2512.0                       46.64371                 15.0   \n",
              "Referal         2512.0                       0.655255                  0.0   \n",
              "Amount_spent    2512.0                    1418.422577                 2.09   \n",
              "\n",
              "                                25%                  50%                  75%  \\\n",
              "Date            2019-07-23 00:00:00  2020-02-16 00:00:00  2020-09-23 00:00:00   \n",
              "Transaction_ID            151815.75             152443.5            153071.25   \n",
              "Age                            32.0                 47.0                 62.0   \n",
              "Referal                         0.0                  1.0                  1.0   \n",
              "Amount_spent               734.8625          1418.422577            1955.9975   \n",
              "\n",
              "                                max         std  \n",
              "Date            2021-05-01 00:00:00         NaN  \n",
              "Transaction_ID             153699.0  724.580482  \n",
              "Age                            78.0     18.0336  \n",
              "Referal                         1.0     0.47538  \n",
              "Amount_spent                2999.98  835.101648  "
            ]
          },
          "execution_count": 45,
          "metadata": {},
          "output_type": "execute_result"
        }
      ],
      "source": [
        "df_col.describe().T"
      ]
    },
    {
      "cell_type": "markdown",
      "id": "n6s8tjhWLkxS",
      "metadata": {
        "id": "n6s8tjhWLkxS"
      },
      "source": [
        "We know already above code will display only numeric columns basic statistical information. for object or category columns we can use `describe(include=object)` ."
      ]
    },
    {
      "cell_type": "code",
      "execution_count": 48,
      "id": "bedd8b71",
      "metadata": {
        "colab": {
          "base_uri": "https://localhost:8080/",
          "height": 333
        },
        "id": "bedd8b71",
        "outputId": "bc70e265-922f-4820-8e0e-965a0325bdff"
      },
      "outputs": [
        {
          "data": {
            "application/vnd.microsoft.datawrangler.viewer.v0+json": {
              "columns": [
                {
                  "name": "index",
                  "rawType": "object",
                  "type": "string"
                },
                {
                  "name": "count",
                  "rawType": "object",
                  "type": "unknown"
                },
                {
                  "name": "unique",
                  "rawType": "object",
                  "type": "unknown"
                },
                {
                  "name": "top",
                  "rawType": "object",
                  "type": "string"
                },
                {
                  "name": "freq",
                  "rawType": "object",
                  "type": "unknown"
                }
              ],
              "conversionMethod": "pd.DataFrame",
              "ref": "7d6d3f10-a47c-44ea-a8ff-1ac3d0e70084",
              "rows": [
                [
                  "Sex",
                  "2484",
                  "2",
                  "Woman",
                  "1356"
                ],
                [
                  "Marital_status",
                  "2512",
                  "2",
                  "Married",
                  "1473"
                ],
                [
                  "State_names",
                  "2512",
                  "50",
                  "Illinois",
                  "67"
                ],
                [
                  "Segment",
                  "2512",
                  "5",
                  "Basic",
                  "1136"
                ],
                [
                  "Employees_status",
                  "2486",
                  "4",
                  "Employees",
                  "946"
                ],
                [
                  "Payment_method",
                  "2512",
                  "3",
                  "PayPal",
                  "1168"
                ]
              ],
              "shape": {
                "columns": 4,
                "rows": 6
              }
            },
            "text/html": [
              "<div>\n",
              "<style scoped>\n",
              "    .dataframe tbody tr th:only-of-type {\n",
              "        vertical-align: middle;\n",
              "    }\n",
              "\n",
              "    .dataframe tbody tr th {\n",
              "        vertical-align: top;\n",
              "    }\n",
              "\n",
              "    .dataframe thead th {\n",
              "        text-align: right;\n",
              "    }\n",
              "</style>\n",
              "<table border=\"1\" class=\"dataframe\">\n",
              "  <thead>\n",
              "    <tr style=\"text-align: right;\">\n",
              "      <th></th>\n",
              "      <th>count</th>\n",
              "      <th>unique</th>\n",
              "      <th>top</th>\n",
              "      <th>freq</th>\n",
              "    </tr>\n",
              "  </thead>\n",
              "  <tbody>\n",
              "    <tr>\n",
              "      <th>Sex</th>\n",
              "      <td>2484</td>\n",
              "      <td>2</td>\n",
              "      <td>Woman</td>\n",
              "      <td>1356</td>\n",
              "    </tr>\n",
              "    <tr>\n",
              "      <th>Marital_status</th>\n",
              "      <td>2512</td>\n",
              "      <td>2</td>\n",
              "      <td>Married</td>\n",
              "      <td>1473</td>\n",
              "    </tr>\n",
              "    <tr>\n",
              "      <th>State_names</th>\n",
              "      <td>2512</td>\n",
              "      <td>50</td>\n",
              "      <td>Illinois</td>\n",
              "      <td>67</td>\n",
              "    </tr>\n",
              "    <tr>\n",
              "      <th>Segment</th>\n",
              "      <td>2512</td>\n",
              "      <td>5</td>\n",
              "      <td>Basic</td>\n",
              "      <td>1136</td>\n",
              "    </tr>\n",
              "    <tr>\n",
              "      <th>Employees_status</th>\n",
              "      <td>2486</td>\n",
              "      <td>4</td>\n",
              "      <td>Employees</td>\n",
              "      <td>946</td>\n",
              "    </tr>\n",
              "    <tr>\n",
              "      <th>Payment_method</th>\n",
              "      <td>2512</td>\n",
              "      <td>3</td>\n",
              "      <td>PayPal</td>\n",
              "      <td>1168</td>\n",
              "    </tr>\n",
              "  </tbody>\n",
              "</table>\n",
              "</div>"
            ],
            "text/plain": [
              "                 count unique        top  freq\n",
              "Sex               2484      2      Woman  1356\n",
              "Marital_status    2512      2    Married  1473\n",
              "State_names       2512     50   Illinois    67\n",
              "Segment           2512      5      Basic  1136\n",
              "Employees_status  2486      4  Employees   946\n",
              "Payment_method    2512      3     PayPal  1168"
            ]
          },
          "execution_count": 48,
          "metadata": {},
          "output_type": "execute_result"
        }
      ],
      "source": [
        "df_col.describe(include = object).T"
      ]
    },
    {
      "cell_type": "markdown",
      "id": "f_p8W2lmL-C7",
      "metadata": {
        "id": "f_p8W2lmL-C7"
      },
      "source": [
        "We can calculate the mean, median, mode, maximum values, minimum values of individual columns we simply use these functions."
      ]
    },
    {
      "cell_type": "code",
      "execution_count": 50,
      "id": "c60ff776",
      "metadata": {
        "colab": {
          "base_uri": "https://localhost:8080/"
        },
        "id": "c60ff776",
        "outputId": "a9053dfa-ca0b-4767-e4cd-539688a15aeb"
      },
      "outputs": [
        {
          "name": "stdout",
          "output_type": "stream",
          "text": [
            " Mean of Age : 46.6437101910828\n",
            " Median of Age : 47.0\n",
            " Mode of Age : 0    47.0\n",
            "Name: Age, dtype: float64\n",
            " Standard deviation of Age : 18.03\n",
            " Maximum of Age : 78.0\n",
            " Menimum of Age : 15.0\n"
          ]
        }
      ],
      "source": [
        "# Calculate Mean\n",
        "mean = df_col['Age'].mean()\n",
        "\n",
        "# Calculate Median\n",
        "median = df_col['Age'].median()\n",
        "\n",
        "#Calculate Mode\n",
        "mode = df_col['Age'].mode()\n",
        "\n",
        "# Calculate standard deviation\n",
        "std =  df_col['Age'].std()\n",
        "\n",
        "# Calculate Minimum values\n",
        "min_val = df_col['Age'].min()\n",
        "\n",
        "# Calculate Maximum values\n",
        "max_cal =df_col['Age'].max()\n",
        "\n",
        "print(f\" Mean of Age : {mean}\")\n",
        "print(f\" Median of Age : {median}\")\n",
        "print(f\" Mode of Age : {mode}\")\n",
        "print(f\" Standard deviation of Age : {std:.2f}\")\n",
        "print(f\" Maximum of Age : {max_cal}\")\n",
        "print(f\" Menimum of Age : {min_val}\")"
      ]
    },
    {
      "cell_type": "markdown",
      "id": "Dd---Bu-Ms-R",
      "metadata": {
        "id": "Dd---Bu-Ms-R"
      },
      "source": [
        "In pandas we can display the correlation of different numeric columns. For this we can use `.corr()` function."
      ]
    },
    {
      "cell_type": "code",
      "execution_count": 51,
      "id": "8e89ace8",
      "metadata": {
        "colab": {
          "base_uri": "https://localhost:8080/",
          "height": 239
        },
        "id": "8e89ace8",
        "outputId": "2b61173c-4722-4ae8-f73a-75698da9dcae"
      },
      "outputs": [
        {
          "data": {
            "application/vnd.microsoft.datawrangler.viewer.v0+json": {
              "columns": [
                {
                  "name": "index",
                  "rawType": "object",
                  "type": "string"
                },
                {
                  "name": "Transaction_ID",
                  "rawType": "float64",
                  "type": "float"
                },
                {
                  "name": "Age",
                  "rawType": "float64",
                  "type": "float"
                },
                {
                  "name": "Referal",
                  "rawType": "float64",
                  "type": "float"
                },
                {
                  "name": "Amount_spent",
                  "rawType": "float64",
                  "type": "float"
                }
              ],
              "conversionMethod": "pd.DataFrame",
              "ref": "14895793-2d56-47fa-a01e-5cf542d3852c",
              "rows": [
                [
                  "Transaction_ID",
                  "1.0",
                  "-0.008880805757036292",
                  "-0.00848826848593652",
                  "-0.0063376427053068694"
                ],
                [
                  "Age",
                  "-0.008880805757036292",
                  "1.0",
                  "0.01274964801598149",
                  "-0.022128213605017683"
                ],
                [
                  "Referal",
                  "-0.00848826848593652",
                  "0.01274964801598149",
                  "1.0",
                  "0.0002920275406119891"
                ],
                [
                  "Amount_spent",
                  "-0.0063376427053068694",
                  "-0.022128213605017683",
                  "0.0002920275406119891",
                  "1.0"
                ]
              ],
              "shape": {
                "columns": 4,
                "rows": 4
              }
            },
            "text/html": [
              "<div>\n",
              "<style scoped>\n",
              "    .dataframe tbody tr th:only-of-type {\n",
              "        vertical-align: middle;\n",
              "    }\n",
              "\n",
              "    .dataframe tbody tr th {\n",
              "        vertical-align: top;\n",
              "    }\n",
              "\n",
              "    .dataframe thead th {\n",
              "        text-align: right;\n",
              "    }\n",
              "</style>\n",
              "<table border=\"1\" class=\"dataframe\">\n",
              "  <thead>\n",
              "    <tr style=\"text-align: right;\">\n",
              "      <th></th>\n",
              "      <th>Transaction_ID</th>\n",
              "      <th>Age</th>\n",
              "      <th>Referal</th>\n",
              "      <th>Amount_spent</th>\n",
              "    </tr>\n",
              "  </thead>\n",
              "  <tbody>\n",
              "    <tr>\n",
              "      <th>Transaction_ID</th>\n",
              "      <td>1.000000</td>\n",
              "      <td>-0.008881</td>\n",
              "      <td>-0.008488</td>\n",
              "      <td>-0.006338</td>\n",
              "    </tr>\n",
              "    <tr>\n",
              "      <th>Age</th>\n",
              "      <td>-0.008881</td>\n",
              "      <td>1.000000</td>\n",
              "      <td>0.012750</td>\n",
              "      <td>-0.022128</td>\n",
              "    </tr>\n",
              "    <tr>\n",
              "      <th>Referal</th>\n",
              "      <td>-0.008488</td>\n",
              "      <td>0.012750</td>\n",
              "      <td>1.000000</td>\n",
              "      <td>0.000292</td>\n",
              "    </tr>\n",
              "    <tr>\n",
              "      <th>Amount_spent</th>\n",
              "      <td>-0.006338</td>\n",
              "      <td>-0.022128</td>\n",
              "      <td>0.000292</td>\n",
              "      <td>1.000000</td>\n",
              "    </tr>\n",
              "  </tbody>\n",
              "</table>\n",
              "</div>"
            ],
            "text/plain": [
              "                Transaction_ID       Age   Referal  Amount_spent\n",
              "Transaction_ID        1.000000 -0.008881 -0.008488     -0.006338\n",
              "Age                  -0.008881  1.000000  0.012750     -0.022128\n",
              "Referal              -0.008488  0.012750  1.000000      0.000292\n",
              "Amount_spent         -0.006338 -0.022128  0.000292      1.000000"
            ]
          },
          "execution_count": 51,
          "metadata": {},
          "output_type": "execute_result"
        }
      ],
      "source": [
        "# calculate correlation\n",
        "df_col.select_dtypes('number').corr()"
      ]
    },
    {
      "cell_type": "markdown",
      "id": "CZnzwDXQg35f",
      "metadata": {
        "id": "CZnzwDXQg35f"
      },
      "source": [
        "### 5.2 Basic built in function for data analysis"
      ]
    },
    {
      "cell_type": "markdown",
      "id": "1dUAN1hwfe8m",
      "metadata": {
        "id": "1dUAN1hwfe8m"
      },
      "source": [
        "#### Number of uniqe values in category column"
      ]
    },
    {
      "cell_type": "code",
      "execution_count": 52,
      "id": "01b77672",
      "metadata": {
        "colab": {
          "base_uri": "https://localhost:8080/"
        },
        "id": "01b77672",
        "outputId": "32d4e286-6238-4b8a-d8b2-c710d1943b88"
      },
      "outputs": [
        {
          "data": {
            "text/plain": [
              "50"
            ]
          },
          "execution_count": 52,
          "metadata": {},
          "output_type": "execute_result"
        }
      ],
      "source": [
        "# for display how many unique values are there in State_names column\n",
        "df_col['State_names'].nunique()"
      ]
    },
    {
      "cell_type": "markdown",
      "id": "uKCSrDSDI7Bs",
      "metadata": {
        "id": "uKCSrDSDI7Bs"
      },
      "source": [
        "#### Shows all unique values"
      ]
    },
    {
      "cell_type": "code",
      "execution_count": 53,
      "id": "5ca391db",
      "metadata": {
        "colab": {
          "base_uri": "https://localhost:8080/"
        },
        "id": "5ca391db",
        "outputId": "71de46ed-5b33-4695-ab26-ec64a5ba4f43"
      },
      "outputs": [
        {
          "data": {
            "text/plain": [
              "array(['Kansas', 'Illinois', 'New Mexico', 'Virginia', 'Connecticut',\n",
              "       'Hawaii', 'Florida', 'Vermont', 'California', 'Colorado', 'Iowa',\n",
              "       'South Carolina', 'New York', 'Maine', 'Maryland', 'Missouri',\n",
              "       'North Dakota', 'Ohio', 'Nebraska', 'Montana', 'Indiana',\n",
              "       'Wisconsin', 'Alabama', 'Arkansas', 'Pennsylvania',\n",
              "       'New Hampshire', 'Washington', 'Texas', 'Kentucky',\n",
              "       'Massachusetts', 'Wyoming', 'Louisiana', 'North Carolina',\n",
              "       'Rhode Island', 'West Virginia', 'Tennessee', 'Oregon', 'Alaska',\n",
              "       'Oklahoma', 'Nevada', 'New Jersey', 'Michigan', 'Utah', 'Arizona',\n",
              "       'South Dakota', 'Georgia', 'Idaho', 'Mississippi', 'Minnesota',\n",
              "       'Delaware'], dtype=object)"
            ]
          },
          "execution_count": 53,
          "metadata": {},
          "output_type": "execute_result"
        }
      ],
      "source": [
        "# for display uniqe values of State_names column\n",
        "df_col['State_names'].unique()"
      ]
    },
    {
      "cell_type": "markdown",
      "id": "9VsTcgZOhakP",
      "metadata": {
        "id": "9VsTcgZOhakP"
      },
      "source": [
        "#### Counts of unique values"
      ]
    },
    {
      "cell_type": "code",
      "execution_count": 54,
      "id": "ec290b27",
      "metadata": {
        "colab": {
          "base_uri": "https://localhost:8080/"
        },
        "id": "ec290b27",
        "outputId": "9e1635be-4f0a-495c-8552-f84f7e31be67"
      },
      "outputs": [
        {
          "data": {
            "text/plain": [
              "Sex\n",
              "Woman    1356\n",
              "Man      1128\n",
              "Name: count, dtype: int64"
            ]
          },
          "execution_count": 54,
          "metadata": {},
          "output_type": "execute_result"
        }
      ],
      "source": [
        "df_col['Sex'].value_counts()"
      ]
    },
    {
      "cell_type": "markdown",
      "id": "dVItecqDKUwk",
      "metadata": {
        "id": "dVItecqDKUwk"
      },
      "source": [
        "If we want to show with the percentage of occurrence rather number than we use `normalize=True` argument in `value_counts()` function"
      ]
    },
    {
      "cell_type": "code",
      "execution_count": 55,
      "id": "4876aa46",
      "metadata": {
        "colab": {
          "base_uri": "https://localhost:8080/"
        },
        "id": "4876aa46",
        "outputId": "a5ad8292-aaa3-4b8b-bf5e-cd41d0ac0e6a"
      },
      "outputs": [
        {
          "data": {
            "text/plain": [
              "Sex\n",
              "Woman    0.545894\n",
              "Man      0.454106\n",
              "Name: proportion, dtype: float64"
            ]
          },
          "execution_count": 55,
          "metadata": {},
          "output_type": "execute_result"
        }
      ],
      "source": [
        "# Calculate percentage of each category\n",
        "df_col['Sex'].value_counts(normalize= True)"
      ]
    },
    {
      "cell_type": "code",
      "execution_count": 56,
      "id": "665280f1",
      "metadata": {
        "colab": {
          "base_uri": "https://localhost:8080/"
        },
        "id": "665280f1",
        "outputId": "f28c5a20-206a-4d41-831c-e368135acb60"
      },
      "outputs": [
        {
          "data": {
            "text/plain": [
              "State_names\n",
              "Illinois          67\n",
              "Georgia           64\n",
              "Massachusetts     63\n",
              "Maine             62\n",
              "Kentucky          59\n",
              "Minnesota         59\n",
              "Missouri          57\n",
              "Arizona           56\n",
              "Delaware          56\n",
              "Arkansas          55\n",
              "Nevada            55\n",
              "New York          55\n",
              "California        55\n",
              "New Mexico        55\n",
              "Vermont           54\n",
              "West Virginia     54\n",
              "New Jersey        53\n",
              "Oregon            53\n",
              "Florida           53\n",
              "Connecticut       52\n",
              "Washington        52\n",
              "Pennsylvania      52\n",
              "Colorado          52\n",
              "South Dakota      52\n",
              "Michigan          52\n",
              "Iowa              51\n",
              "Rhode Island      51\n",
              "Louisiana         49\n",
              "Texas             49\n",
              "Montana           48\n",
              "North Carolina    46\n",
              "Virginia          46\n",
              "Hawaii            46\n",
              "Wisconsin         45\n",
              "Idaho             45\n",
              "Maryland          45\n",
              "South Carolina    45\n",
              "Wyoming           44\n",
              "Mississippi       44\n",
              "Oklahoma          44\n",
              "Utah              43\n",
              "New Hampshire     43\n",
              "Indiana           43\n",
              "Ohio              43\n",
              "Alabama           42\n",
              "Alaska            41\n",
              "Nebraska          41\n",
              "North Dakota      41\n",
              "Kansas            41\n",
              "Tennessee         39\n",
              "Name: count, dtype: int64"
            ]
          },
          "execution_count": 56,
          "metadata": {},
          "output_type": "execute_result"
        }
      ],
      "source": [
        "df_col['State_names'].value_counts()"
      ]
    },
    {
      "cell_type": "code",
      "execution_count": 57,
      "id": "eed29623",
      "metadata": {
        "colab": {
          "base_uri": "https://localhost:8080/",
          "height": 207
        },
        "collapsed": true,
        "id": "eed29623",
        "jupyter": {
          "outputs_hidden": true
        },
        "outputId": "31f49d44-ba25-42a1-a2e7-b47e05530a56",
        "tags": []
      },
      "outputs": [
        {
          "data": {
            "application/vnd.microsoft.datawrangler.viewer.v0+json": {
              "columns": [
                {
                  "name": "index",
                  "rawType": "int64",
                  "type": "integer"
                },
                {
                  "name": "Date",
                  "rawType": "datetime64[ns]",
                  "type": "datetime"
                },
                {
                  "name": "Transaction_ID",
                  "rawType": "int64",
                  "type": "integer"
                },
                {
                  "name": "Sex",
                  "rawType": "object",
                  "type": "unknown"
                },
                {
                  "name": "Age",
                  "rawType": "float64",
                  "type": "float"
                },
                {
                  "name": "Marital_status",
                  "rawType": "object",
                  "type": "string"
                },
                {
                  "name": "State_names",
                  "rawType": "object",
                  "type": "string"
                },
                {
                  "name": "Segment",
                  "rawType": "object",
                  "type": "string"
                },
                {
                  "name": "Employees_status",
                  "rawType": "object",
                  "type": "unknown"
                },
                {
                  "name": "Payment_method",
                  "rawType": "object",
                  "type": "string"
                },
                {
                  "name": "Referal",
                  "rawType": "float32",
                  "type": "float"
                },
                {
                  "name": "Amount_spent",
                  "rawType": "float64",
                  "type": "float"
                }
              ],
              "conversionMethod": "pd.DataFrame",
              "ref": "2a0ecbab-3c08-41db-916c-7881b26bf899",
              "rows": [
                [
                  "617",
                  "2019-07-21 00:00:00",
                  "151805",
                  "Man",
                  "43.0",
                  "Married",
                  "Alabama",
                  "Silver",
                  "Employees",
                  "PayPal",
                  "1.0",
                  "87.88"
                ],
                [
                  "1856",
                  "2020-09-15 00:00:00",
                  "153044",
                  "Woman",
                  "18.0",
                  "Married",
                  "Alabama",
                  "Silver",
                  "workers",
                  "PayPal",
                  "0.0",
                  "2091.73"
                ],
                [
                  "2443",
                  "2021-04-09 00:00:00",
                  "153631",
                  "Man",
                  "60.0",
                  "Married",
                  "Alabama",
                  "Platinum",
                  "Employees",
                  "PayPal",
                  "1.0",
                  "1418.4225770925111"
                ],
                [
                  "2441",
                  "2021-04-09 00:00:00",
                  "153629",
                  "Man",
                  "18.0",
                  "Single",
                  "Alabama",
                  "Platinum",
                  "Employees",
                  "Card",
                  "0.0",
                  "289.85"
                ],
                [
                  "1023",
                  "2019-12-03 00:00:00",
                  "152211",
                  "Woman",
                  "30.0",
                  "Married",
                  "Alabama",
                  "Platinum",
                  "Unemployment",
                  "Other",
                  "0.0",
                  "1418.4225770925111"
                ],
                [
                  "1853",
                  "2020-09-15 00:00:00",
                  "153041",
                  "Man",
                  "18.0",
                  "Married",
                  "Alabama",
                  "Silver",
                  "Employees",
                  "Other",
                  "0.0",
                  "1418.4225770925111"
                ],
                [
                  "1097",
                  "2019-12-27 00:00:00",
                  "152285",
                  "Woman",
                  "59.0",
                  "Married",
                  "Alabama",
                  "Platinum",
                  "workers",
                  "Card",
                  "1.0",
                  "2747.99"
                ],
                [
                  "1109",
                  "2020-01-01 00:00:00",
                  "152297",
                  "Woman",
                  "73.0",
                  "Married",
                  "Alabama",
                  "Silver",
                  "self-employed",
                  "Other",
                  "0.0",
                  "851.25"
                ],
                [
                  "2379",
                  "2021-03-19 00:00:00",
                  "153567",
                  "Woman",
                  "34.0",
                  "Single",
                  "Alabama",
                  "Silver",
                  "Employees",
                  "PayPal",
                  "0.0",
                  "77.9"
                ],
                [
                  "2348",
                  "2021-03-08 00:00:00",
                  "153536",
                  "Woman",
                  "27.0",
                  "Married",
                  "Alabama",
                  "Basic",
                  "workers",
                  "Card",
                  "1.0",
                  "413.11"
                ],
                [
                  "1834",
                  "2020-09-06 00:00:00",
                  "153022",
                  "Woman",
                  "21.0",
                  "Married",
                  "Alabama",
                  "Silver",
                  "Unemployment",
                  "Card",
                  "1.0",
                  "2749.37"
                ],
                [
                  "623",
                  "2019-07-23 00:00:00",
                  "151811",
                  "Woman",
                  "24.0",
                  "Married",
                  "Alabama",
                  "Basic",
                  "workers",
                  "PayPal",
                  "0.0",
                  "270.93"
                ],
                [
                  "1639",
                  "2020-07-06 00:00:00",
                  "152827",
                  "Woman",
                  "28.0",
                  "Single",
                  "Alabama",
                  "Gold",
                  "Employees",
                  "PayPal",
                  "0.0",
                  "1706.13"
                ],
                [
                  "2318",
                  "2021-02-27 00:00:00",
                  "153506",
                  "Man",
                  "15.0",
                  "Married",
                  "Alabama",
                  "Missing",
                  "self-employed",
                  "Card",
                  "0.0",
                  "2735.65"
                ],
                [
                  "1876",
                  "2020-09-21 00:00:00",
                  "153064",
                  "Woman",
                  "26.0",
                  "Married",
                  "Alabama",
                  "Silver",
                  "workers",
                  "Card",
                  "0.0",
                  "2520.87"
                ],
                [
                  "1823",
                  "2020-09-04 00:00:00",
                  "153011",
                  "Man",
                  "22.0",
                  "Married",
                  "Alabama",
                  "Missing",
                  "Employees",
                  "PayPal",
                  "0.0",
                  "350.72"
                ],
                [
                  "193",
                  "2019-03-11 00:00:00",
                  "151381",
                  "Man",
                  "47.0",
                  "Single",
                  "Alabama",
                  "Basic",
                  "Employees",
                  "PayPal",
                  "1.0",
                  "1500.59"
                ],
                [
                  "2267",
                  "2021-02-11 00:00:00",
                  "153455",
                  "Man",
                  "67.0",
                  "Married",
                  "Alabama",
                  "Platinum",
                  "workers",
                  "Card",
                  "1.0",
                  "221.17"
                ],
                [
                  "1369",
                  "2020-03-27 00:00:00",
                  "152557",
                  "Woman",
                  "17.0",
                  "Single",
                  "Alabama",
                  "Platinum",
                  "workers",
                  "Other",
                  "1.0",
                  "1578.58"
                ],
                [
                  "353",
                  "2019-04-29 00:00:00",
                  "151541",
                  "Man",
                  "72.0",
                  "Married",
                  "Alabama",
                  "Basic",
                  "workers",
                  "PayPal",
                  "1.0",
                  "118.72"
                ],
                [
                  "2223",
                  "2021-01-25 00:00:00",
                  "153411",
                  "Woman",
                  "66.0",
                  "Single",
                  "Alabama",
                  "Platinum",
                  "self-employed",
                  "Other",
                  "1.0",
                  "2789.52"
                ],
                [
                  "2218",
                  "2021-01-24 00:00:00",
                  "153406",
                  "Woman",
                  "29.0",
                  "Married",
                  "Alabama",
                  "Basic",
                  "workers",
                  "Card",
                  "1.0",
                  "1728.28"
                ],
                [
                  "373",
                  "2019-05-06 00:00:00",
                  "151561",
                  "Man",
                  "54.0",
                  "Married",
                  "Alabama",
                  "Basic",
                  "Unemployment",
                  "PayPal",
                  "1.0",
                  "1264.38"
                ],
                [
                  "2197",
                  "2021-01-15 00:00:00",
                  "153385",
                  "Man",
                  "55.0",
                  "Married",
                  "Alabama",
                  "Silver",
                  "workers",
                  "PayPal",
                  "1.0",
                  "1450.74"
                ],
                [
                  "377",
                  "2019-05-07 00:00:00",
                  "151565",
                  "Woman",
                  "53.0",
                  "Married",
                  "Alabama",
                  "Basic",
                  "Employees",
                  "Card",
                  "0.0",
                  "1317.05"
                ],
                [
                  "1484",
                  "2020-05-13 00:00:00",
                  "152672",
                  "Woman",
                  "28.0",
                  "Married",
                  "Alabama",
                  "Platinum",
                  "self-employed",
                  "Other",
                  "1.0",
                  "1424.7"
                ],
                [
                  "1687",
                  "2020-07-26 00:00:00",
                  "152875",
                  "Man",
                  "42.0",
                  "Married",
                  "Alabama",
                  "Platinum",
                  "Unemployment",
                  "PayPal",
                  "0.0",
                  "1757.22"
                ],
                [
                  "454",
                  "2019-05-29 00:00:00",
                  "151642",
                  "Woman",
                  "65.0",
                  "Single",
                  "Alabama",
                  "Silver",
                  "workers",
                  "PayPal",
                  "0.0",
                  "2520.85"
                ],
                [
                  "146",
                  "2019-02-21 00:00:00",
                  "151334",
                  "Man",
                  "18.0",
                  "Single",
                  "Alabama",
                  "Silver",
                  "Employees",
                  "Other",
                  "0.0",
                  "459.47"
                ],
                [
                  "612",
                  "2019-07-19 00:00:00",
                  "151800",
                  "Woman",
                  "46.0",
                  "Single",
                  "Alabama",
                  "Silver",
                  "Employees",
                  "Card",
                  "1.0",
                  "1418.4225770925111"
                ],
                [
                  "1881",
                  "2020-09-23 00:00:00",
                  "153069",
                  null,
                  "40.0",
                  "Married",
                  "Alabama",
                  "Basic",
                  "workers",
                  "PayPal",
                  "0.0",
                  "1716.37"
                ],
                [
                  "413",
                  "2019-05-17 00:00:00",
                  "151601",
                  "Woman",
                  "40.0",
                  "Married",
                  "Alabama",
                  "Gold",
                  "workers",
                  "Card",
                  "0.0",
                  "1418.4225770925111"
                ],
                [
                  "879",
                  "2019-10-14 00:00:00",
                  "152067",
                  "Man",
                  "42.0",
                  "Single",
                  "Alabama",
                  "Basic",
                  "Employees",
                  "Other",
                  "0.0",
                  "1691.62"
                ],
                [
                  "806",
                  "2019-09-23 00:00:00",
                  "151994",
                  "Woman",
                  "47.0",
                  "Married",
                  "Alabama",
                  "Basic",
                  "workers",
                  "PayPal",
                  "1.0",
                  "1418.4225770925111"
                ],
                [
                  "28",
                  "2019-01-12 00:00:00",
                  "151228",
                  "Man",
                  "75.0",
                  "Married",
                  "Alabama",
                  "Basic",
                  "self-employed",
                  "PayPal",
                  "1.0",
                  "233.05"
                ],
                [
                  "882",
                  "2019-10-15 00:00:00",
                  "152070",
                  "Man",
                  "51.0",
                  "Married",
                  "Alabama",
                  "Platinum",
                  "self-employed",
                  "Other",
                  "1.0",
                  "1367.77"
                ],
                [
                  "27",
                  "2019-01-12 00:00:00",
                  "151227",
                  "Man",
                  "61.0",
                  "Married",
                  "Alabama",
                  "Platinum",
                  "workers",
                  "Card",
                  "1.0",
                  "1094.67"
                ],
                [
                  "1927",
                  "2020-10-07 00:00:00",
                  "153115",
                  "Man",
                  "74.0",
                  "Married",
                  "Alabama",
                  "Basic",
                  "Employees",
                  "Card",
                  "0.0",
                  "731.47"
                ],
                [
                  "2001",
                  "2020-11-02 00:00:00",
                  "153189",
                  "Woman",
                  "47.0",
                  "Married",
                  "Alabama",
                  "Gold",
                  "Employees",
                  "Other",
                  "0.0",
                  "1954.13"
                ],
                [
                  "2505",
                  "2021-04-30 00:00:00",
                  "153693",
                  "Man",
                  "54.0",
                  "Married",
                  "Alabama",
                  "Basic",
                  "Employees",
                  "Card",
                  "0.0",
                  "266.61"
                ],
                [
                  "831",
                  "2019-10-01 00:00:00",
                  "152019",
                  "Man",
                  "53.0",
                  "Single",
                  "Alabama",
                  "Basic",
                  "Employees",
                  "PayPal",
                  "1.0",
                  "114.85"
                ],
                [
                  "859",
                  "2019-10-10 00:00:00",
                  "152047",
                  "Man",
                  "63.0",
                  "Married",
                  "Alabama",
                  "Basic",
                  "self-employed",
                  "PayPal",
                  "1.0",
                  "2876.36"
                ],
                [
                  "750",
                  "2019-09-01 00:00:00",
                  "151938",
                  "Man",
                  "47.0",
                  "Married",
                  "Alaska",
                  "Basic",
                  "workers",
                  "PayPal",
                  "1.0",
                  "664.37"
                ],
                [
                  "1808",
                  "2020-08-29 00:00:00",
                  "152996",
                  "Man",
                  "17.0",
                  "Single",
                  "Alaska",
                  "Silver",
                  "Employees",
                  "Other",
                  "1.0",
                  "2764.48"
                ],
                [
                  "1307",
                  "2020-03-04 00:00:00",
                  "152495",
                  "Woman",
                  "51.0",
                  "Married",
                  "Alaska",
                  "Basic",
                  "Employees",
                  "Other",
                  "1.0",
                  "2594.75"
                ],
                [
                  "328",
                  "2019-04-21 00:00:00",
                  "151516",
                  "Man",
                  "62.0",
                  "Married",
                  "Alaska",
                  "Basic",
                  "Employees",
                  "Other",
                  "1.0",
                  "588.88"
                ],
                [
                  "1820",
                  "2020-09-04 00:00:00",
                  "153008",
                  "Man",
                  "52.0",
                  "Single",
                  "Alaska",
                  "Silver",
                  "Employees",
                  "PayPal",
                  "1.0",
                  "91.32"
                ],
                [
                  "1798",
                  "2020-08-29 00:00:00",
                  "152986",
                  "Man",
                  "75.0",
                  "Single",
                  "Alaska",
                  "Basic",
                  "workers",
                  "Card",
                  "1.0",
                  "2497.31"
                ],
                [
                  "1246",
                  "2020-02-12 00:00:00",
                  "152434",
                  "Woman",
                  "54.0",
                  "Married",
                  "Alaska",
                  "Basic",
                  "Unemployment",
                  "Card",
                  "1.0",
                  "1118.41"
                ],
                [
                  "1822",
                  "2020-09-04 00:00:00",
                  "153010",
                  "Woman",
                  "56.0",
                  "Married",
                  "Alaska",
                  "Silver",
                  "workers",
                  "PayPal",
                  "0.0",
                  "462.96"
                ]
              ],
              "shape": {
                "columns": 11,
                "rows": 2512
              }
            },
            "text/html": [
              "<div>\n",
              "<style scoped>\n",
              "    .dataframe tbody tr th:only-of-type {\n",
              "        vertical-align: middle;\n",
              "    }\n",
              "\n",
              "    .dataframe tbody tr th {\n",
              "        vertical-align: top;\n",
              "    }\n",
              "\n",
              "    .dataframe thead th {\n",
              "        text-align: right;\n",
              "    }\n",
              "</style>\n",
              "<table border=\"1\" class=\"dataframe\">\n",
              "  <thead>\n",
              "    <tr style=\"text-align: right;\">\n",
              "      <th></th>\n",
              "      <th>Date</th>\n",
              "      <th>Transaction_ID</th>\n",
              "      <th>Sex</th>\n",
              "      <th>Age</th>\n",
              "      <th>Marital_status</th>\n",
              "      <th>State_names</th>\n",
              "      <th>Segment</th>\n",
              "      <th>Employees_status</th>\n",
              "      <th>Payment_method</th>\n",
              "      <th>Referal</th>\n",
              "      <th>Amount_spent</th>\n",
              "    </tr>\n",
              "  </thead>\n",
              "  <tbody>\n",
              "    <tr>\n",
              "      <th>617</th>\n",
              "      <td>2019-07-21</td>\n",
              "      <td>151805</td>\n",
              "      <td>Man</td>\n",
              "      <td>43.0</td>\n",
              "      <td>Married</td>\n",
              "      <td>Alabama</td>\n",
              "      <td>Silver</td>\n",
              "      <td>Employees</td>\n",
              "      <td>PayPal</td>\n",
              "      <td>1.0</td>\n",
              "      <td>87.880000</td>\n",
              "    </tr>\n",
              "    <tr>\n",
              "      <th>1856</th>\n",
              "      <td>2020-09-15</td>\n",
              "      <td>153044</td>\n",
              "      <td>Woman</td>\n",
              "      <td>18.0</td>\n",
              "      <td>Married</td>\n",
              "      <td>Alabama</td>\n",
              "      <td>Silver</td>\n",
              "      <td>workers</td>\n",
              "      <td>PayPal</td>\n",
              "      <td>0.0</td>\n",
              "      <td>2091.730000</td>\n",
              "    </tr>\n",
              "    <tr>\n",
              "      <th>2443</th>\n",
              "      <td>2021-04-09</td>\n",
              "      <td>153631</td>\n",
              "      <td>Man</td>\n",
              "      <td>60.0</td>\n",
              "      <td>Married</td>\n",
              "      <td>Alabama</td>\n",
              "      <td>Platinum</td>\n",
              "      <td>Employees</td>\n",
              "      <td>PayPal</td>\n",
              "      <td>1.0</td>\n",
              "      <td>1418.422577</td>\n",
              "    </tr>\n",
              "    <tr>\n",
              "      <th>2441</th>\n",
              "      <td>2021-04-09</td>\n",
              "      <td>153629</td>\n",
              "      <td>Man</td>\n",
              "      <td>18.0</td>\n",
              "      <td>Single</td>\n",
              "      <td>Alabama</td>\n",
              "      <td>Platinum</td>\n",
              "      <td>Employees</td>\n",
              "      <td>Card</td>\n",
              "      <td>0.0</td>\n",
              "      <td>289.850000</td>\n",
              "    </tr>\n",
              "    <tr>\n",
              "      <th>1023</th>\n",
              "      <td>2019-12-03</td>\n",
              "      <td>152211</td>\n",
              "      <td>Woman</td>\n",
              "      <td>30.0</td>\n",
              "      <td>Married</td>\n",
              "      <td>Alabama</td>\n",
              "      <td>Platinum</td>\n",
              "      <td>Unemployment</td>\n",
              "      <td>Other</td>\n",
              "      <td>0.0</td>\n",
              "      <td>1418.422577</td>\n",
              "    </tr>\n",
              "    <tr>\n",
              "      <th>...</th>\n",
              "      <td>...</td>\n",
              "      <td>...</td>\n",
              "      <td>...</td>\n",
              "      <td>...</td>\n",
              "      <td>...</td>\n",
              "      <td>...</td>\n",
              "      <td>...</td>\n",
              "      <td>...</td>\n",
              "      <td>...</td>\n",
              "      <td>...</td>\n",
              "      <td>...</td>\n",
              "    </tr>\n",
              "    <tr>\n",
              "      <th>1789</th>\n",
              "      <td>2020-08-26</td>\n",
              "      <td>152977</td>\n",
              "      <td>Woman</td>\n",
              "      <td>36.0</td>\n",
              "      <td>Married</td>\n",
              "      <td>Wyoming</td>\n",
              "      <td>Silver</td>\n",
              "      <td>Employees</td>\n",
              "      <td>PayPal</td>\n",
              "      <td>1.0</td>\n",
              "      <td>698.920000</td>\n",
              "    </tr>\n",
              "    <tr>\n",
              "      <th>1811</th>\n",
              "      <td>2020-08-30</td>\n",
              "      <td>152999</td>\n",
              "      <td>Man</td>\n",
              "      <td>71.0</td>\n",
              "      <td>Married</td>\n",
              "      <td>Wyoming</td>\n",
              "      <td>Basic</td>\n",
              "      <td>Unemployment</td>\n",
              "      <td>PayPal</td>\n",
              "      <td>0.0</td>\n",
              "      <td>1647.300000</td>\n",
              "    </tr>\n",
              "    <tr>\n",
              "      <th>1819</th>\n",
              "      <td>2020-09-03</td>\n",
              "      <td>153007</td>\n",
              "      <td>Man</td>\n",
              "      <td>35.0</td>\n",
              "      <td>Married</td>\n",
              "      <td>Wyoming</td>\n",
              "      <td>Basic</td>\n",
              "      <td>workers</td>\n",
              "      <td>Card</td>\n",
              "      <td>0.0</td>\n",
              "      <td>984.700000</td>\n",
              "    </tr>\n",
              "    <tr>\n",
              "      <th>1844</th>\n",
              "      <td>2020-09-09</td>\n",
              "      <td>153032</td>\n",
              "      <td>Woman</td>\n",
              "      <td>24.0</td>\n",
              "      <td>Married</td>\n",
              "      <td>Wyoming</td>\n",
              "      <td>Basic</td>\n",
              "      <td>Unemployment</td>\n",
              "      <td>PayPal</td>\n",
              "      <td>1.0</td>\n",
              "      <td>16.270000</td>\n",
              "    </tr>\n",
              "    <tr>\n",
              "      <th>119</th>\n",
              "      <td>2019-02-11</td>\n",
              "      <td>151307</td>\n",
              "      <td>Woman</td>\n",
              "      <td>43.0</td>\n",
              "      <td>Married</td>\n",
              "      <td>Wyoming</td>\n",
              "      <td>Basic</td>\n",
              "      <td>Employees</td>\n",
              "      <td>Card</td>\n",
              "      <td>1.0</td>\n",
              "      <td>914.940000</td>\n",
              "    </tr>\n",
              "  </tbody>\n",
              "</table>\n",
              "<p>2512 rows × 11 columns</p>\n",
              "</div>"
            ],
            "text/plain": [
              "           Date  Transaction_ID    Sex   Age Marital_status State_names  \\\n",
              "617  2019-07-21          151805    Man  43.0        Married     Alabama   \n",
              "1856 2020-09-15          153044  Woman  18.0        Married     Alabama   \n",
              "2443 2021-04-09          153631    Man  60.0        Married     Alabama   \n",
              "2441 2021-04-09          153629    Man  18.0         Single     Alabama   \n",
              "1023 2019-12-03          152211  Woman  30.0        Married     Alabama   \n",
              "...         ...             ...    ...   ...            ...         ...   \n",
              "1789 2020-08-26          152977  Woman  36.0        Married     Wyoming   \n",
              "1811 2020-08-30          152999    Man  71.0        Married     Wyoming   \n",
              "1819 2020-09-03          153007    Man  35.0        Married     Wyoming   \n",
              "1844 2020-09-09          153032  Woman  24.0        Married     Wyoming   \n",
              "119  2019-02-11          151307  Woman  43.0        Married     Wyoming   \n",
              "\n",
              "       Segment Employees_status Payment_method  Referal  Amount_spent  \n",
              "617     Silver        Employees         PayPal      1.0     87.880000  \n",
              "1856    Silver          workers         PayPal      0.0   2091.730000  \n",
              "2443  Platinum        Employees         PayPal      1.0   1418.422577  \n",
              "2441  Platinum        Employees           Card      0.0    289.850000  \n",
              "1023  Platinum     Unemployment          Other      0.0   1418.422577  \n",
              "...        ...              ...            ...      ...           ...  \n",
              "1789    Silver        Employees         PayPal      1.0    698.920000  \n",
              "1811     Basic     Unemployment         PayPal      0.0   1647.300000  \n",
              "1819     Basic          workers           Card      0.0    984.700000  \n",
              "1844     Basic     Unemployment         PayPal      1.0     16.270000  \n",
              "119      Basic        Employees           Card      1.0    914.940000  \n",
              "\n",
              "[2512 rows x 11 columns]"
            ]
          },
          "execution_count": 57,
          "metadata": {},
          "output_type": "execute_result"
        }
      ],
      "source": [
        "# Sort Values by State_names\n",
        "df_col.sort_values(by= 'State_names')"
      ]
    },
    {
      "cell_type": "markdown",
      "id": "_4zUpaMCm6Ig",
      "metadata": {
        "id": "_4zUpaMCm6Ig"
      },
      "source": [
        "For sorting our dataframe by Amount_spent with ascending order:"
      ]
    },
    {
      "cell_type": "code",
      "execution_count": 58,
      "id": "9nAJo_njnDTr",
      "metadata": {
        "colab": {
          "base_uri": "https://localhost:8080/",
          "height": 225
        },
        "id": "9nAJo_njnDTr",
        "outputId": "229b54ff-320f-4e58-ec19-335bcdc406c1"
      },
      "outputs": [
        {
          "data": {
            "application/vnd.microsoft.datawrangler.viewer.v0+json": {
              "columns": [
                {
                  "name": "index",
                  "rawType": "int64",
                  "type": "integer"
                },
                {
                  "name": "Date",
                  "rawType": "datetime64[ns]",
                  "type": "datetime"
                },
                {
                  "name": "Transaction_ID",
                  "rawType": "int64",
                  "type": "integer"
                },
                {
                  "name": "Sex",
                  "rawType": "object",
                  "type": "unknown"
                },
                {
                  "name": "Age",
                  "rawType": "float64",
                  "type": "float"
                },
                {
                  "name": "Marital_status",
                  "rawType": "object",
                  "type": "string"
                },
                {
                  "name": "State_names",
                  "rawType": "object",
                  "type": "string"
                },
                {
                  "name": "Segment",
                  "rawType": "object",
                  "type": "string"
                },
                {
                  "name": "Employees_status",
                  "rawType": "object",
                  "type": "unknown"
                },
                {
                  "name": "Payment_method",
                  "rawType": "object",
                  "type": "string"
                },
                {
                  "name": "Referal",
                  "rawType": "float32",
                  "type": "float"
                },
                {
                  "name": "Amount_spent",
                  "rawType": "float64",
                  "type": "float"
                }
              ],
              "conversionMethod": "pd.DataFrame",
              "ref": "9a471f08-7715-4561-876d-1d4e4759b208",
              "rows": [
                [
                  "2468",
                  "2021-04-18 00:00:00",
                  "153656",
                  "Woman",
                  "73.0",
                  "Married",
                  "Michigan",
                  "Gold",
                  "Employees",
                  "PayPal",
                  "1.0",
                  "2.09"
                ],
                [
                  "568",
                  "2019-07-04 00:00:00",
                  "151756",
                  "Man",
                  "46.0",
                  "Single",
                  "South Carolina",
                  "Gold",
                  "workers",
                  "PayPal",
                  "0.0",
                  "2.16"
                ],
                [
                  "2401",
                  "2021-03-25 00:00:00",
                  "153589",
                  "Woman",
                  "60.0",
                  "Single",
                  "Maryland",
                  "Silver",
                  "Employees",
                  "PayPal",
                  "1.0",
                  "2.84"
                ],
                [
                  "962",
                  "2019-11-13 00:00:00",
                  "152150",
                  "Woman",
                  "56.0",
                  "Married",
                  "Nevada",
                  "Basic",
                  "workers",
                  "Other",
                  "1.0",
                  "5.31"
                ],
                [
                  "860",
                  "2019-10-10 00:00:00",
                  "152048",
                  "Man",
                  "26.0",
                  "Single",
                  "Maryland",
                  "Silver",
                  "Unemployment",
                  "PayPal",
                  "1.0",
                  "5.55"
                ],
                [
                  "958",
                  "2019-11-12 00:00:00",
                  "152146",
                  "Woman",
                  "64.0",
                  "Married",
                  "Illinois",
                  "Basic",
                  "Employees",
                  "PayPal",
                  "1.0",
                  "6.79"
                ],
                [
                  "304",
                  "2019-04-14 00:00:00",
                  "151492",
                  "Woman",
                  "78.0",
                  "Single",
                  "Oregon",
                  "Silver",
                  "workers",
                  "PayPal",
                  "0.0",
                  "7.44"
                ],
                [
                  "1304",
                  "2020-03-02 00:00:00",
                  "152492",
                  "Man",
                  "26.0",
                  "Married",
                  "Maryland",
                  "Silver",
                  "Employees",
                  "PayPal",
                  "1.0",
                  "8.67"
                ],
                [
                  "2243",
                  "2021-02-04 00:00:00",
                  "153431",
                  "Man",
                  "32.0",
                  "Married",
                  "Maryland",
                  "Silver",
                  "workers",
                  "Other",
                  "0.0",
                  "8.79"
                ],
                [
                  "1178",
                  "2020-01-18 00:00:00",
                  "152366",
                  "Woman",
                  "71.0",
                  "Single",
                  "Delaware",
                  "Basic",
                  "Employees",
                  "PayPal",
                  "0.0",
                  "14.42"
                ],
                [
                  "124",
                  "2019-02-12 00:00:00",
                  "151312",
                  "Man",
                  "32.0",
                  "Married",
                  "Florida",
                  "Silver",
                  "Employees",
                  "PayPal",
                  "1.0",
                  "15.37"
                ],
                [
                  "1844",
                  "2020-09-09 00:00:00",
                  "153032",
                  "Woman",
                  "24.0",
                  "Married",
                  "Wyoming",
                  "Basic",
                  "Unemployment",
                  "PayPal",
                  "1.0",
                  "16.27"
                ],
                [
                  "2084",
                  "2020-12-06 00:00:00",
                  "153272",
                  "Woman",
                  "65.0",
                  "Single",
                  "Georgia",
                  "Basic",
                  "workers",
                  "PayPal",
                  "1.0",
                  "20.25"
                ],
                [
                  "512",
                  "2019-06-17 00:00:00",
                  "151700",
                  "Man",
                  "30.0",
                  "Married",
                  "Arizona",
                  "Basic",
                  "workers",
                  "PayPal",
                  "1.0",
                  "20.77"
                ],
                [
                  "1010",
                  "2019-11-28 00:00:00",
                  "152198",
                  "Man",
                  "62.0",
                  "Single",
                  "Vermont",
                  "Basic",
                  "Unemployment",
                  "PayPal",
                  "0.0",
                  "23.14"
                ],
                [
                  "1201",
                  "2020-01-25 00:00:00",
                  "152389",
                  "Woman",
                  "45.0",
                  "Married",
                  "Illinois",
                  "Silver",
                  "workers",
                  "PayPal",
                  "1.0",
                  "25.18"
                ],
                [
                  "520",
                  "2019-06-20 00:00:00",
                  "151708",
                  "Woman",
                  "45.0",
                  "Married",
                  "Minnesota",
                  "Basic",
                  "workers",
                  "PayPal",
                  "1.0",
                  "25.6"
                ],
                [
                  "1075",
                  "2019-12-20 00:00:00",
                  "152263",
                  "Man",
                  "60.0",
                  "Married",
                  "Vermont",
                  "Silver",
                  "Employees",
                  "PayPal",
                  "1.0",
                  "26.55"
                ],
                [
                  "1620",
                  "2020-06-29 00:00:00",
                  "152808",
                  "Woman",
                  "35.0",
                  "Married",
                  "Georgia",
                  "Missing",
                  "Employees",
                  "PayPal",
                  "0.0",
                  "27.0"
                ],
                [
                  "424",
                  "2019-05-20 00:00:00",
                  "151612",
                  "Woman",
                  "30.0",
                  "Married",
                  "Connecticut",
                  "Platinum",
                  "Employees",
                  "PayPal",
                  "1.0",
                  "28.27"
                ],
                [
                  "2335",
                  "2021-03-06 00:00:00",
                  "153523",
                  "Woman",
                  "58.0",
                  "Single",
                  "New Mexico",
                  "Basic",
                  "self-employed",
                  "PayPal",
                  "1.0",
                  "29.41"
                ],
                [
                  "2185",
                  "2021-01-11 00:00:00",
                  "153373",
                  "Man",
                  "37.0",
                  "Married",
                  "Montana",
                  "Basic",
                  "Employees",
                  "Card",
                  "1.0",
                  "30.18"
                ],
                [
                  "1083",
                  "2019-12-23 00:00:00",
                  "152271",
                  "Woman",
                  "22.0",
                  "Single",
                  "Indiana",
                  "Platinum",
                  "workers",
                  "Card",
                  "1.0",
                  "30.22"
                ],
                [
                  "1497",
                  "2020-05-18 00:00:00",
                  "152685",
                  "Woman",
                  "62.0",
                  "Married",
                  "Mississippi",
                  "Silver",
                  "workers",
                  "Other",
                  "1.0",
                  "31.13"
                ],
                [
                  "1957",
                  "2020-10-19 00:00:00",
                  "153145",
                  "Woman",
                  "75.0",
                  "Married",
                  "Virginia",
                  "Silver",
                  "workers",
                  "Other",
                  "1.0",
                  "31.41"
                ],
                [
                  "1133",
                  "2020-01-07 00:00:00",
                  "152321",
                  "Man",
                  "25.0",
                  "Married",
                  "Tennessee",
                  "Basic",
                  "workers",
                  "PayPal",
                  "0.0",
                  "33.63"
                ],
                [
                  "867",
                  "2019-10-12 00:00:00",
                  "152055",
                  "Woman",
                  "21.0",
                  "Single",
                  "Georgia",
                  "Basic",
                  "Employees",
                  "Card",
                  "1.0",
                  "34.43"
                ],
                [
                  "1873",
                  "2020-09-21 00:00:00",
                  "153061",
                  "Man",
                  "32.0",
                  "Single",
                  "Vermont",
                  "Basic",
                  "Employees",
                  "Card",
                  "1.0",
                  "34.45"
                ],
                [
                  "1103",
                  "2019-12-30 00:00:00",
                  "152291",
                  "Man",
                  "48.0",
                  "Married",
                  "Nebraska",
                  "Basic",
                  "Employees",
                  "Other",
                  "0.0",
                  "34.88"
                ],
                [
                  "480",
                  "2019-06-07 00:00:00",
                  "151668",
                  "Woman",
                  "64.0",
                  "Single",
                  "South Dakota",
                  "Silver",
                  "workers",
                  "PayPal",
                  "1.0",
                  "35.65"
                ],
                [
                  "2337",
                  "2021-03-07 00:00:00",
                  "153525",
                  "Woman",
                  "38.0",
                  "Married",
                  "Texas",
                  "Gold",
                  "Employees",
                  "Card",
                  "1.0",
                  "36.74"
                ],
                [
                  "894",
                  "2019-10-18 00:00:00",
                  "152082",
                  "Man",
                  "42.0",
                  "Married",
                  "Maine",
                  "Basic",
                  "Employees",
                  "Card",
                  "1.0",
                  "39.84"
                ],
                [
                  "719",
                  "2019-08-22 00:00:00",
                  "151907",
                  "Man",
                  "43.0",
                  "Married",
                  "Virginia",
                  "Silver",
                  "self-employed",
                  "Card",
                  "1.0",
                  "42.98"
                ],
                [
                  "835",
                  "2019-10-01 00:00:00",
                  "152023",
                  "Man",
                  "48.0",
                  "Single",
                  "West Virginia",
                  "Platinum",
                  "Employees",
                  "Other",
                  "1.0",
                  "44.75"
                ],
                [
                  "128",
                  "2019-02-13 00:00:00",
                  "151316",
                  "Man",
                  "56.0",
                  "Single",
                  "Virginia",
                  "Platinum",
                  "self-employed",
                  "PayPal",
                  "1.0",
                  "46.72"
                ],
                [
                  "2261",
                  "2021-02-10 00:00:00",
                  "153449",
                  "Man",
                  "45.0",
                  "Married",
                  "Delaware",
                  "Basic",
                  "workers",
                  "PayPal",
                  "1.0",
                  "49.53"
                ],
                [
                  "1542",
                  "2020-06-01 00:00:00",
                  "152730",
                  "Woman",
                  "59.0",
                  "Married",
                  "Wisconsin",
                  "Silver",
                  "Employees",
                  "Card",
                  "0.0",
                  "50.83"
                ],
                [
                  "72",
                  "2019-01-29 00:00:00",
                  "151267",
                  null,
                  "37.0",
                  "Single",
                  "Ohio",
                  "Basic",
                  "Unemployment",
                  "Other",
                  "1.0",
                  "52.08"
                ],
                [
                  "2170",
                  "2021-01-06 00:00:00",
                  "153358",
                  "Woman",
                  "40.0",
                  "Married",
                  "West Virginia",
                  "Silver",
                  "self-employed",
                  "PayPal",
                  "1.0",
                  "52.16"
                ],
                [
                  "331",
                  "2019-04-21 00:00:00",
                  "151519",
                  "Woman",
                  "43.0",
                  "Single",
                  "Oklahoma",
                  "Basic",
                  "workers",
                  "PayPal",
                  "0.0",
                  "52.2"
                ],
                [
                  "961",
                  "2019-11-12 00:00:00",
                  "152149",
                  "Man",
                  "64.0",
                  "Married",
                  "Wyoming",
                  "Silver",
                  "self-employed",
                  "PayPal",
                  "0.0",
                  "53.36"
                ],
                [
                  "317",
                  "2019-04-19 00:00:00",
                  "151505",
                  "Woman",
                  "50.0",
                  "Married",
                  "Vermont",
                  "Basic",
                  "Employees",
                  "PayPal",
                  "0.0",
                  "53.82"
                ],
                [
                  "1538",
                  "2020-05-30 00:00:00",
                  "152726",
                  "Man",
                  "60.0",
                  "Single",
                  "Delaware",
                  "Gold",
                  "Employees",
                  "PayPal",
                  "1.0",
                  "55.65"
                ],
                [
                  "1481",
                  "2020-05-12 00:00:00",
                  "152669",
                  "Woman",
                  "45.0",
                  "Married",
                  "Wyoming",
                  "Platinum",
                  "workers",
                  "Card",
                  "0.0",
                  "56.06"
                ],
                [
                  "840",
                  "2019-10-02 00:00:00",
                  "152028",
                  "Man",
                  "41.0",
                  "Married",
                  "Arkansas",
                  "Missing",
                  "Employees",
                  "PayPal",
                  "1.0",
                  "56.13"
                ],
                [
                  "777",
                  "2019-09-13 00:00:00",
                  "151965",
                  "Man",
                  "65.0",
                  "Married",
                  "South Carolina",
                  "Platinum",
                  "workers",
                  "Card",
                  "1.0",
                  "56.63"
                ],
                [
                  "1336",
                  "2020-03-15 00:00:00",
                  "152524",
                  "Man",
                  "57.0",
                  "Single",
                  "New Mexico",
                  "Platinum",
                  "workers",
                  "PayPal",
                  "0.0",
                  "57.81"
                ],
                [
                  "1801",
                  "2020-08-29 00:00:00",
                  "152989",
                  "Man",
                  "75.0",
                  "Married",
                  "Utah",
                  "Basic",
                  "self-employed",
                  "Other",
                  "1.0",
                  "59.24"
                ],
                [
                  "998",
                  "2019-11-24 00:00:00",
                  "152186",
                  "Man",
                  "66.0",
                  "Married",
                  "Utah",
                  "Silver",
                  "self-employed",
                  "Card",
                  "1.0",
                  "59.97"
                ],
                [
                  "974",
                  "2019-11-18 00:00:00",
                  "152162",
                  "Woman",
                  "40.0",
                  "Single",
                  "Rhode Island",
                  "Basic",
                  "Employees",
                  "PayPal",
                  "1.0",
                  "61.04"
                ]
              ],
              "shape": {
                "columns": 11,
                "rows": 2512
              }
            },
            "text/html": [
              "<div>\n",
              "<style scoped>\n",
              "    .dataframe tbody tr th:only-of-type {\n",
              "        vertical-align: middle;\n",
              "    }\n",
              "\n",
              "    .dataframe tbody tr th {\n",
              "        vertical-align: top;\n",
              "    }\n",
              "\n",
              "    .dataframe thead th {\n",
              "        text-align: right;\n",
              "    }\n",
              "</style>\n",
              "<table border=\"1\" class=\"dataframe\">\n",
              "  <thead>\n",
              "    <tr style=\"text-align: right;\">\n",
              "      <th></th>\n",
              "      <th>Date</th>\n",
              "      <th>Transaction_ID</th>\n",
              "      <th>Sex</th>\n",
              "      <th>Age</th>\n",
              "      <th>Marital_status</th>\n",
              "      <th>State_names</th>\n",
              "      <th>Segment</th>\n",
              "      <th>Employees_status</th>\n",
              "      <th>Payment_method</th>\n",
              "      <th>Referal</th>\n",
              "      <th>Amount_spent</th>\n",
              "    </tr>\n",
              "  </thead>\n",
              "  <tbody>\n",
              "    <tr>\n",
              "      <th>2468</th>\n",
              "      <td>2021-04-18</td>\n",
              "      <td>153656</td>\n",
              "      <td>Woman</td>\n",
              "      <td>73.0</td>\n",
              "      <td>Married</td>\n",
              "      <td>Michigan</td>\n",
              "      <td>Gold</td>\n",
              "      <td>Employees</td>\n",
              "      <td>PayPal</td>\n",
              "      <td>1.0</td>\n",
              "      <td>2.09</td>\n",
              "    </tr>\n",
              "    <tr>\n",
              "      <th>568</th>\n",
              "      <td>2019-07-04</td>\n",
              "      <td>151756</td>\n",
              "      <td>Man</td>\n",
              "      <td>46.0</td>\n",
              "      <td>Single</td>\n",
              "      <td>South Carolina</td>\n",
              "      <td>Gold</td>\n",
              "      <td>workers</td>\n",
              "      <td>PayPal</td>\n",
              "      <td>0.0</td>\n",
              "      <td>2.16</td>\n",
              "    </tr>\n",
              "    <tr>\n",
              "      <th>2401</th>\n",
              "      <td>2021-03-25</td>\n",
              "      <td>153589</td>\n",
              "      <td>Woman</td>\n",
              "      <td>60.0</td>\n",
              "      <td>Single</td>\n",
              "      <td>Maryland</td>\n",
              "      <td>Silver</td>\n",
              "      <td>Employees</td>\n",
              "      <td>PayPal</td>\n",
              "      <td>1.0</td>\n",
              "      <td>2.84</td>\n",
              "    </tr>\n",
              "    <tr>\n",
              "      <th>962</th>\n",
              "      <td>2019-11-13</td>\n",
              "      <td>152150</td>\n",
              "      <td>Woman</td>\n",
              "      <td>56.0</td>\n",
              "      <td>Married</td>\n",
              "      <td>Nevada</td>\n",
              "      <td>Basic</td>\n",
              "      <td>workers</td>\n",
              "      <td>Other</td>\n",
              "      <td>1.0</td>\n",
              "      <td>5.31</td>\n",
              "    </tr>\n",
              "    <tr>\n",
              "      <th>860</th>\n",
              "      <td>2019-10-10</td>\n",
              "      <td>152048</td>\n",
              "      <td>Man</td>\n",
              "      <td>26.0</td>\n",
              "      <td>Single</td>\n",
              "      <td>Maryland</td>\n",
              "      <td>Silver</td>\n",
              "      <td>Unemployment</td>\n",
              "      <td>PayPal</td>\n",
              "      <td>1.0</td>\n",
              "      <td>5.55</td>\n",
              "    </tr>\n",
              "    <tr>\n",
              "      <th>...</th>\n",
              "      <td>...</td>\n",
              "      <td>...</td>\n",
              "      <td>...</td>\n",
              "      <td>...</td>\n",
              "      <td>...</td>\n",
              "      <td>...</td>\n",
              "      <td>...</td>\n",
              "      <td>...</td>\n",
              "      <td>...</td>\n",
              "      <td>...</td>\n",
              "      <td>...</td>\n",
              "    </tr>\n",
              "    <tr>\n",
              "      <th>743</th>\n",
              "      <td>2019-08-30</td>\n",
              "      <td>151931</td>\n",
              "      <td>Man</td>\n",
              "      <td>44.0</td>\n",
              "      <td>Single</td>\n",
              "      <td>Illinois</td>\n",
              "      <td>Basic</td>\n",
              "      <td>Employees</td>\n",
              "      <td>Card</td>\n",
              "      <td>1.0</td>\n",
              "      <td>2996.82</td>\n",
              "    </tr>\n",
              "    <tr>\n",
              "      <th>589</th>\n",
              "      <td>2019-07-13</td>\n",
              "      <td>151777</td>\n",
              "      <td>Man</td>\n",
              "      <td>51.0</td>\n",
              "      <td>Single</td>\n",
              "      <td>North Carolina</td>\n",
              "      <td>Missing</td>\n",
              "      <td>Employees</td>\n",
              "      <td>PayPal</td>\n",
              "      <td>1.0</td>\n",
              "      <td>2997.15</td>\n",
              "    </tr>\n",
              "    <tr>\n",
              "      <th>2279</th>\n",
              "      <td>2021-02-15</td>\n",
              "      <td>153467</td>\n",
              "      <td>Woman</td>\n",
              "      <td>78.0</td>\n",
              "      <td>Single</td>\n",
              "      <td>Arizona</td>\n",
              "      <td>Silver</td>\n",
              "      <td>Employees</td>\n",
              "      <td>PayPal</td>\n",
              "      <td>1.0</td>\n",
              "      <td>2997.21</td>\n",
              "    </tr>\n",
              "    <tr>\n",
              "      <th>485</th>\n",
              "      <td>2019-06-07</td>\n",
              "      <td>151673</td>\n",
              "      <td>Man</td>\n",
              "      <td>65.0</td>\n",
              "      <td>Married</td>\n",
              "      <td>Arizona</td>\n",
              "      <td>Gold</td>\n",
              "      <td>self-employed</td>\n",
              "      <td>PayPal</td>\n",
              "      <td>1.0</td>\n",
              "      <td>2998.62</td>\n",
              "    </tr>\n",
              "    <tr>\n",
              "      <th>17</th>\n",
              "      <td>2019-01-07</td>\n",
              "      <td>151217</td>\n",
              "      <td>Woman</td>\n",
              "      <td>77.0</td>\n",
              "      <td>Married</td>\n",
              "      <td>New Mexico</td>\n",
              "      <td>Platinum</td>\n",
              "      <td>workers</td>\n",
              "      <td>Card</td>\n",
              "      <td>0.0</td>\n",
              "      <td>2999.98</td>\n",
              "    </tr>\n",
              "  </tbody>\n",
              "</table>\n",
              "<p>2512 rows × 11 columns</p>\n",
              "</div>"
            ],
            "text/plain": [
              "           Date  Transaction_ID    Sex   Age Marital_status     State_names  \\\n",
              "2468 2021-04-18          153656  Woman  73.0        Married        Michigan   \n",
              "568  2019-07-04          151756    Man  46.0         Single  South Carolina   \n",
              "2401 2021-03-25          153589  Woman  60.0         Single        Maryland   \n",
              "962  2019-11-13          152150  Woman  56.0        Married          Nevada   \n",
              "860  2019-10-10          152048    Man  26.0         Single        Maryland   \n",
              "...         ...             ...    ...   ...            ...             ...   \n",
              "743  2019-08-30          151931    Man  44.0         Single        Illinois   \n",
              "589  2019-07-13          151777    Man  51.0         Single  North Carolina   \n",
              "2279 2021-02-15          153467  Woman  78.0         Single         Arizona   \n",
              "485  2019-06-07          151673    Man  65.0        Married         Arizona   \n",
              "17   2019-01-07          151217  Woman  77.0        Married      New Mexico   \n",
              "\n",
              "       Segment Employees_status Payment_method  Referal  Amount_spent  \n",
              "2468      Gold        Employees         PayPal      1.0          2.09  \n",
              "568       Gold          workers         PayPal      0.0          2.16  \n",
              "2401    Silver        Employees         PayPal      1.0          2.84  \n",
              "962      Basic          workers          Other      1.0          5.31  \n",
              "860     Silver     Unemployment         PayPal      1.0          5.55  \n",
              "...        ...              ...            ...      ...           ...  \n",
              "743      Basic        Employees           Card      1.0       2996.82  \n",
              "589    Missing        Employees         PayPal      1.0       2997.15  \n",
              "2279    Silver        Employees         PayPal      1.0       2997.21  \n",
              "485       Gold    self-employed         PayPal      1.0       2998.62  \n",
              "17    Platinum          workers           Card      0.0       2999.98  \n",
              "\n",
              "[2512 rows x 11 columns]"
            ]
          },
          "execution_count": 58,
          "metadata": {},
          "output_type": "execute_result"
        }
      ],
      "source": [
        "# Sort Values Amount_spent with ascending order\n",
        "df_col.sort_values(by= 'Amount_spent', ascending= True)"
      ]
    },
    {
      "cell_type": "markdown",
      "id": "r0GtAVPrp2BV",
      "metadata": {
        "id": "r0GtAVPrp2BV"
      },
      "source": [
        "For sorting our dataframe by Amount_spent with descending order:"
      ]
    },
    {
      "cell_type": "code",
      "execution_count": 61,
      "id": "GYRYIUCHpQU5",
      "metadata": {
        "colab": {
          "base_uri": "https://localhost:8080/",
          "height": 207
        },
        "id": "GYRYIUCHpQU5",
        "outputId": "fafcb086-41e6-498f-d6c7-5570b479c8ac"
      },
      "outputs": [
        {
          "data": {
            "application/vnd.microsoft.datawrangler.viewer.v0+json": {
              "columns": [
                {
                  "name": "index",
                  "rawType": "int64",
                  "type": "integer"
                },
                {
                  "name": "Date",
                  "rawType": "datetime64[ns]",
                  "type": "datetime"
                },
                {
                  "name": "Transaction_ID",
                  "rawType": "int64",
                  "type": "integer"
                },
                {
                  "name": "Sex",
                  "rawType": "object",
                  "type": "unknown"
                },
                {
                  "name": "Age",
                  "rawType": "float64",
                  "type": "float"
                },
                {
                  "name": "Marital_status",
                  "rawType": "object",
                  "type": "string"
                },
                {
                  "name": "State_names",
                  "rawType": "object",
                  "type": "string"
                },
                {
                  "name": "Segment",
                  "rawType": "object",
                  "type": "string"
                },
                {
                  "name": "Employees_status",
                  "rawType": "object",
                  "type": "unknown"
                },
                {
                  "name": "Payment_method",
                  "rawType": "object",
                  "type": "string"
                },
                {
                  "name": "Referal",
                  "rawType": "float32",
                  "type": "float"
                },
                {
                  "name": "Amount_spent",
                  "rawType": "float64",
                  "type": "float"
                }
              ],
              "conversionMethod": "pd.DataFrame",
              "ref": "bf487f4c-8bfc-41ae-b50a-77de5181583f",
              "rows": [
                [
                  "17",
                  "2019-01-07 00:00:00",
                  "151217",
                  "Woman",
                  "77.0",
                  "Married",
                  "New Mexico",
                  "Platinum",
                  "workers",
                  "Card",
                  "0.0",
                  "2999.98"
                ],
                [
                  "485",
                  "2019-06-07 00:00:00",
                  "151673",
                  "Man",
                  "65.0",
                  "Married",
                  "Arizona",
                  "Gold",
                  "self-employed",
                  "PayPal",
                  "1.0",
                  "2998.62"
                ],
                [
                  "2279",
                  "2021-02-15 00:00:00",
                  "153467",
                  "Woman",
                  "78.0",
                  "Single",
                  "Arizona",
                  "Silver",
                  "Employees",
                  "PayPal",
                  "1.0",
                  "2997.21"
                ],
                [
                  "589",
                  "2019-07-13 00:00:00",
                  "151777",
                  "Man",
                  "51.0",
                  "Single",
                  "North Carolina",
                  "Missing",
                  "Employees",
                  "PayPal",
                  "1.0",
                  "2997.15"
                ],
                [
                  "743",
                  "2019-08-30 00:00:00",
                  "151931",
                  "Man",
                  "44.0",
                  "Single",
                  "Illinois",
                  "Basic",
                  "Employees",
                  "Card",
                  "1.0",
                  "2996.82"
                ],
                [
                  "2367",
                  "2021-03-15 00:00:00",
                  "153555",
                  "Man",
                  "39.0",
                  "Single",
                  "Pennsylvania",
                  "Platinum",
                  "self-employed",
                  "Card",
                  "0.0",
                  "2995.73"
                ],
                [
                  "101",
                  "2019-02-06 00:00:00",
                  "151296",
                  "Woman",
                  "33.0",
                  "Married",
                  "Virginia",
                  "Platinum",
                  "Employees",
                  "PayPal",
                  "0.0",
                  "2989.33"
                ],
                [
                  "1254",
                  "2020-02-16 00:00:00",
                  "152442",
                  "Woman",
                  "16.0",
                  "Married",
                  "Nevada",
                  "Platinum",
                  "workers",
                  "Card",
                  "1.0",
                  "2988.13"
                ],
                [
                  "1123",
                  "2020-01-05 00:00:00",
                  "152311",
                  "Man",
                  "35.0",
                  "Married",
                  "West Virginia",
                  "Silver",
                  "workers",
                  "Other",
                  "1.0",
                  "2987.96"
                ],
                [
                  "1177",
                  "2020-01-18 00:00:00",
                  "152365",
                  "Woman",
                  "30.0",
                  "Single",
                  "Michigan",
                  "Basic",
                  "self-employed",
                  "PayPal",
                  "0.0",
                  "2985.7"
                ],
                [
                  "2136",
                  "2020-12-24 00:00:00",
                  "153324",
                  "Man",
                  "48.0",
                  "Married",
                  "Nebraska",
                  "Basic",
                  "workers",
                  "Other",
                  "0.0",
                  "2984.37"
                ],
                [
                  "2445",
                  "2021-04-10 00:00:00",
                  "153633",
                  "Woman",
                  "72.0",
                  "Married",
                  "New Jersey",
                  "Basic",
                  "self-employed",
                  "Card",
                  "1.0",
                  "2982.88"
                ],
                [
                  "1079",
                  "2019-12-21 00:00:00",
                  "152267",
                  "Man",
                  "64.0",
                  "Married",
                  "Maryland",
                  "Platinum",
                  "Employees",
                  "Card",
                  "0.0",
                  "2981.36"
                ],
                [
                  "1105",
                  "2019-12-31 00:00:00",
                  "152293",
                  "Woman",
                  "24.0",
                  "Married",
                  "Rhode Island",
                  "Basic",
                  "Employees",
                  "Card",
                  "1.0",
                  "2979.76"
                ],
                [
                  "501",
                  "2019-06-14 00:00:00",
                  "151689",
                  "Man",
                  "38.0",
                  "Married",
                  "Montana",
                  "Basic",
                  "workers",
                  "PayPal",
                  "1.0",
                  "2978.21"
                ],
                [
                  "943",
                  "2019-11-06 00:00:00",
                  "152131",
                  "Woman",
                  "77.0",
                  "Single",
                  "Wisconsin",
                  "Basic",
                  "self-employed",
                  "Other",
                  "1.0",
                  "2978.08"
                ],
                [
                  "1904",
                  "2020-09-29 00:00:00",
                  "153092",
                  "Man",
                  "54.0",
                  "Married",
                  "Alaska",
                  "Basic",
                  "workers",
                  "Other",
                  "1.0",
                  "2977.82"
                ],
                [
                  "1682",
                  "2020-07-24 00:00:00",
                  "152870",
                  "Man",
                  "24.0",
                  "Married",
                  "Missouri",
                  "Gold",
                  "Employees",
                  "Other",
                  "1.0",
                  "2977.78"
                ],
                [
                  "1446",
                  "2020-04-29 00:00:00",
                  "152634",
                  "Man",
                  "55.0",
                  "Married",
                  "Wyoming",
                  "Basic",
                  "workers",
                  "PayPal",
                  "1.0",
                  "2976.07"
                ],
                [
                  "1546",
                  "2020-06-03 00:00:00",
                  "152734",
                  "Woman",
                  "68.0",
                  "Single",
                  "South Dakota",
                  "Platinum",
                  "Employees",
                  "PayPal",
                  "1.0",
                  "2975.5"
                ],
                [
                  "2163",
                  "2021-01-04 00:00:00",
                  "153351",
                  "Man",
                  "25.0",
                  "Married",
                  "Hawaii",
                  "Basic",
                  "workers",
                  "Card",
                  "1.0",
                  "2971.65"
                ],
                [
                  "705",
                  "2019-08-16 00:00:00",
                  "151893",
                  "Woman",
                  "48.0",
                  "Married",
                  "Missouri",
                  "Gold",
                  "workers",
                  "Card",
                  "1.0",
                  "2971.3"
                ],
                [
                  "1914",
                  "2020-10-03 00:00:00",
                  "153102",
                  "Woman",
                  "47.0",
                  "Married",
                  "Alaska",
                  "Basic",
                  "workers",
                  "Other",
                  "1.0",
                  "2970.0"
                ],
                [
                  "335",
                  "2019-04-22 00:00:00",
                  "151523",
                  "Woman",
                  "42.0",
                  "Married",
                  "Michigan",
                  "Basic",
                  "Employees",
                  "Other",
                  "1.0",
                  "2969.97"
                ],
                [
                  "1228",
                  "2020-02-02 00:00:00",
                  "152416",
                  "Man",
                  "68.0",
                  "Single",
                  "Massachusetts",
                  "Basic",
                  "self-employed",
                  "Other",
                  "1.0",
                  "2969.59"
                ],
                [
                  "1145",
                  "2020-01-09 00:00:00",
                  "152333",
                  "Woman",
                  "44.0",
                  "Single",
                  "Ohio",
                  "Basic",
                  "workers",
                  "PayPal",
                  "1.0",
                  "2969.4"
                ],
                [
                  "87",
                  "2019-02-02 00:00:00",
                  "151282",
                  "Man",
                  "70.0",
                  "Single",
                  "New Jersey",
                  "Basic",
                  "workers",
                  "PayPal",
                  "0.0",
                  "2969.24"
                ],
                [
                  "19",
                  "2019-01-08 00:00:00",
                  "151219",
                  "Woman",
                  "46.0",
                  "Married",
                  "Missouri",
                  "Basic",
                  "Employees",
                  "Card",
                  "1.0",
                  "2968.95"
                ],
                [
                  "398",
                  "2019-05-12 00:00:00",
                  "151586",
                  "Man",
                  "61.0",
                  "Single",
                  "Nebraska",
                  "Silver",
                  "Employees",
                  "PayPal",
                  "1.0",
                  "2966.93"
                ],
                [
                  "756",
                  "2019-09-03 00:00:00",
                  "151944",
                  "Woman",
                  "78.0",
                  "Married",
                  "New Hampshire",
                  "Basic",
                  "self-employed",
                  "PayPal",
                  "1.0",
                  "2966.31"
                ],
                [
                  "457",
                  "2019-05-31 00:00:00",
                  "151645",
                  "Woman",
                  "29.0",
                  "Married",
                  "Arkansas",
                  "Silver",
                  "self-employed",
                  "Card",
                  "1.0",
                  "2966.21"
                ],
                [
                  "1040",
                  "2019-12-08 00:00:00",
                  "152228",
                  "Woman",
                  "19.0",
                  "Married",
                  "Illinois",
                  "Basic",
                  "Employees",
                  "Other",
                  "1.0",
                  "2965.57"
                ],
                [
                  "1172",
                  "2020-01-17 00:00:00",
                  "152360",
                  "Woman",
                  "58.0",
                  "Single",
                  "Oklahoma",
                  "Silver",
                  "Employees",
                  "PayPal",
                  "0.0",
                  "2962.48"
                ],
                [
                  "2156",
                  "2020-12-31 00:00:00",
                  "153344",
                  "Woman",
                  "54.0",
                  "Single",
                  "Hawaii",
                  "Platinum",
                  "self-employed",
                  "Card",
                  "1.0",
                  "2962.07"
                ],
                [
                  "1132",
                  "2020-01-07 00:00:00",
                  "152320",
                  "Man",
                  "70.0",
                  "Single",
                  "Maryland",
                  "Basic",
                  "Employees",
                  "Card",
                  "0.0",
                  "2961.06"
                ],
                [
                  "765",
                  "2019-09-08 00:00:00",
                  "151953",
                  "Woman",
                  "44.0",
                  "Single",
                  "Wyoming",
                  "Basic",
                  "self-employed",
                  "PayPal",
                  "0.0",
                  "2960.98"
                ],
                [
                  "667",
                  "2019-08-06 00:00:00",
                  "151855",
                  "Woman",
                  "22.0",
                  "Married",
                  "Michigan",
                  "Gold",
                  "Employees",
                  "PayPal",
                  "0.0",
                  "2960.52"
                ],
                [
                  "250",
                  "2019-03-30 00:00:00",
                  "151438",
                  "Woman",
                  "67.0",
                  "Married",
                  "South Carolina",
                  "Basic",
                  "workers",
                  "PayPal",
                  "1.0",
                  "2960.41"
                ],
                [
                  "254",
                  "2019-03-31 00:00:00",
                  "151442",
                  "Woman",
                  "78.0",
                  "Married",
                  "New York",
                  "Missing",
                  "Employees",
                  "PayPal",
                  "1.0",
                  "2959.54"
                ],
                [
                  "1327",
                  "2020-03-10 00:00:00",
                  "152515",
                  "Woman",
                  "27.0",
                  "Married",
                  "Kentucky",
                  "Silver",
                  "workers",
                  "Other",
                  "0.0",
                  "2957.04"
                ],
                [
                  "1130",
                  "2020-01-06 00:00:00",
                  "152318",
                  "Woman",
                  "22.0",
                  "Married",
                  "Idaho",
                  "Basic",
                  "workers",
                  "Other",
                  "1.0",
                  "2954.96"
                ],
                [
                  "2404",
                  "2021-03-27 00:00:00",
                  "153592",
                  "Woman",
                  "39.0",
                  "Single",
                  "Utah",
                  "Silver",
                  "Employees",
                  "Other",
                  "1.0",
                  "2954.83"
                ],
                [
                  "2447",
                  "2021-04-10 00:00:00",
                  "153635",
                  "Man",
                  "73.0",
                  "Married",
                  "California",
                  "Basic",
                  "Employees",
                  "Other",
                  "1.0",
                  "2951.76"
                ],
                [
                  "2308",
                  "2021-02-24 00:00:00",
                  "153496",
                  "Woman",
                  "53.0",
                  "Single",
                  "Connecticut",
                  "Basic",
                  "Unemployment",
                  "PayPal",
                  "1.0",
                  "2951.27"
                ],
                [
                  "1297",
                  "2020-02-28 00:00:00",
                  "152485",
                  "Man",
                  "53.0",
                  "Single",
                  "New Mexico",
                  "Basic",
                  "Employees",
                  "PayPal",
                  "1.0",
                  "2948.12"
                ],
                [
                  "504",
                  "2019-06-15 00:00:00",
                  "151692",
                  "Woman",
                  "49.0",
                  "Single",
                  "Nebraska",
                  "Silver",
                  "Employees",
                  "PayPal",
                  "1.0",
                  "2946.34"
                ],
                [
                  "1337",
                  "2020-03-15 00:00:00",
                  "152525",
                  "Woman",
                  "21.0",
                  "Married",
                  "Missouri",
                  "Basic",
                  "self-employed",
                  "PayPal",
                  "0.0",
                  "2944.92"
                ],
                [
                  "2306",
                  "2021-02-24 00:00:00",
                  "153494",
                  "Woman",
                  "78.0",
                  "Married",
                  "Rhode Island",
                  "Basic",
                  "Unemployment",
                  "PayPal",
                  "1.0",
                  "2943.5"
                ],
                [
                  "79",
                  "2019-01-30 00:00:00",
                  "151274",
                  "Man",
                  "50.0",
                  "Single",
                  "Oklahoma",
                  "Missing",
                  "Employees",
                  "Card",
                  "1.0",
                  "2943.46"
                ],
                [
                  "1637",
                  "2020-07-06 00:00:00",
                  "152825",
                  "Man",
                  "34.0",
                  "Single",
                  "New Mexico",
                  "Gold",
                  "workers",
                  "PayPal",
                  "0.0",
                  "2943.23"
                ]
              ],
              "shape": {
                "columns": 11,
                "rows": 2512
              }
            },
            "text/html": [
              "<div>\n",
              "<style scoped>\n",
              "    .dataframe tbody tr th:only-of-type {\n",
              "        vertical-align: middle;\n",
              "    }\n",
              "\n",
              "    .dataframe tbody tr th {\n",
              "        vertical-align: top;\n",
              "    }\n",
              "\n",
              "    .dataframe thead th {\n",
              "        text-align: right;\n",
              "    }\n",
              "</style>\n",
              "<table border=\"1\" class=\"dataframe\">\n",
              "  <thead>\n",
              "    <tr style=\"text-align: right;\">\n",
              "      <th></th>\n",
              "      <th>Date</th>\n",
              "      <th>Transaction_ID</th>\n",
              "      <th>Sex</th>\n",
              "      <th>Age</th>\n",
              "      <th>Marital_status</th>\n",
              "      <th>State_names</th>\n",
              "      <th>Segment</th>\n",
              "      <th>Employees_status</th>\n",
              "      <th>Payment_method</th>\n",
              "      <th>Referal</th>\n",
              "      <th>Amount_spent</th>\n",
              "    </tr>\n",
              "  </thead>\n",
              "  <tbody>\n",
              "    <tr>\n",
              "      <th>17</th>\n",
              "      <td>2019-01-07</td>\n",
              "      <td>151217</td>\n",
              "      <td>Woman</td>\n",
              "      <td>77.0</td>\n",
              "      <td>Married</td>\n",
              "      <td>New Mexico</td>\n",
              "      <td>Platinum</td>\n",
              "      <td>workers</td>\n",
              "      <td>Card</td>\n",
              "      <td>0.0</td>\n",
              "      <td>2999.98</td>\n",
              "    </tr>\n",
              "    <tr>\n",
              "      <th>485</th>\n",
              "      <td>2019-06-07</td>\n",
              "      <td>151673</td>\n",
              "      <td>Man</td>\n",
              "      <td>65.0</td>\n",
              "      <td>Married</td>\n",
              "      <td>Arizona</td>\n",
              "      <td>Gold</td>\n",
              "      <td>self-employed</td>\n",
              "      <td>PayPal</td>\n",
              "      <td>1.0</td>\n",
              "      <td>2998.62</td>\n",
              "    </tr>\n",
              "    <tr>\n",
              "      <th>2279</th>\n",
              "      <td>2021-02-15</td>\n",
              "      <td>153467</td>\n",
              "      <td>Woman</td>\n",
              "      <td>78.0</td>\n",
              "      <td>Single</td>\n",
              "      <td>Arizona</td>\n",
              "      <td>Silver</td>\n",
              "      <td>Employees</td>\n",
              "      <td>PayPal</td>\n",
              "      <td>1.0</td>\n",
              "      <td>2997.21</td>\n",
              "    </tr>\n",
              "    <tr>\n",
              "      <th>589</th>\n",
              "      <td>2019-07-13</td>\n",
              "      <td>151777</td>\n",
              "      <td>Man</td>\n",
              "      <td>51.0</td>\n",
              "      <td>Single</td>\n",
              "      <td>North Carolina</td>\n",
              "      <td>Missing</td>\n",
              "      <td>Employees</td>\n",
              "      <td>PayPal</td>\n",
              "      <td>1.0</td>\n",
              "      <td>2997.15</td>\n",
              "    </tr>\n",
              "    <tr>\n",
              "      <th>743</th>\n",
              "      <td>2019-08-30</td>\n",
              "      <td>151931</td>\n",
              "      <td>Man</td>\n",
              "      <td>44.0</td>\n",
              "      <td>Single</td>\n",
              "      <td>Illinois</td>\n",
              "      <td>Basic</td>\n",
              "      <td>Employees</td>\n",
              "      <td>Card</td>\n",
              "      <td>1.0</td>\n",
              "      <td>2996.82</td>\n",
              "    </tr>\n",
              "    <tr>\n",
              "      <th>...</th>\n",
              "      <td>...</td>\n",
              "      <td>...</td>\n",
              "      <td>...</td>\n",
              "      <td>...</td>\n",
              "      <td>...</td>\n",
              "      <td>...</td>\n",
              "      <td>...</td>\n",
              "      <td>...</td>\n",
              "      <td>...</td>\n",
              "      <td>...</td>\n",
              "      <td>...</td>\n",
              "    </tr>\n",
              "    <tr>\n",
              "      <th>860</th>\n",
              "      <td>2019-10-10</td>\n",
              "      <td>152048</td>\n",
              "      <td>Man</td>\n",
              "      <td>26.0</td>\n",
              "      <td>Single</td>\n",
              "      <td>Maryland</td>\n",
              "      <td>Silver</td>\n",
              "      <td>Unemployment</td>\n",
              "      <td>PayPal</td>\n",
              "      <td>1.0</td>\n",
              "      <td>5.55</td>\n",
              "    </tr>\n",
              "    <tr>\n",
              "      <th>962</th>\n",
              "      <td>2019-11-13</td>\n",
              "      <td>152150</td>\n",
              "      <td>Woman</td>\n",
              "      <td>56.0</td>\n",
              "      <td>Married</td>\n",
              "      <td>Nevada</td>\n",
              "      <td>Basic</td>\n",
              "      <td>workers</td>\n",
              "      <td>Other</td>\n",
              "      <td>1.0</td>\n",
              "      <td>5.31</td>\n",
              "    </tr>\n",
              "    <tr>\n",
              "      <th>2401</th>\n",
              "      <td>2021-03-25</td>\n",
              "      <td>153589</td>\n",
              "      <td>Woman</td>\n",
              "      <td>60.0</td>\n",
              "      <td>Single</td>\n",
              "      <td>Maryland</td>\n",
              "      <td>Silver</td>\n",
              "      <td>Employees</td>\n",
              "      <td>PayPal</td>\n",
              "      <td>1.0</td>\n",
              "      <td>2.84</td>\n",
              "    </tr>\n",
              "    <tr>\n",
              "      <th>568</th>\n",
              "      <td>2019-07-04</td>\n",
              "      <td>151756</td>\n",
              "      <td>Man</td>\n",
              "      <td>46.0</td>\n",
              "      <td>Single</td>\n",
              "      <td>South Carolina</td>\n",
              "      <td>Gold</td>\n",
              "      <td>workers</td>\n",
              "      <td>PayPal</td>\n",
              "      <td>0.0</td>\n",
              "      <td>2.16</td>\n",
              "    </tr>\n",
              "    <tr>\n",
              "      <th>2468</th>\n",
              "      <td>2021-04-18</td>\n",
              "      <td>153656</td>\n",
              "      <td>Woman</td>\n",
              "      <td>73.0</td>\n",
              "      <td>Married</td>\n",
              "      <td>Michigan</td>\n",
              "      <td>Gold</td>\n",
              "      <td>Employees</td>\n",
              "      <td>PayPal</td>\n",
              "      <td>1.0</td>\n",
              "      <td>2.09</td>\n",
              "    </tr>\n",
              "  </tbody>\n",
              "</table>\n",
              "<p>2512 rows × 11 columns</p>\n",
              "</div>"
            ],
            "text/plain": [
              "           Date  Transaction_ID    Sex   Age Marital_status     State_names  \\\n",
              "17   2019-01-07          151217  Woman  77.0        Married      New Mexico   \n",
              "485  2019-06-07          151673    Man  65.0        Married         Arizona   \n",
              "2279 2021-02-15          153467  Woman  78.0         Single         Arizona   \n",
              "589  2019-07-13          151777    Man  51.0         Single  North Carolina   \n",
              "743  2019-08-30          151931    Man  44.0         Single        Illinois   \n",
              "...         ...             ...    ...   ...            ...             ...   \n",
              "860  2019-10-10          152048    Man  26.0         Single        Maryland   \n",
              "962  2019-11-13          152150  Woman  56.0        Married          Nevada   \n",
              "2401 2021-03-25          153589  Woman  60.0         Single        Maryland   \n",
              "568  2019-07-04          151756    Man  46.0         Single  South Carolina   \n",
              "2468 2021-04-18          153656  Woman  73.0        Married        Michigan   \n",
              "\n",
              "       Segment Employees_status Payment_method  Referal  Amount_spent  \n",
              "17    Platinum          workers           Card      0.0       2999.98  \n",
              "485       Gold    self-employed         PayPal      1.0       2998.62  \n",
              "2279    Silver        Employees         PayPal      1.0       2997.21  \n",
              "589    Missing        Employees         PayPal      1.0       2997.15  \n",
              "743      Basic        Employees           Card      1.0       2996.82  \n",
              "...        ...              ...            ...      ...           ...  \n",
              "860     Silver     Unemployment         PayPal      1.0          5.55  \n",
              "962      Basic          workers          Other      1.0          5.31  \n",
              "2401    Silver        Employees         PayPal      1.0          2.84  \n",
              "568       Gold          workers         PayPal      0.0          2.16  \n",
              "2468      Gold        Employees         PayPal      1.0          2.09  \n",
              "\n",
              "[2512 rows x 11 columns]"
            ]
          },
          "execution_count": 61,
          "metadata": {},
          "output_type": "execute_result"
        }
      ],
      "source": [
        "# Sort Values Amount_spent with descending order\n",
        "df_col.sort_values(by= 'Amount_spent', ascending= False)"
      ]
    },
    {
      "cell_type": "markdown",
      "id": "TGbW_Qtmn1C2",
      "metadata": {
        "id": "TGbW_Qtmn1C2"
      },
      "source": [
        "Alternatively, We can use `nlargest()` and `nsmallest()` functions for displaying largest and smallest values with desired numbers. for example, If we want to display 4 largest Amount_spent rows then we use this:"
      ]
    },
    {
      "cell_type": "code",
      "execution_count": 63,
      "id": "37456705",
      "metadata": {},
      "outputs": [
        {
          "data": {
            "application/vnd.microsoft.datawrangler.viewer.v0+json": {
              "columns": [
                {
                  "name": "index",
                  "rawType": "int64",
                  "type": "integer"
                },
                {
                  "name": "Date",
                  "rawType": "datetime64[ns]",
                  "type": "datetime"
                },
                {
                  "name": "Transaction_ID",
                  "rawType": "int64",
                  "type": "integer"
                },
                {
                  "name": "Sex",
                  "rawType": "object",
                  "type": "string"
                },
                {
                  "name": "Age",
                  "rawType": "float64",
                  "type": "float"
                },
                {
                  "name": "Marital_status",
                  "rawType": "object",
                  "type": "string"
                },
                {
                  "name": "State_names",
                  "rawType": "object",
                  "type": "string"
                },
                {
                  "name": "Segment",
                  "rawType": "object",
                  "type": "string"
                },
                {
                  "name": "Employees_status",
                  "rawType": "object",
                  "type": "string"
                },
                {
                  "name": "Payment_method",
                  "rawType": "object",
                  "type": "string"
                },
                {
                  "name": "Referal",
                  "rawType": "float32",
                  "type": "float"
                },
                {
                  "name": "Amount_spent",
                  "rawType": "float64",
                  "type": "float"
                }
              ],
              "conversionMethod": "pd.DataFrame",
              "ref": "9a50b5ec-c932-4ba8-912c-48aba7ae0da6",
              "rows": [
                [
                  "17",
                  "2019-01-07 00:00:00",
                  "151217",
                  "Woman",
                  "77.0",
                  "Married",
                  "New Mexico",
                  "Platinum",
                  "workers",
                  "Card",
                  "0.0",
                  "2999.98"
                ],
                [
                  "485",
                  "2019-06-07 00:00:00",
                  "151673",
                  "Man",
                  "65.0",
                  "Married",
                  "Arizona",
                  "Gold",
                  "self-employed",
                  "PayPal",
                  "1.0",
                  "2998.62"
                ],
                [
                  "2279",
                  "2021-02-15 00:00:00",
                  "153467",
                  "Woman",
                  "78.0",
                  "Single",
                  "Arizona",
                  "Silver",
                  "Employees",
                  "PayPal",
                  "1.0",
                  "2997.21"
                ],
                [
                  "589",
                  "2019-07-13 00:00:00",
                  "151777",
                  "Man",
                  "51.0",
                  "Single",
                  "North Carolina",
                  "Missing",
                  "Employees",
                  "PayPal",
                  "1.0",
                  "2997.15"
                ]
              ],
              "shape": {
                "columns": 11,
                "rows": 4
              }
            },
            "text/html": [
              "<div>\n",
              "<style scoped>\n",
              "    .dataframe tbody tr th:only-of-type {\n",
              "        vertical-align: middle;\n",
              "    }\n",
              "\n",
              "    .dataframe tbody tr th {\n",
              "        vertical-align: top;\n",
              "    }\n",
              "\n",
              "    .dataframe thead th {\n",
              "        text-align: right;\n",
              "    }\n",
              "</style>\n",
              "<table border=\"1\" class=\"dataframe\">\n",
              "  <thead>\n",
              "    <tr style=\"text-align: right;\">\n",
              "      <th></th>\n",
              "      <th>Date</th>\n",
              "      <th>Transaction_ID</th>\n",
              "      <th>Sex</th>\n",
              "      <th>Age</th>\n",
              "      <th>Marital_status</th>\n",
              "      <th>State_names</th>\n",
              "      <th>Segment</th>\n",
              "      <th>Employees_status</th>\n",
              "      <th>Payment_method</th>\n",
              "      <th>Referal</th>\n",
              "      <th>Amount_spent</th>\n",
              "    </tr>\n",
              "  </thead>\n",
              "  <tbody>\n",
              "    <tr>\n",
              "      <th>17</th>\n",
              "      <td>2019-01-07</td>\n",
              "      <td>151217</td>\n",
              "      <td>Woman</td>\n",
              "      <td>77.0</td>\n",
              "      <td>Married</td>\n",
              "      <td>New Mexico</td>\n",
              "      <td>Platinum</td>\n",
              "      <td>workers</td>\n",
              "      <td>Card</td>\n",
              "      <td>0.0</td>\n",
              "      <td>2999.98</td>\n",
              "    </tr>\n",
              "    <tr>\n",
              "      <th>485</th>\n",
              "      <td>2019-06-07</td>\n",
              "      <td>151673</td>\n",
              "      <td>Man</td>\n",
              "      <td>65.0</td>\n",
              "      <td>Married</td>\n",
              "      <td>Arizona</td>\n",
              "      <td>Gold</td>\n",
              "      <td>self-employed</td>\n",
              "      <td>PayPal</td>\n",
              "      <td>1.0</td>\n",
              "      <td>2998.62</td>\n",
              "    </tr>\n",
              "    <tr>\n",
              "      <th>2279</th>\n",
              "      <td>2021-02-15</td>\n",
              "      <td>153467</td>\n",
              "      <td>Woman</td>\n",
              "      <td>78.0</td>\n",
              "      <td>Single</td>\n",
              "      <td>Arizona</td>\n",
              "      <td>Silver</td>\n",
              "      <td>Employees</td>\n",
              "      <td>PayPal</td>\n",
              "      <td>1.0</td>\n",
              "      <td>2997.21</td>\n",
              "    </tr>\n",
              "    <tr>\n",
              "      <th>589</th>\n",
              "      <td>2019-07-13</td>\n",
              "      <td>151777</td>\n",
              "      <td>Man</td>\n",
              "      <td>51.0</td>\n",
              "      <td>Single</td>\n",
              "      <td>North Carolina</td>\n",
              "      <td>Missing</td>\n",
              "      <td>Employees</td>\n",
              "      <td>PayPal</td>\n",
              "      <td>1.0</td>\n",
              "      <td>2997.15</td>\n",
              "    </tr>\n",
              "  </tbody>\n",
              "</table>\n",
              "</div>"
            ],
            "text/plain": [
              "           Date  Transaction_ID    Sex   Age Marital_status     State_names  \\\n",
              "17   2019-01-07          151217  Woman  77.0        Married      New Mexico   \n",
              "485  2019-06-07          151673    Man  65.0        Married         Arizona   \n",
              "2279 2021-02-15          153467  Woman  78.0         Single         Arizona   \n",
              "589  2019-07-13          151777    Man  51.0         Single  North Carolina   \n",
              "\n",
              "       Segment Employees_status Payment_method  Referal  Amount_spent  \n",
              "17    Platinum          workers           Card      0.0       2999.98  \n",
              "485       Gold    self-employed         PayPal      1.0       2998.62  \n",
              "2279    Silver        Employees         PayPal      1.0       2997.21  \n",
              "589    Missing        Employees         PayPal      1.0       2997.15  "
            ]
          },
          "execution_count": 63,
          "metadata": {},
          "output_type": "execute_result"
        }
      ],
      "source": [
        "df_col.nlargest(n=4, columns = 'Amount_spent')"
      ]
    },
    {
      "cell_type": "markdown",
      "id": "T0YVV84jrCXX",
      "metadata": {
        "id": "T0YVV84jrCXX"
      },
      "source": [
        "For 3 smallest Amount_spent rows"
      ]
    },
    {
      "cell_type": "code",
      "execution_count": 64,
      "id": "50bd6d00",
      "metadata": {},
      "outputs": [
        {
          "data": {
            "application/vnd.microsoft.datawrangler.viewer.v0+json": {
              "columns": [
                {
                  "name": "index",
                  "rawType": "int64",
                  "type": "integer"
                },
                {
                  "name": "Date",
                  "rawType": "datetime64[ns]",
                  "type": "datetime"
                },
                {
                  "name": "Transaction_ID",
                  "rawType": "int64",
                  "type": "integer"
                },
                {
                  "name": "Sex",
                  "rawType": "object",
                  "type": "string"
                },
                {
                  "name": "Age",
                  "rawType": "float64",
                  "type": "float"
                },
                {
                  "name": "Marital_status",
                  "rawType": "object",
                  "type": "string"
                },
                {
                  "name": "State_names",
                  "rawType": "object",
                  "type": "string"
                },
                {
                  "name": "Segment",
                  "rawType": "object",
                  "type": "string"
                },
                {
                  "name": "Employees_status",
                  "rawType": "object",
                  "type": "string"
                },
                {
                  "name": "Payment_method",
                  "rawType": "object",
                  "type": "string"
                },
                {
                  "name": "Referal",
                  "rawType": "float32",
                  "type": "float"
                },
                {
                  "name": "Amount_spent",
                  "rawType": "float64",
                  "type": "float"
                }
              ],
              "conversionMethod": "pd.DataFrame",
              "ref": "248c6789-10ee-4b2d-bc3a-1ed6b3006340",
              "rows": [
                [
                  "2468",
                  "2021-04-18 00:00:00",
                  "153656",
                  "Woman",
                  "73.0",
                  "Married",
                  "Michigan",
                  "Gold",
                  "Employees",
                  "PayPal",
                  "1.0",
                  "2.09"
                ],
                [
                  "568",
                  "2019-07-04 00:00:00",
                  "151756",
                  "Man",
                  "46.0",
                  "Single",
                  "South Carolina",
                  "Gold",
                  "workers",
                  "PayPal",
                  "0.0",
                  "2.16"
                ],
                [
                  "2401",
                  "2021-03-25 00:00:00",
                  "153589",
                  "Woman",
                  "60.0",
                  "Single",
                  "Maryland",
                  "Silver",
                  "Employees",
                  "PayPal",
                  "1.0",
                  "2.84"
                ]
              ],
              "shape": {
                "columns": 11,
                "rows": 3
              }
            },
            "text/html": [
              "<div>\n",
              "<style scoped>\n",
              "    .dataframe tbody tr th:only-of-type {\n",
              "        vertical-align: middle;\n",
              "    }\n",
              "\n",
              "    .dataframe tbody tr th {\n",
              "        vertical-align: top;\n",
              "    }\n",
              "\n",
              "    .dataframe thead th {\n",
              "        text-align: right;\n",
              "    }\n",
              "</style>\n",
              "<table border=\"1\" class=\"dataframe\">\n",
              "  <thead>\n",
              "    <tr style=\"text-align: right;\">\n",
              "      <th></th>\n",
              "      <th>Date</th>\n",
              "      <th>Transaction_ID</th>\n",
              "      <th>Sex</th>\n",
              "      <th>Age</th>\n",
              "      <th>Marital_status</th>\n",
              "      <th>State_names</th>\n",
              "      <th>Segment</th>\n",
              "      <th>Employees_status</th>\n",
              "      <th>Payment_method</th>\n",
              "      <th>Referal</th>\n",
              "      <th>Amount_spent</th>\n",
              "    </tr>\n",
              "  </thead>\n",
              "  <tbody>\n",
              "    <tr>\n",
              "      <th>2468</th>\n",
              "      <td>2021-04-18</td>\n",
              "      <td>153656</td>\n",
              "      <td>Woman</td>\n",
              "      <td>73.0</td>\n",
              "      <td>Married</td>\n",
              "      <td>Michigan</td>\n",
              "      <td>Gold</td>\n",
              "      <td>Employees</td>\n",
              "      <td>PayPal</td>\n",
              "      <td>1.0</td>\n",
              "      <td>2.09</td>\n",
              "    </tr>\n",
              "    <tr>\n",
              "      <th>568</th>\n",
              "      <td>2019-07-04</td>\n",
              "      <td>151756</td>\n",
              "      <td>Man</td>\n",
              "      <td>46.0</td>\n",
              "      <td>Single</td>\n",
              "      <td>South Carolina</td>\n",
              "      <td>Gold</td>\n",
              "      <td>workers</td>\n",
              "      <td>PayPal</td>\n",
              "      <td>0.0</td>\n",
              "      <td>2.16</td>\n",
              "    </tr>\n",
              "    <tr>\n",
              "      <th>2401</th>\n",
              "      <td>2021-03-25</td>\n",
              "      <td>153589</td>\n",
              "      <td>Woman</td>\n",
              "      <td>60.0</td>\n",
              "      <td>Single</td>\n",
              "      <td>Maryland</td>\n",
              "      <td>Silver</td>\n",
              "      <td>Employees</td>\n",
              "      <td>PayPal</td>\n",
              "      <td>1.0</td>\n",
              "      <td>2.84</td>\n",
              "    </tr>\n",
              "  </tbody>\n",
              "</table>\n",
              "</div>"
            ],
            "text/plain": [
              "           Date  Transaction_ID    Sex   Age Marital_status     State_names  \\\n",
              "2468 2021-04-18          153656  Woman  73.0        Married        Michigan   \n",
              "568  2019-07-04          151756    Man  46.0         Single  South Carolina   \n",
              "2401 2021-03-25          153589  Woman  60.0         Single        Maryland   \n",
              "\n",
              "     Segment Employees_status Payment_method  Referal  Amount_spent  \n",
              "2468    Gold        Employees         PayPal      1.0          2.09  \n",
              "568     Gold          workers         PayPal      0.0          2.16  \n",
              "2401  Silver        Employees         PayPal      1.0          2.84  "
            ]
          },
          "execution_count": 64,
          "metadata": {},
          "output_type": "execute_result"
        }
      ],
      "source": [
        "df_col.nsmallest(n=3, columns='Amount_spent')"
      ]
    },
    {
      "cell_type": "markdown",
      "id": "LV6wnCzjwgfv",
      "metadata": {
        "id": "LV6wnCzjwgfv"
      },
      "source": [
        "#### Conditional queries on Data"
      ]
    },
    {
      "cell_type": "code",
      "execution_count": 65,
      "id": "9998e789",
      "metadata": {
        "colab": {
          "base_uri": "https://localhost:8080/",
          "height": 239
        },
        "id": "9998e789",
        "outputId": "c6cf03aa-3860-443e-fef7-9701c3be864e"
      },
      "outputs": [
        {
          "data": {
            "application/vnd.microsoft.datawrangler.viewer.v0+json": {
              "columns": [
                {
                  "name": "index",
                  "rawType": "int64",
                  "type": "integer"
                },
                {
                  "name": "Date",
                  "rawType": "datetime64[ns]",
                  "type": "datetime"
                },
                {
                  "name": "Transaction_ID",
                  "rawType": "int64",
                  "type": "integer"
                },
                {
                  "name": "Sex",
                  "rawType": "object",
                  "type": "string"
                },
                {
                  "name": "Age",
                  "rawType": "float64",
                  "type": "float"
                },
                {
                  "name": "Marital_status",
                  "rawType": "object",
                  "type": "string"
                },
                {
                  "name": "State_names",
                  "rawType": "object",
                  "type": "string"
                },
                {
                  "name": "Segment",
                  "rawType": "object",
                  "type": "string"
                },
                {
                  "name": "Employees_status",
                  "rawType": "object",
                  "type": "string"
                },
                {
                  "name": "Payment_method",
                  "rawType": "object",
                  "type": "string"
                },
                {
                  "name": "Referal",
                  "rawType": "float32",
                  "type": "float"
                },
                {
                  "name": "Amount_spent",
                  "rawType": "float64",
                  "type": "float"
                }
              ],
              "conversionMethod": "pd.DataFrame",
              "ref": "7a601f96-80ea-4e9e-ae71-8e9ce8e3219c",
              "rows": [
                [
                  "2",
                  "2019-01-01 00:00:00",
                  "151202",
                  "Man",
                  "63.0",
                  "Married",
                  "New Mexico",
                  "Basic",
                  "workers",
                  "PayPal",
                  "1.0",
                  "1572.6"
                ],
                [
                  "5",
                  "2019-01-03 00:00:00",
                  "151205",
                  "Man",
                  "71.0",
                  "Single",
                  "Hawaii",
                  "Basic",
                  "Employees",
                  "PayPal",
                  "1.0",
                  "2922.66"
                ],
                [
                  "6",
                  "2019-01-03 00:00:00",
                  "151206",
                  "Woman",
                  "34.0",
                  "Married",
                  "New Mexico",
                  "Platinum",
                  "Employees",
                  "PayPal",
                  "1.0",
                  "1481.42"
                ],
                [
                  "7",
                  "2019-01-03 00:00:00",
                  "151207",
                  "Man",
                  "37.0",
                  "Married",
                  "Connecticut",
                  "Basic",
                  "workers",
                  "PayPal",
                  "1.0",
                  "1149.55"
                ]
              ],
              "shape": {
                "columns": 11,
                "rows": 4
              }
            },
            "text/html": [
              "<div>\n",
              "<style scoped>\n",
              "    .dataframe tbody tr th:only-of-type {\n",
              "        vertical-align: middle;\n",
              "    }\n",
              "\n",
              "    .dataframe tbody tr th {\n",
              "        vertical-align: top;\n",
              "    }\n",
              "\n",
              "    .dataframe thead th {\n",
              "        text-align: right;\n",
              "    }\n",
              "</style>\n",
              "<table border=\"1\" class=\"dataframe\">\n",
              "  <thead>\n",
              "    <tr style=\"text-align: right;\">\n",
              "      <th></th>\n",
              "      <th>Date</th>\n",
              "      <th>Transaction_ID</th>\n",
              "      <th>Sex</th>\n",
              "      <th>Age</th>\n",
              "      <th>Marital_status</th>\n",
              "      <th>State_names</th>\n",
              "      <th>Segment</th>\n",
              "      <th>Employees_status</th>\n",
              "      <th>Payment_method</th>\n",
              "      <th>Referal</th>\n",
              "      <th>Amount_spent</th>\n",
              "    </tr>\n",
              "  </thead>\n",
              "  <tbody>\n",
              "    <tr>\n",
              "      <th>2</th>\n",
              "      <td>2019-01-01</td>\n",
              "      <td>151202</td>\n",
              "      <td>Man</td>\n",
              "      <td>63.0</td>\n",
              "      <td>Married</td>\n",
              "      <td>New Mexico</td>\n",
              "      <td>Basic</td>\n",
              "      <td>workers</td>\n",
              "      <td>PayPal</td>\n",
              "      <td>1.0</td>\n",
              "      <td>1572.60</td>\n",
              "    </tr>\n",
              "    <tr>\n",
              "      <th>5</th>\n",
              "      <td>2019-01-03</td>\n",
              "      <td>151205</td>\n",
              "      <td>Man</td>\n",
              "      <td>71.0</td>\n",
              "      <td>Single</td>\n",
              "      <td>Hawaii</td>\n",
              "      <td>Basic</td>\n",
              "      <td>Employees</td>\n",
              "      <td>PayPal</td>\n",
              "      <td>1.0</td>\n",
              "      <td>2922.66</td>\n",
              "    </tr>\n",
              "    <tr>\n",
              "      <th>6</th>\n",
              "      <td>2019-01-03</td>\n",
              "      <td>151206</td>\n",
              "      <td>Woman</td>\n",
              "      <td>34.0</td>\n",
              "      <td>Married</td>\n",
              "      <td>New Mexico</td>\n",
              "      <td>Platinum</td>\n",
              "      <td>Employees</td>\n",
              "      <td>PayPal</td>\n",
              "      <td>1.0</td>\n",
              "      <td>1481.42</td>\n",
              "    </tr>\n",
              "    <tr>\n",
              "      <th>7</th>\n",
              "      <td>2019-01-03</td>\n",
              "      <td>151207</td>\n",
              "      <td>Man</td>\n",
              "      <td>37.0</td>\n",
              "      <td>Married</td>\n",
              "      <td>Connecticut</td>\n",
              "      <td>Basic</td>\n",
              "      <td>workers</td>\n",
              "      <td>PayPal</td>\n",
              "      <td>1.0</td>\n",
              "      <td>1149.55</td>\n",
              "    </tr>\n",
              "  </tbody>\n",
              "</table>\n",
              "</div>"
            ],
            "text/plain": [
              "        Date  Transaction_ID    Sex   Age Marital_status  State_names  \\\n",
              "2 2019-01-01          151202    Man  63.0        Married   New Mexico   \n",
              "5 2019-01-03          151205    Man  71.0         Single       Hawaii   \n",
              "6 2019-01-03          151206  Woman  34.0        Married   New Mexico   \n",
              "7 2019-01-03          151207    Man  37.0        Married  Connecticut   \n",
              "\n",
              "    Segment Employees_status Payment_method  Referal  Amount_spent  \n",
              "2     Basic          workers         PayPal      1.0       1572.60  \n",
              "5     Basic        Employees         PayPal      1.0       2922.66  \n",
              "6  Platinum        Employees         PayPal      1.0       1481.42  \n",
              "7     Basic          workers         PayPal      1.0       1149.55  "
            ]
          },
          "execution_count": 65,
          "metadata": {},
          "output_type": "execute_result"
        }
      ],
      "source": [
        "# filtering - Only show Paypal users\n",
        "condition = df_col['Payment_method'] == \"PayPal\"\n",
        "df_col[condition].head(4)"
      ]
    },
    {
      "cell_type": "markdown",
      "id": "nSlQRRNrwn8S",
      "metadata": {
        "id": "nSlQRRNrwn8S"
      },
      "source": [
        "We can apply multiple conditional queries like before. For example, if we want to display all Married female people who lived in New York then we use the following:"
      ]
    },
    {
      "cell_type": "code",
      "execution_count": 68,
      "id": "YvIpSZM2xiD4",
      "metadata": {
        "colab": {
          "base_uri": "https://localhost:8080/",
          "height": 239
        },
        "id": "YvIpSZM2xiD4",
        "outputId": "90428598-504d-4a2d-8808-c0ea210c718e"
      },
      "outputs": [
        {
          "data": {
            "application/vnd.microsoft.datawrangler.viewer.v0+json": {
              "columns": [
                {
                  "name": "index",
                  "rawType": "int64",
                  "type": "integer"
                },
                {
                  "name": "Date",
                  "rawType": "datetime64[ns]",
                  "type": "datetime"
                },
                {
                  "name": "Transaction_ID",
                  "rawType": "int64",
                  "type": "integer"
                },
                {
                  "name": "Sex",
                  "rawType": "object",
                  "type": "string"
                },
                {
                  "name": "Age",
                  "rawType": "float64",
                  "type": "float"
                },
                {
                  "name": "Marital_status",
                  "rawType": "object",
                  "type": "string"
                },
                {
                  "name": "State_names",
                  "rawType": "object",
                  "type": "string"
                },
                {
                  "name": "Segment",
                  "rawType": "object",
                  "type": "string"
                },
                {
                  "name": "Employees_status",
                  "rawType": "object",
                  "type": "string"
                },
                {
                  "name": "Payment_method",
                  "rawType": "object",
                  "type": "string"
                },
                {
                  "name": "Referal",
                  "rawType": "float32",
                  "type": "float"
                },
                {
                  "name": "Amount_spent",
                  "rawType": "float64",
                  "type": "float"
                }
              ],
              "conversionMethod": "pd.DataFrame",
              "ref": "ecbad526-8151-487d-9e7c-f7169533c024",
              "rows": [
                [
                  "164",
                  "2019-03-01 00:00:00",
                  "151352",
                  "Woman",
                  "64.0",
                  "Married",
                  "New York",
                  "Basic",
                  "Employees",
                  "PayPal",
                  "1.0",
                  "1581.77"
                ],
                [
                  "180",
                  "2019-03-07 00:00:00",
                  "151368",
                  "Woman",
                  "20.0",
                  "Married",
                  "New York",
                  "Basic",
                  "workers",
                  "PayPal",
                  "1.0",
                  "2694.2"
                ],
                [
                  "254",
                  "2019-03-31 00:00:00",
                  "151442",
                  "Woman",
                  "78.0",
                  "Married",
                  "New York",
                  "Missing",
                  "Employees",
                  "PayPal",
                  "1.0",
                  "2959.54"
                ],
                [
                  "282",
                  "2019-04-08 00:00:00",
                  "151470",
                  "Woman",
                  "32.0",
                  "Married",
                  "New York",
                  "Gold",
                  "Unemployment",
                  "Other",
                  "1.0",
                  "522.24"
                ],
                [
                  "827",
                  "2019-09-30 00:00:00",
                  "152015",
                  "Woman",
                  "77.0",
                  "Married",
                  "New York",
                  "Platinum",
                  "workers",
                  "Card",
                  "1.0",
                  "1418.4225770925111"
                ],
                [
                  "978",
                  "2019-11-19 00:00:00",
                  "152166",
                  "Woman",
                  "19.0",
                  "Married",
                  "New York",
                  "Basic",
                  "Employees",
                  "Card",
                  "0.0",
                  "2473.87"
                ],
                [
                  "1011",
                  "2019-11-29 00:00:00",
                  "152199",
                  "Woman",
                  "18.0",
                  "Married",
                  "New York",
                  "Basic",
                  "self-employed",
                  "PayPal",
                  "1.0",
                  "1340.65"
                ],
                [
                  "1468",
                  "2020-05-07 00:00:00",
                  "152656",
                  "Woman",
                  "37.0",
                  "Married",
                  "New York",
                  "Basic",
                  "Employees",
                  "Card",
                  "0.0",
                  "2003.85"
                ],
                [
                  "1648",
                  "2020-07-09 00:00:00",
                  "152836",
                  "Woman",
                  "70.0",
                  "Married",
                  "New York",
                  "Basic",
                  "self-employed",
                  "PayPal",
                  "1.0",
                  "1631.46"
                ],
                [
                  "1654",
                  "2020-07-12 00:00:00",
                  "152842",
                  "Woman",
                  "32.0",
                  "Married",
                  "New York",
                  "Gold",
                  "Employees",
                  "PayPal",
                  "1.0",
                  "270.43"
                ],
                [
                  "1711",
                  "2020-08-04 00:00:00",
                  "152899",
                  "Woman",
                  "46.0",
                  "Married",
                  "New York",
                  "Platinum",
                  "Employees",
                  "Card",
                  "1.0",
                  "1418.4225770925111"
                ],
                [
                  "1846",
                  "2020-09-12 00:00:00",
                  "153034",
                  "Woman",
                  "57.0",
                  "Married",
                  "New York",
                  "Basic",
                  "workers",
                  "Card",
                  "0.0",
                  "1890.94"
                ],
                [
                  "2145",
                  "2020-12-27 00:00:00",
                  "153333",
                  "Woman",
                  "31.0",
                  "Married",
                  "New York",
                  "Silver",
                  "Employees",
                  "Other",
                  "1.0",
                  "191.21"
                ],
                [
                  "2192",
                  "2021-01-13 00:00:00",
                  "153380",
                  "Woman",
                  "77.0",
                  "Married",
                  "New York",
                  "Basic",
                  "Unemployment",
                  "PayPal",
                  "1.0",
                  "388.48"
                ],
                [
                  "2456",
                  "2021-04-14 00:00:00",
                  "153644",
                  "Woman",
                  "30.0",
                  "Married",
                  "New York",
                  "Basic",
                  "Employees",
                  "Other",
                  "0.0",
                  "666.29"
                ]
              ],
              "shape": {
                "columns": 11,
                "rows": 15
              }
            },
            "text/html": [
              "<div>\n",
              "<style scoped>\n",
              "    .dataframe tbody tr th:only-of-type {\n",
              "        vertical-align: middle;\n",
              "    }\n",
              "\n",
              "    .dataframe tbody tr th {\n",
              "        vertical-align: top;\n",
              "    }\n",
              "\n",
              "    .dataframe thead th {\n",
              "        text-align: right;\n",
              "    }\n",
              "</style>\n",
              "<table border=\"1\" class=\"dataframe\">\n",
              "  <thead>\n",
              "    <tr style=\"text-align: right;\">\n",
              "      <th></th>\n",
              "      <th>Date</th>\n",
              "      <th>Transaction_ID</th>\n",
              "      <th>Sex</th>\n",
              "      <th>Age</th>\n",
              "      <th>Marital_status</th>\n",
              "      <th>State_names</th>\n",
              "      <th>Segment</th>\n",
              "      <th>Employees_status</th>\n",
              "      <th>Payment_method</th>\n",
              "      <th>Referal</th>\n",
              "      <th>Amount_spent</th>\n",
              "    </tr>\n",
              "  </thead>\n",
              "  <tbody>\n",
              "    <tr>\n",
              "      <th>164</th>\n",
              "      <td>2019-03-01</td>\n",
              "      <td>151352</td>\n",
              "      <td>Woman</td>\n",
              "      <td>64.0</td>\n",
              "      <td>Married</td>\n",
              "      <td>New York</td>\n",
              "      <td>Basic</td>\n",
              "      <td>Employees</td>\n",
              "      <td>PayPal</td>\n",
              "      <td>1.0</td>\n",
              "      <td>1581.770000</td>\n",
              "    </tr>\n",
              "    <tr>\n",
              "      <th>180</th>\n",
              "      <td>2019-03-07</td>\n",
              "      <td>151368</td>\n",
              "      <td>Woman</td>\n",
              "      <td>20.0</td>\n",
              "      <td>Married</td>\n",
              "      <td>New York</td>\n",
              "      <td>Basic</td>\n",
              "      <td>workers</td>\n",
              "      <td>PayPal</td>\n",
              "      <td>1.0</td>\n",
              "      <td>2694.200000</td>\n",
              "    </tr>\n",
              "    <tr>\n",
              "      <th>254</th>\n",
              "      <td>2019-03-31</td>\n",
              "      <td>151442</td>\n",
              "      <td>Woman</td>\n",
              "      <td>78.0</td>\n",
              "      <td>Married</td>\n",
              "      <td>New York</td>\n",
              "      <td>Missing</td>\n",
              "      <td>Employees</td>\n",
              "      <td>PayPal</td>\n",
              "      <td>1.0</td>\n",
              "      <td>2959.540000</td>\n",
              "    </tr>\n",
              "    <tr>\n",
              "      <th>282</th>\n",
              "      <td>2019-04-08</td>\n",
              "      <td>151470</td>\n",
              "      <td>Woman</td>\n",
              "      <td>32.0</td>\n",
              "      <td>Married</td>\n",
              "      <td>New York</td>\n",
              "      <td>Gold</td>\n",
              "      <td>Unemployment</td>\n",
              "      <td>Other</td>\n",
              "      <td>1.0</td>\n",
              "      <td>522.240000</td>\n",
              "    </tr>\n",
              "    <tr>\n",
              "      <th>827</th>\n",
              "      <td>2019-09-30</td>\n",
              "      <td>152015</td>\n",
              "      <td>Woman</td>\n",
              "      <td>77.0</td>\n",
              "      <td>Married</td>\n",
              "      <td>New York</td>\n",
              "      <td>Platinum</td>\n",
              "      <td>workers</td>\n",
              "      <td>Card</td>\n",
              "      <td>1.0</td>\n",
              "      <td>1418.422577</td>\n",
              "    </tr>\n",
              "    <tr>\n",
              "      <th>978</th>\n",
              "      <td>2019-11-19</td>\n",
              "      <td>152166</td>\n",
              "      <td>Woman</td>\n",
              "      <td>19.0</td>\n",
              "      <td>Married</td>\n",
              "      <td>New York</td>\n",
              "      <td>Basic</td>\n",
              "      <td>Employees</td>\n",
              "      <td>Card</td>\n",
              "      <td>0.0</td>\n",
              "      <td>2473.870000</td>\n",
              "    </tr>\n",
              "    <tr>\n",
              "      <th>1011</th>\n",
              "      <td>2019-11-29</td>\n",
              "      <td>152199</td>\n",
              "      <td>Woman</td>\n",
              "      <td>18.0</td>\n",
              "      <td>Married</td>\n",
              "      <td>New York</td>\n",
              "      <td>Basic</td>\n",
              "      <td>self-employed</td>\n",
              "      <td>PayPal</td>\n",
              "      <td>1.0</td>\n",
              "      <td>1340.650000</td>\n",
              "    </tr>\n",
              "    <tr>\n",
              "      <th>1468</th>\n",
              "      <td>2020-05-07</td>\n",
              "      <td>152656</td>\n",
              "      <td>Woman</td>\n",
              "      <td>37.0</td>\n",
              "      <td>Married</td>\n",
              "      <td>New York</td>\n",
              "      <td>Basic</td>\n",
              "      <td>Employees</td>\n",
              "      <td>Card</td>\n",
              "      <td>0.0</td>\n",
              "      <td>2003.850000</td>\n",
              "    </tr>\n",
              "    <tr>\n",
              "      <th>1648</th>\n",
              "      <td>2020-07-09</td>\n",
              "      <td>152836</td>\n",
              "      <td>Woman</td>\n",
              "      <td>70.0</td>\n",
              "      <td>Married</td>\n",
              "      <td>New York</td>\n",
              "      <td>Basic</td>\n",
              "      <td>self-employed</td>\n",
              "      <td>PayPal</td>\n",
              "      <td>1.0</td>\n",
              "      <td>1631.460000</td>\n",
              "    </tr>\n",
              "    <tr>\n",
              "      <th>1654</th>\n",
              "      <td>2020-07-12</td>\n",
              "      <td>152842</td>\n",
              "      <td>Woman</td>\n",
              "      <td>32.0</td>\n",
              "      <td>Married</td>\n",
              "      <td>New York</td>\n",
              "      <td>Gold</td>\n",
              "      <td>Employees</td>\n",
              "      <td>PayPal</td>\n",
              "      <td>1.0</td>\n",
              "      <td>270.430000</td>\n",
              "    </tr>\n",
              "    <tr>\n",
              "      <th>1711</th>\n",
              "      <td>2020-08-04</td>\n",
              "      <td>152899</td>\n",
              "      <td>Woman</td>\n",
              "      <td>46.0</td>\n",
              "      <td>Married</td>\n",
              "      <td>New York</td>\n",
              "      <td>Platinum</td>\n",
              "      <td>Employees</td>\n",
              "      <td>Card</td>\n",
              "      <td>1.0</td>\n",
              "      <td>1418.422577</td>\n",
              "    </tr>\n",
              "    <tr>\n",
              "      <th>1846</th>\n",
              "      <td>2020-09-12</td>\n",
              "      <td>153034</td>\n",
              "      <td>Woman</td>\n",
              "      <td>57.0</td>\n",
              "      <td>Married</td>\n",
              "      <td>New York</td>\n",
              "      <td>Basic</td>\n",
              "      <td>workers</td>\n",
              "      <td>Card</td>\n",
              "      <td>0.0</td>\n",
              "      <td>1890.940000</td>\n",
              "    </tr>\n",
              "    <tr>\n",
              "      <th>2145</th>\n",
              "      <td>2020-12-27</td>\n",
              "      <td>153333</td>\n",
              "      <td>Woman</td>\n",
              "      <td>31.0</td>\n",
              "      <td>Married</td>\n",
              "      <td>New York</td>\n",
              "      <td>Silver</td>\n",
              "      <td>Employees</td>\n",
              "      <td>Other</td>\n",
              "      <td>1.0</td>\n",
              "      <td>191.210000</td>\n",
              "    </tr>\n",
              "    <tr>\n",
              "      <th>2192</th>\n",
              "      <td>2021-01-13</td>\n",
              "      <td>153380</td>\n",
              "      <td>Woman</td>\n",
              "      <td>77.0</td>\n",
              "      <td>Married</td>\n",
              "      <td>New York</td>\n",
              "      <td>Basic</td>\n",
              "      <td>Unemployment</td>\n",
              "      <td>PayPal</td>\n",
              "      <td>1.0</td>\n",
              "      <td>388.480000</td>\n",
              "    </tr>\n",
              "    <tr>\n",
              "      <th>2456</th>\n",
              "      <td>2021-04-14</td>\n",
              "      <td>153644</td>\n",
              "      <td>Woman</td>\n",
              "      <td>30.0</td>\n",
              "      <td>Married</td>\n",
              "      <td>New York</td>\n",
              "      <td>Basic</td>\n",
              "      <td>Employees</td>\n",
              "      <td>Other</td>\n",
              "      <td>0.0</td>\n",
              "      <td>666.290000</td>\n",
              "    </tr>\n",
              "  </tbody>\n",
              "</table>\n",
              "</div>"
            ],
            "text/plain": [
              "           Date  Transaction_ID    Sex   Age Marital_status State_names  \\\n",
              "164  2019-03-01          151352  Woman  64.0        Married    New York   \n",
              "180  2019-03-07          151368  Woman  20.0        Married    New York   \n",
              "254  2019-03-31          151442  Woman  78.0        Married    New York   \n",
              "282  2019-04-08          151470  Woman  32.0        Married    New York   \n",
              "827  2019-09-30          152015  Woman  77.0        Married    New York   \n",
              "978  2019-11-19          152166  Woman  19.0        Married    New York   \n",
              "1011 2019-11-29          152199  Woman  18.0        Married    New York   \n",
              "1468 2020-05-07          152656  Woman  37.0        Married    New York   \n",
              "1648 2020-07-09          152836  Woman  70.0        Married    New York   \n",
              "1654 2020-07-12          152842  Woman  32.0        Married    New York   \n",
              "1711 2020-08-04          152899  Woman  46.0        Married    New York   \n",
              "1846 2020-09-12          153034  Woman  57.0        Married    New York   \n",
              "2145 2020-12-27          153333  Woman  31.0        Married    New York   \n",
              "2192 2021-01-13          153380  Woman  77.0        Married    New York   \n",
              "2456 2021-04-14          153644  Woman  30.0        Married    New York   \n",
              "\n",
              "       Segment Employees_status Payment_method  Referal  Amount_spent  \n",
              "164      Basic        Employees         PayPal      1.0   1581.770000  \n",
              "180      Basic          workers         PayPal      1.0   2694.200000  \n",
              "254    Missing        Employees         PayPal      1.0   2959.540000  \n",
              "282       Gold     Unemployment          Other      1.0    522.240000  \n",
              "827   Platinum          workers           Card      1.0   1418.422577  \n",
              "978      Basic        Employees           Card      0.0   2473.870000  \n",
              "1011     Basic    self-employed         PayPal      1.0   1340.650000  \n",
              "1468     Basic        Employees           Card      0.0   2003.850000  \n",
              "1648     Basic    self-employed         PayPal      1.0   1631.460000  \n",
              "1654      Gold        Employees         PayPal      1.0    270.430000  \n",
              "1711  Platinum        Employees           Card      1.0   1418.422577  \n",
              "1846     Basic          workers           Card      0.0   1890.940000  \n",
              "2145    Silver        Employees          Other      1.0    191.210000  \n",
              "2192     Basic     Unemployment         PayPal      1.0    388.480000  \n",
              "2456     Basic        Employees          Other      0.0    666.290000  "
            ]
          },
          "execution_count": 68,
          "metadata": {},
          "output_type": "execute_result"
        }
      ],
      "source": [
        "# first create 3 condition\n",
        "female_person = df_col['Sex'] == \"Woman\"\n",
        "married_person = df_col['Marital_status'] == \"Married\"\n",
        "loc_newyork = df_col['State_names'] == \"New York\"\n",
        "\n",
        "# we passing condition on our dataframe\n",
        "df_col[female_person & married_person & loc_newyork]"
      ]
    },
    {
      "cell_type": "markdown",
      "id": "x0r-TXU244iu",
      "metadata": {
        "id": "x0r-TXU244iu"
      },
      "source": [
        "### 5.3 Summarizing or grouping data"
      ]
    },
    {
      "cell_type": "markdown",
      "id": "NtTwyDD77VG0",
      "metadata": {
        "id": "NtTwyDD77VG0"
      },
      "source": [
        "#### Groupby\n"
      ]
    },
    {
      "cell_type": "markdown",
      "id": "2o84INb7AsFp",
      "metadata": {
        "id": "2o84INb7AsFp"
      },
      "source": [
        "**Grouping by one column:** For example, if we want to find `maximum` values of `Age` and `Amount_spent` by `Gender` then we can use this:"
      ]
    },
    {
      "cell_type": "code",
      "execution_count": 77,
      "id": "71dd55fd",
      "metadata": {},
      "outputs": [],
      "source": [
        "df_col['Sex'].isna().sum()\n",
        "df_col.fillna(\"Unknow\", inplace= True)"
      ]
    },
    {
      "cell_type": "code",
      "execution_count": 79,
      "id": "ffd0724f",
      "metadata": {},
      "outputs": [
        {
          "data": {
            "application/vnd.microsoft.datawrangler.viewer.v0+json": {
              "columns": [
                {
                  "name": "Sex",
                  "rawType": "object",
                  "type": "string"
                },
                {
                  "name": "Age",
                  "rawType": "float64",
                  "type": "float"
                },
                {
                  "name": "Amount_spent",
                  "rawType": "float64",
                  "type": "float"
                }
              ],
              "conversionMethod": "pd.DataFrame",
              "ref": "d2df3889-20aa-45b4-9291-cd072b597108",
              "rows": [
                [
                  "Man",
                  "78.0",
                  "2998.62"
                ],
                [
                  "Unknow",
                  "72.0",
                  "2909.85"
                ],
                [
                  "Woman",
                  "78.0",
                  "2999.98"
                ]
              ],
              "shape": {
                "columns": 2,
                "rows": 3
              }
            },
            "text/html": [
              "<div>\n",
              "<style scoped>\n",
              "    .dataframe tbody tr th:only-of-type {\n",
              "        vertical-align: middle;\n",
              "    }\n",
              "\n",
              "    .dataframe tbody tr th {\n",
              "        vertical-align: top;\n",
              "    }\n",
              "\n",
              "    .dataframe thead th {\n",
              "        text-align: right;\n",
              "    }\n",
              "</style>\n",
              "<table border=\"1\" class=\"dataframe\">\n",
              "  <thead>\n",
              "    <tr style=\"text-align: right;\">\n",
              "      <th></th>\n",
              "      <th>Age</th>\n",
              "      <th>Amount_spent</th>\n",
              "    </tr>\n",
              "    <tr>\n",
              "      <th>Sex</th>\n",
              "      <th></th>\n",
              "      <th></th>\n",
              "    </tr>\n",
              "  </thead>\n",
              "  <tbody>\n",
              "    <tr>\n",
              "      <th>Man</th>\n",
              "      <td>78.0</td>\n",
              "      <td>2998.62</td>\n",
              "    </tr>\n",
              "    <tr>\n",
              "      <th>Unknow</th>\n",
              "      <td>72.0</td>\n",
              "      <td>2909.85</td>\n",
              "    </tr>\n",
              "    <tr>\n",
              "      <th>Woman</th>\n",
              "      <td>78.0</td>\n",
              "      <td>2999.98</td>\n",
              "    </tr>\n",
              "  </tbody>\n",
              "</table>\n",
              "</div>"
            ],
            "text/plain": [
              "         Age  Amount_spent\n",
              "Sex                       \n",
              "Man     78.0       2998.62\n",
              "Unknow  72.0       2909.85\n",
              "Woman   78.0       2999.98"
            ]
          },
          "execution_count": 79,
          "metadata": {},
          "output_type": "execute_result"
        }
      ],
      "source": [
        "df_col[['Age','Amount_spent','Sex']].groupby(by='Sex').agg(Age = ('Age','max'), Amount_spent = ('Amount_spent', 'max'))"
      ]
    },
    {
      "cell_type": "markdown",
      "id": "7WCCLbwfCy_q",
      "metadata": {
        "id": "7WCCLbwfCy_q"
      },
      "source": [
        "To find `mean`, `count`, and `max` values of `Age` and `Amount_spent` by `Gender` then we can use `agg()` function with `groupby()` ."
      ]
    },
    {
      "cell_type": "code",
      "execution_count": 113,
      "id": "0a39e8c6",
      "metadata": {},
      "outputs": [
        {
          "name": "stdout",
          "output_type": "stream",
          "text": [
            "Variable   Age                  Amount_spent                \n",
            "Mesure   count       mean   max        count    min      max\n",
            "Sex                                                         \n",
            "Woman     1356  46.867257  78.0         1356   2.09  2999.98\n",
            "Man       1128  46.481383  78.0         1128   2.16  2998.62\n",
            "Unknow      28  42.357143  72.0           28  52.08  2909.85\n"
          ]
        }
      ],
      "source": [
        "df_grouped = df_col.groupby('Sex').agg({\n",
        "    'Age': ['count', 'mean', 'max'],\n",
        "    'Amount_spent': ['count', 'min', 'max']\n",
        "}).sort_values(by= ('Age','count'),ascending= False)\n",
        "df_grouped.columns.names = ['Variable', 'Mesure']\n",
        "print(df_grouped)"
      ]
    },
    {
      "cell_type": "markdown",
      "id": "9umxlA7YDjvD",
      "metadata": {
        "id": "9umxlA7YDjvD"
      },
      "source": [
        "**Grouping by multiple columns:** To find total count, maximum and minimum values of Amount_spent by State_names, Gender, and Payment_method then we can pass these columns names under `groupby()` function and add `.agg()` with `count`, `mean`, `max` argument."
      ]
    },
    {
      "cell_type": "code",
      "execution_count": null,
      "id": "667947eb",
      "metadata": {
        "colab": {
          "base_uri": "https://localhost:8080/",
          "height": 553
        },
        "id": "667947eb",
        "outputId": "73bcc08e-0ed0-48bb-97db-3f827c9fe709"
      },
      "outputs": [
        {
          "data": {
            "application/vnd.microsoft.datawrangler.viewer.v0+json": {
              "columns": [
                {
                  "name": "('State_names', 'Gender', 'Payment_method')",
                  "rawType": "object",
                  "type": "unknown"
                },
                {
                  "name": "('Amount_spent', 'count')",
                  "rawType": "int64",
                  "type": "integer"
                },
                {
                  "name": "('Amount_spent', 'min')",
                  "rawType": "float64",
                  "type": "float"
                },
                {
                  "name": "('Amount_spent', 'max')",
                  "rawType": "float64",
                  "type": "float"
                }
              ],
              "conversionMethod": "pd.DataFrame",
              "ref": "350afbd6-d3ea-453b-8b53-60ab89790a6e",
              "rows": [
                [
                  "('Alabama', 'Female', 'Card')",
                  "6",
                  "413.11",
                  "2749.37"
                ],
                [
                  "('Alabama', 'Female', 'Other')",
                  "5",
                  "851.25",
                  "2789.52"
                ],
                [
                  "('Alabama', 'Female', 'PayPal')",
                  "5",
                  "77.9",
                  "2520.85"
                ]
              ],
              "shape": {
                "columns": 3,
                "rows": 3
              }
            },
            "text/html": [
              "<div>\n",
              "<style scoped>\n",
              "    .dataframe tbody tr th:only-of-type {\n",
              "        vertical-align: middle;\n",
              "    }\n",
              "\n",
              "    .dataframe tbody tr th {\n",
              "        vertical-align: top;\n",
              "    }\n",
              "\n",
              "    .dataframe thead tr th {\n",
              "        text-align: left;\n",
              "    }\n",
              "\n",
              "    .dataframe thead tr:last-of-type th {\n",
              "        text-align: right;\n",
              "    }\n",
              "</style>\n",
              "<table border=\"1\" class=\"dataframe\">\n",
              "  <thead>\n",
              "    <tr>\n",
              "      <th></th>\n",
              "      <th></th>\n",
              "      <th></th>\n",
              "      <th colspan=\"3\" halign=\"left\">Amount_spent</th>\n",
              "    </tr>\n",
              "    <tr>\n",
              "      <th></th>\n",
              "      <th></th>\n",
              "      <th></th>\n",
              "      <th>count</th>\n",
              "      <th>min</th>\n",
              "      <th>max</th>\n",
              "    </tr>\n",
              "    <tr>\n",
              "      <th>State_names</th>\n",
              "      <th>Gender</th>\n",
              "      <th>Payment_method</th>\n",
              "      <th></th>\n",
              "      <th></th>\n",
              "      <th></th>\n",
              "    </tr>\n",
              "  </thead>\n",
              "  <tbody>\n",
              "    <tr>\n",
              "      <th rowspan=\"3\" valign=\"top\">Alabama</th>\n",
              "      <th rowspan=\"3\" valign=\"top\">Female</th>\n",
              "      <th>Card</th>\n",
              "      <td>6</td>\n",
              "      <td>413.11</td>\n",
              "      <td>2749.37</td>\n",
              "    </tr>\n",
              "    <tr>\n",
              "      <th>Other</th>\n",
              "      <td>5</td>\n",
              "      <td>851.25</td>\n",
              "      <td>2789.52</td>\n",
              "    </tr>\n",
              "    <tr>\n",
              "      <th>PayPal</th>\n",
              "      <td>5</td>\n",
              "      <td>77.90</td>\n",
              "      <td>2520.85</td>\n",
              "    </tr>\n",
              "  </tbody>\n",
              "</table>\n",
              "</div>"
            ],
            "text/plain": [
              "                                  Amount_spent                 \n",
              "                                         count     min      max\n",
              "State_names Gender Payment_method                              \n",
              "Alabama     Female Card                      6  413.11  2749.37\n",
              "                   Other                     5  851.25  2789.52\n",
              "                   PayPal                    5   77.90  2520.85"
            ]
          },
          "execution_count": 70,
          "metadata": {},
          "output_type": "execute_result"
        }
      ],
      "source": [
        "#Group By multiple columns\n",
        "state_gender_res = df[['State_names','Gender','Payment_method','Amount_spent']].groupby([ 'State_names','Gender', 'Payment_method']).agg(['count', 'min', 'max'])\n",
        "state_gender_res.head(3)"
      ]
    },
    {
      "cell_type": "markdown",
      "id": "BTEMA10_JfrV",
      "metadata": {
        "id": "BTEMA10_JfrV"
      },
      "source": [
        "#### Cross Tabulation (Crosstab)"
      ]
    },
    {
      "cell_type": "markdown",
      "id": "bNNkQ9-eRclS",
      "metadata": {
        "id": "bNNkQ9-eRclS"
      },
      "source": [
        "For creating a simple crosstab between Maritatal_status and Payment_method columns we just use `crosstab()` with both column names."
      ]
    },
    {
      "cell_type": "code",
      "execution_count": null,
      "id": "_9rixwbc5VEe",
      "metadata": {
        "colab": {
          "base_uri": "https://localhost:8080/",
          "height": 207
        },
        "id": "_9rixwbc5VEe",
        "outputId": "487a2393-48ac-474f-c985-7fd3f6a25f44"
      },
      "outputs": [
        {
          "data": {
            "text/html": [
              "<div>\n",
              "<style scoped>\n",
              "    .dataframe tbody tr th:only-of-type {\n",
              "        vertical-align: middle;\n",
              "    }\n",
              "\n",
              "    .dataframe tbody tr th {\n",
              "        vertical-align: top;\n",
              "    }\n",
              "\n",
              "    .dataframe thead th {\n",
              "        text-align: right;\n",
              "    }\n",
              "</style>\n",
              "<table border=\"1\" class=\"dataframe\">\n",
              "  <thead>\n",
              "    <tr style=\"text-align: right;\">\n",
              "      <th>Payment_method</th>\n",
              "      <th>Card</th>\n",
              "      <th>Other</th>\n",
              "      <th>PayPal</th>\n",
              "    </tr>\n",
              "    <tr>\n",
              "      <th>Marital_status</th>\n",
              "      <th></th>\n",
              "      <th></th>\n",
              "      <th></th>\n",
              "    </tr>\n",
              "  </thead>\n",
              "  <tbody>\n",
              "    <tr>\n",
              "      <th>Married</th>\n",
              "      <td>440</td>\n",
              "      <td>357</td>\n",
              "      <td>667</td>\n",
              "    </tr>\n",
              "    <tr>\n",
              "      <th>Single</th>\n",
              "      <td>307</td>\n",
              "      <td>232</td>\n",
              "      <td>497</td>\n",
              "    </tr>\n",
              "  </tbody>\n",
              "</table>\n",
              "</div>"
            ],
            "text/plain": [
              "Payment_method  Card  Other  PayPal\n",
              "Marital_status                     \n",
              "Married          440    357     667\n",
              "Single           307    232     497"
            ]
          },
          "execution_count": 90,
          "metadata": {},
          "output_type": "execute_result"
        }
      ],
      "source": [
        "pd.crosstab(df.Marital_status, df.Payment_method)"
      ]
    },
    {
      "cell_type": "markdown",
      "id": "OK_gu5KFSETb",
      "metadata": {
        "id": "OK_gu5KFSETb"
      },
      "source": [
        "We can include subtotals by `margins` parameter:"
      ]
    },
    {
      "cell_type": "code",
      "execution_count": null,
      "id": "UNpAxzbLSMBJ",
      "metadata": {
        "colab": {
          "base_uri": "https://localhost:8080/",
          "height": 239
        },
        "id": "UNpAxzbLSMBJ",
        "outputId": "ef309136-ece9-4989-b294-f0648f70a879"
      },
      "outputs": [
        {
          "data": {
            "text/html": [
              "<div>\n",
              "<style scoped>\n",
              "    .dataframe tbody tr th:only-of-type {\n",
              "        vertical-align: middle;\n",
              "    }\n",
              "\n",
              "    .dataframe tbody tr th {\n",
              "        vertical-align: top;\n",
              "    }\n",
              "\n",
              "    .dataframe thead th {\n",
              "        text-align: right;\n",
              "    }\n",
              "</style>\n",
              "<table border=\"1\" class=\"dataframe\">\n",
              "  <thead>\n",
              "    <tr style=\"text-align: right;\">\n",
              "      <th>Payment_method</th>\n",
              "      <th>Card</th>\n",
              "      <th>Other</th>\n",
              "      <th>PayPal</th>\n",
              "      <th>Total</th>\n",
              "    </tr>\n",
              "    <tr>\n",
              "      <th>Marital_status</th>\n",
              "      <th></th>\n",
              "      <th></th>\n",
              "      <th></th>\n",
              "      <th></th>\n",
              "    </tr>\n",
              "  </thead>\n",
              "  <tbody>\n",
              "    <tr>\n",
              "      <th>Married</th>\n",
              "      <td>440</td>\n",
              "      <td>357</td>\n",
              "      <td>667</td>\n",
              "      <td>1464</td>\n",
              "    </tr>\n",
              "    <tr>\n",
              "      <th>Single</th>\n",
              "      <td>307</td>\n",
              "      <td>232</td>\n",
              "      <td>497</td>\n",
              "      <td>1036</td>\n",
              "    </tr>\n",
              "    <tr>\n",
              "      <th>Total</th>\n",
              "      <td>747</td>\n",
              "      <td>589</td>\n",
              "      <td>1164</td>\n",
              "      <td>2500</td>\n",
              "    </tr>\n",
              "  </tbody>\n",
              "</table>\n",
              "</div>"
            ],
            "text/plain": [
              "Payment_method  Card  Other  PayPal  Total\n",
              "Marital_status                            \n",
              "Married          440    357     667   1464\n",
              "Single           307    232     497   1036\n",
              "Total            747    589    1164   2500"
            ]
          },
          "execution_count": 91,
          "metadata": {},
          "output_type": "execute_result"
        }
      ],
      "source": [
        "pd.crosstab(df.Marital_status, df.Payment_method, margins=True, margins_name=\"Total\")"
      ]
    },
    {
      "cell_type": "markdown",
      "id": "rDLBsIoZVRUK",
      "metadata": {
        "id": "rDLBsIoZVRUK"
      },
      "source": [
        "If We want a display with percentage than `normalize=True` parameter help"
      ]
    },
    {
      "cell_type": "code",
      "execution_count": null,
      "id": "rM6o2CocVeYG",
      "metadata": {
        "colab": {
          "base_uri": "https://localhost:8080/",
          "height": 239
        },
        "id": "rM6o2CocVeYG",
        "outputId": "ca351fca-c0e5-46bf-aac3-8b05ed1a8859"
      },
      "outputs": [
        {
          "data": {
            "text/html": [
              "<div>\n",
              "<style scoped>\n",
              "    .dataframe tbody tr th:only-of-type {\n",
              "        vertical-align: middle;\n",
              "    }\n",
              "\n",
              "    .dataframe tbody tr th {\n",
              "        vertical-align: top;\n",
              "    }\n",
              "\n",
              "    .dataframe thead th {\n",
              "        text-align: right;\n",
              "    }\n",
              "</style>\n",
              "<table border=\"1\" class=\"dataframe\">\n",
              "  <thead>\n",
              "    <tr style=\"text-align: right;\">\n",
              "      <th>Payment_method</th>\n",
              "      <th>Card</th>\n",
              "      <th>Other</th>\n",
              "      <th>PayPal</th>\n",
              "      <th>Total</th>\n",
              "    </tr>\n",
              "    <tr>\n",
              "      <th>Marital_status</th>\n",
              "      <th></th>\n",
              "      <th></th>\n",
              "      <th></th>\n",
              "      <th></th>\n",
              "    </tr>\n",
              "  </thead>\n",
              "  <tbody>\n",
              "    <tr>\n",
              "      <th>Married</th>\n",
              "      <td>0.1760</td>\n",
              "      <td>0.1428</td>\n",
              "      <td>0.2668</td>\n",
              "      <td>0.5856</td>\n",
              "    </tr>\n",
              "    <tr>\n",
              "      <th>Single</th>\n",
              "      <td>0.1228</td>\n",
              "      <td>0.0928</td>\n",
              "      <td>0.1988</td>\n",
              "      <td>0.4144</td>\n",
              "    </tr>\n",
              "    <tr>\n",
              "      <th>Total</th>\n",
              "      <td>0.2988</td>\n",
              "      <td>0.2356</td>\n",
              "      <td>0.4656</td>\n",
              "      <td>1.0000</td>\n",
              "    </tr>\n",
              "  </tbody>\n",
              "</table>\n",
              "</div>"
            ],
            "text/plain": [
              "Payment_method    Card   Other  PayPal   Total\n",
              "Marital_status                                \n",
              "Married         0.1760  0.1428  0.2668  0.5856\n",
              "Single          0.1228  0.0928  0.1988  0.4144\n",
              "Total           0.2988  0.2356  0.4656  1.0000"
            ]
          },
          "execution_count": 76,
          "metadata": {},
          "output_type": "execute_result"
        }
      ],
      "source": [
        "pd.crosstab(df.Marital_status, df.Payment_method, normalize=True, margins=True, margins_name=\"Total\")"
      ]
    },
    {
      "cell_type": "markdown",
      "id": "D3GJPV8aVxsD",
      "metadata": {
        "id": "D3GJPV8aVxsD"
      },
      "source": [
        "In this crosstab features, we can pass multiple columns names for grouping and analyzing data. For instance, If we want to see how the `Payment_method` and `Employees_status` are distributed by `Marital_status` then we will pass these columns' names in `crosstab()` function and it will show below."
      ]
    },
    {
      "cell_type": "code",
      "execution_count": null,
      "id": "uIHl15rL6fzm",
      "metadata": {
        "colab": {
          "base_uri": "https://localhost:8080/",
          "height": 256
        },
        "id": "uIHl15rL6fzm",
        "outputId": "bd6a1d6c-33c9-48c5-f616-9f103157da86"
      },
      "outputs": [
        {
          "data": {
            "text/html": [
              "<div>\n",
              "<style scoped>\n",
              "    .dataframe tbody tr th:only-of-type {\n",
              "        vertical-align: middle;\n",
              "    }\n",
              "\n",
              "    .dataframe tbody tr th {\n",
              "        vertical-align: top;\n",
              "    }\n",
              "\n",
              "    .dataframe thead tr th {\n",
              "        text-align: left;\n",
              "    }\n",
              "\n",
              "    .dataframe thead tr:last-of-type th {\n",
              "        text-align: right;\n",
              "    }\n",
              "</style>\n",
              "<table border=\"1\" class=\"dataframe\">\n",
              "  <thead>\n",
              "    <tr>\n",
              "      <th>Payment_method</th>\n",
              "      <th colspan=\"4\" halign=\"left\">Card</th>\n",
              "      <th colspan=\"4\" halign=\"left\">Other</th>\n",
              "      <th colspan=\"4\" halign=\"left\">PayPal</th>\n",
              "    </tr>\n",
              "    <tr>\n",
              "      <th>Employees_status</th>\n",
              "      <th>Employees</th>\n",
              "      <th>Unemployment</th>\n",
              "      <th>self-employed</th>\n",
              "      <th>workers</th>\n",
              "      <th>Employees</th>\n",
              "      <th>Unemployment</th>\n",
              "      <th>self-employed</th>\n",
              "      <th>workers</th>\n",
              "      <th>Employees</th>\n",
              "      <th>Unemployment</th>\n",
              "      <th>self-employed</th>\n",
              "      <th>workers</th>\n",
              "    </tr>\n",
              "    <tr>\n",
              "      <th>Marital_status</th>\n",
              "      <th></th>\n",
              "      <th></th>\n",
              "      <th></th>\n",
              "      <th></th>\n",
              "      <th></th>\n",
              "      <th></th>\n",
              "      <th></th>\n",
              "      <th></th>\n",
              "      <th></th>\n",
              "      <th></th>\n",
              "      <th></th>\n",
              "      <th></th>\n",
              "    </tr>\n",
              "  </thead>\n",
              "  <tbody>\n",
              "    <tr>\n",
              "      <th>Married</th>\n",
              "      <td>185</td>\n",
              "      <td>38</td>\n",
              "      <td>81</td>\n",
              "      <td>136</td>\n",
              "      <td>127</td>\n",
              "      <td>39</td>\n",
              "      <td>78</td>\n",
              "      <td>113</td>\n",
              "      <td>265</td>\n",
              "      <td>66</td>\n",
              "      <td>120</td>\n",
              "      <td>216</td>\n",
              "    </tr>\n",
              "    <tr>\n",
              "      <th>Single</th>\n",
              "      <td>117</td>\n",
              "      <td>37</td>\n",
              "      <td>57</td>\n",
              "      <td>96</td>\n",
              "      <td>96</td>\n",
              "      <td>17</td>\n",
              "      <td>43</td>\n",
              "      <td>76</td>\n",
              "      <td>178</td>\n",
              "      <td>55</td>\n",
              "      <td>106</td>\n",
              "      <td>158</td>\n",
              "    </tr>\n",
              "  </tbody>\n",
              "</table>\n",
              "</div>"
            ],
            "text/plain": [
              "Payment_method        Card                                        Other  \\\n",
              "Employees_status Employees Unemployment self-employed workers Employees   \n",
              "Marital_status                                                            \n",
              "Married                185           38            81     136       127   \n",
              "Single                 117           37            57      96        96   \n",
              "\n",
              "Payment_method                                         PayPal               \\\n",
              "Employees_status Unemployment self-employed workers Employees Unemployment   \n",
              "Marital_status                                                               \n",
              "Married                    39            78     113       265           66   \n",
              "Single                     17            43      76       178           55   \n",
              "\n",
              "Payment_method                          \n",
              "Employees_status self-employed workers  \n",
              "Marital_status                          \n",
              "Married                    120     216  \n",
              "Single                     106     158  "
            ]
          },
          "execution_count": 77,
          "metadata": {},
          "output_type": "execute_result"
        }
      ],
      "source": [
        "pd.crosstab(df.Marital_status, [df.Payment_method, df.Employees_status])"
      ]
    }
  ],
  "metadata": {
    "colab": {
      "collapsed_sections": [
        "44ff83e8",
        "5UgQzwrITZk3",
        "6bxAq9hnUK4R",
        "2980dcd0",
        "QyO24xKLTEEm",
        "YC_ucd2fXzjD",
        "d9d6f71f",
        "4e3b208b",
        "CZnzwDXQg35f",
        "x0r-TXU244iu",
        "2c7fbc9c"
      ],
      "provenance": []
    },
    "kernelspec": {
      "display_name": "Python 3",
      "language": "python",
      "name": "python3"
    },
    "language_info": {
      "codemirror_mode": {
        "name": "ipython",
        "version": 3
      },
      "file_extension": ".py",
      "mimetype": "text/x-python",
      "name": "python",
      "nbconvert_exporter": "python",
      "pygments_lexer": "ipython3",
      "version": "3.11.9"
    }
  },
  "nbformat": 4,
  "nbformat_minor": 5
}
